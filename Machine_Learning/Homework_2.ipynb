{
 "cells": [
  {
   "cell_type": "markdown",
   "metadata": {},
   "source": [
    "# Домашнее задание \"Функции потерь и оптимизация\"\n",
    "1. Прочитать про методы оптимизации для нейронных сетей https://habr.com/post/318970/\n",
    "\n",
    "Взять код градиентного спуска для линейной регрессии (с занятия) и обучить ее\n",
    "\n",
    "Методом nesterov momentum\n",
    "\n",
    "Методом rmsprop\n",
    "\n",
    "2. Задание со звездочкой - доработать код логистической регрессии из первого занятия и обучить ее теми же методами для задачи классификации Ирисов (взять только два цветка - Iris Versicolor и Iris Virginica)"
   ]
  },
  {
   "cell_type": "code",
   "execution_count": 1,
   "metadata": {},
   "outputs": [],
   "source": [
    "import numpy as np\n",
    "import matplotlib.pyplot as plt\n",
    "%matplotlib inline"
   ]
  },
  {
   "cell_type": "code",
   "execution_count": 2,
   "metadata": {},
   "outputs": [
    {
     "data": {
      "image/png": "[encoded data removed]",
      "text/plain": [
       "<Figure size 432x288 with 1 Axes>"
      ]
     },
     "metadata": {
      "needs_background": "light"
     },
     "output_type": "display_data"
    }
   ],
   "source": [
    "N = 100\n",
    "X = np.random.uniform(low=0, high=100, size=N)\n",
    "Y = 2*X + 1 + np.random.normal(scale=5, size=N)\n",
    "\n",
    "plt.scatter(X, Y)\n",
    "plt.show()"
   ]
  },
  {
   "cell_type": "code",
   "execution_count": 3,
   "metadata": {},
   "outputs": [],
   "source": [
    "def cost_function(X, y, theta0, theta1):\n",
    "    total_cost = 0\n",
    "    for i in range(len(X)):\n",
    "        total_cost += (theta0 + theta1*X[i] - y[i]) ** 2\n",
    "    return total_cost / (2 * len(X))"
   ]
  },
  {
   "cell_type": "code",
   "execution_count": 4,
   "metadata": {},
   "outputs": [],
   "source": [
    "def der_theta0(X, y, theta0, theta1):\n",
    "    total_cost = 0\n",
    "    for i in range(len(X)):\n",
    "        total_cost += (theta0 + theta1*X[i] - y[i])\n",
    "    return total_cost / (len(X))    \n",
    "\n",
    "def der_theta1(X, y, theta0, theta1):\n",
    "    total_cost = 0\n",
    "    for i in range(len(X)):\n",
    "        total_cost += (theta0 + theta1*X[i] - y[i]) * X[i]\n",
    "    return total_cost / (len(X))  "
   ]
  },
  {
   "cell_type": "markdown",
   "metadata": {},
   "source": [
    "### Метод Нестерова"
   ]
  },
  {
   "cell_type": "code",
   "execution_count": 6,
   "metadata": {},
   "outputs": [
    {
     "name": "stdout",
     "output_type": "stream",
     "text": [
      "theta0[2]: 1.0047101279586397 theta1[2]: 1.3006925319532774 cost: 745.7063093737149 \n",
      "\n",
      "theta0[3]: 1.0098912687131434 theta1[3]: 1.6314543171018825 cost: 214.73216880873875 \n",
      "\n",
      "theta0[4]: 1.0135639542114427 theta1[4]: 1.8657253318429141 cost: 37.79885629165399 \n",
      "\n",
      "theta0[5]: 1.0155160962252783 theta1[5]: 1.9899450493094721 cost: 10.97688965500044 \n",
      "\n",
      "theta0[6]: 1.0162397975480468 theta1[6]: 2.03559025222455 cost: 12.785724171263587 \n",
      "\n",
      "theta0[7]: 1.0163082114535413 theta1[7]: 2.0393214667095503 cost: 13.210771844197176 \n",
      "\n",
      "theta0[8]: 1.016133381772089 theta1[8]: 2.0274941647835827 cost: 12.007565082381639 \n",
      "\n",
      "theta0[9]: 1.0159363909471613 theta1[9]: 2.0142493935488455 cost: 11.159727092364397 \n",
      "\n",
      "theta0[10]: 1.0158001232777467 theta1[10]: 2.0048886628212794 cost: 10.878855853729247 \n",
      "\n",
      "theta0[11]: 1.0157328830173065 theta1[11]: 1.999943135700931 cost: 10.836901863373312 \n",
      "\n",
      "theta0[12]: 1.0157147408773575 theta1[12]: 1.9981380795933241 cost: 10.839918812029387 \n",
      "\n",
      "theta0[13]: 1.0157226896520275 theta1[13]: 1.9980018897662082 cost: 10.840542564765832 \n",
      "\n",
      "theta0[14]: 1.0157402586484379 theta1[14]: 1.9984810549969303 cost: 10.838588129291841 \n",
      "\n",
      "theta0[15]: 1.0157586442937632 theta1[15]: 1.9990124743374127 cost: 10.83722916757029 \n",
      "\n",
      "theta0[16]: 1.0157745677086663 theta1[16]: 1.9993864215659287 cost: 10.836782240961613 \n",
      "\n",
      "theta0[17]: 1.0157877200803305 theta1[17]: 1.9995831441572316 cost: 10.836715726088666 \n",
      "\n",
      "theta0[18]: 1.015798909743843 theta1[18]: 1.999654345466022 cost: 10.83671983219824 \n",
      "\n",
      "theta0[19]: 1.0158090603005385 theta1[19]: 1.9996591015960823 cost: 10.836719828161756 \n",
      "\n"
     ]
    }
   ],
   "source": [
    "EPOCHS = 20\n",
    "LEARNING_RATE = 0.0001\n",
    "\n",
    "theta0 = np.ones((EPOCHS,))\n",
    "theta1 = np.ones((EPOCHS,))\n",
    "\n",
    "vk_0 = 1\n",
    "vk_1 = 1\n",
    "\n",
    "betta = 0.1\n",
    "\n",
    "for k in range(1,EPOCHS-1):\n",
    "    dt0 = der_theta0(X, Y, vk_0, vk_1)\n",
    "    dt1 = der_theta1(X, Y, vk_0, vk_1)\n",
    "    \n",
    "    vk_0 = theta0[k] + betta*(theta0[k] - theta0[k-1])\n",
    "    theta0[k+1] = vk_0 - LEARNING_RATE * dt0\n",
    "    \n",
    "    vk_1 = theta1[k] + betta*(theta1[k] - theta1[k-1])\n",
    "    theta1[k+1] = vk_1 - LEARNING_RATE * dt1\n",
    "    \n",
    "    print(f\"theta0[{k+1}]:\", theta0[k+1], f\"theta1[{k+1}]:\", theta1[k+1], \"cost:\", cost_function(X, Y, theta0[k+1], theta1[k+1]), '\\n')\n"
   ]
  },
  {
   "cell_type": "code",
   "execution_count": 7,
   "metadata": {},
   "outputs": [],
   "source": [
    "preds = theta0[EPOCHS-1] + theta1[EPOCHS-1] * X"
   ]
  },
  {
   "cell_type": "code",
   "execution_count": 8,
   "metadata": {},
   "outputs": [
    {
     "data": {
      "image/png": "[encoded data removed]",
      "text/plain": [
       "<Figure size 432x288 with 1 Axes>"
      ]
     },
     "metadata": {
      "needs_background": "light"
     },
     "output_type": "display_data"
    }
   ],
   "source": [
    "plt.scatter(X, Y, color='blue')\n",
    "plt.scatter(X, preds, color='red')\n",
    "plt.show()"
   ]
  },
  {
   "cell_type": "markdown",
   "metadata": {},
   "source": [
    "# Метод rmsprop"
   ]
  },
  {
   "cell_type": "code",
   "execution_count": 9,
   "metadata": {},
   "outputs": [
    {
     "name": "stdout",
     "output_type": "stream",
     "text": [
      "theta0: 4.533941344918949, theta1: 4.535533514903121, cost: 10106.430258302098 \n",
      "\n",
      "theta0: 1.2325439155877387, theta1: 1.2360106140623448, cost: 879.8084891120241 \n",
      "\n",
      "theta0: 2.163769784022711, theta1: 2.17191730725285, cost: 65.34432612294334 \n",
      "\n",
      "theta0: 1.925297277433532, theta1: 1.9375989630328996, cost: 14.296400148364528 \n",
      "\n",
      "theta0: 1.9799981470115877, theta1: 1.9965776046100643, cost: 11.091035466549304 \n",
      "\n",
      "theta0: 1.9608542813729997, theta1: 1.9816582419574684, cost: 10.88441611515285 \n",
      "\n",
      "theta0: 1.960562970486751, theta1: 1.9855820615462365, cost: 10.870188346258717 \n",
      "\n",
      "theta0: 1.955427630414048, theta1: 1.9846411884314132, cost: 10.868616409712661 \n",
      "\n",
      "theta0: 1.951580891869064, theta1: 1.984971187289178, cost: 10.867903904764448 \n",
      "\n",
      "theta0: 1.9474161447334248, theta1: 1.984964687684052, cost: 10.867257502793262 \n",
      "\n"
     ]
    }
   ],
   "source": [
    "EPOCHS = 10\n",
    "LEARNING_RATE = 0.25\n",
    "\n",
    "theta0 = 1\n",
    "theta1 = 1\n",
    "\n",
    "EG_0 = 0\n",
    "EG_1 = 0\n",
    "\n",
    "gamma = 0.995\n",
    "eps = 0.01\n",
    "\n",
    "for k in range(EPOCHS):\n",
    "    dt0 = der_theta0(X, Y, theta0, theta1)\n",
    "    dt1 = der_theta1(X, Y, theta0, theta1)\n",
    "    \n",
    "    EG_0 = gamma*EG_0 + (1-gamma)*dt0*dt0\n",
    "    theta0 = theta0 - LEARNING_RATE/np.sqrt(EG_0 + eps)*dt0\n",
    "        \n",
    "    EG_1 = gamma*EG_1 + (1-gamma)*dt1*dt1\n",
    "    theta1 = theta1 - LEARNING_RATE/np.sqrt(EG_1 + eps)*dt1\n",
    "    \n",
    "    print(f\"theta0: {theta0}, theta1: {theta1}, cost: {cost_function(X, Y, theta0, theta1)} \\n\")"
   ]
  },
  {
   "cell_type": "code",
   "execution_count": 10,
   "metadata": {},
   "outputs": [],
   "source": [
    "preds = theta0 + theta1 * X"
   ]
  },
  {
   "cell_type": "code",
   "execution_count": 11,
   "metadata": {},
   "outputs": [
    {
     "data": {
      "image/png": "[encoded data removed]",
      "text/plain": [
       "<Figure size 432x288 with 1 Axes>"
      ]
     },
     "metadata": {
      "needs_background": "light"
     },
     "output_type": "display_data"
    }
   ],
   "source": [
    "plt.scatter(X, Y, color='blue')\n",
    "plt.scatter(X, preds, color='red')\n",
    "plt.show()"
   ]
  },
  {
   "cell_type": "code",
   "execution_count": null,
   "metadata": {},
   "outputs": [],
   "source": []
  },
  {
   "cell_type": "markdown",
   "metadata": {},
   "source": [
    "### 2. Задание со звездочкой  \n",
    "доработать код логистической регрессии из первого занятия и обучить ее теми же методами для задачи классификации Ирисов (взять только два цветка - Iris Versicolor и Iris Virginica)"
   ]
  },
  {
   "cell_type": "code",
   "execution_count": 12,
   "metadata": {},
   "outputs": [],
   "source": [
    "from sklearn.datasets import load_iris\n",
    "from sklearn.linear_model import LogisticRegression\n",
    "import pandas as pd"
   ]
  },
  {
   "cell_type": "code",
   "execution_count": 13,
   "metadata": {},
   "outputs": [
    {
     "data": {
      "text/html": [
       "<div>\n",
       "<style scoped>\n",
       "    .dataframe tbody tr th:only-of-type {\n",
       "        vertical-align: middle;\n",
       "    }\n",
       "\n",
       "    .dataframe tbody tr th {\n",
       "        vertical-align: top;\n",
       "    }\n",
       "\n",
       "    .dataframe thead th {\n",
       "        text-align: right;\n",
       "    }\n",
       "</style>\n",
       "<table border=\"1\" class=\"dataframe\">\n",
       "  <thead>\n",
       "    <tr style=\"text-align: right;\">\n",
       "      <th></th>\n",
       "      <th>sepal length (cm)</th>\n",
       "      <th>sepal width (cm)</th>\n",
       "      <th>petal length (cm)</th>\n",
       "      <th>petal width (cm)</th>\n",
       "    </tr>\n",
       "  </thead>\n",
       "  <tbody>\n",
       "    <tr>\n",
       "      <th>0</th>\n",
       "      <td>5.1</td>\n",
       "      <td>3.5</td>\n",
       "      <td>1.4</td>\n",
       "      <td>0.2</td>\n",
       "    </tr>\n",
       "    <tr>\n",
       "      <th>1</th>\n",
       "      <td>4.9</td>\n",
       "      <td>3.0</td>\n",
       "      <td>1.4</td>\n",
       "      <td>0.2</td>\n",
       "    </tr>\n",
       "    <tr>\n",
       "      <th>2</th>\n",
       "      <td>4.7</td>\n",
       "      <td>3.2</td>\n",
       "      <td>1.3</td>\n",
       "      <td>0.2</td>\n",
       "    </tr>\n",
       "    <tr>\n",
       "      <th>3</th>\n",
       "      <td>4.6</td>\n",
       "      <td>3.1</td>\n",
       "      <td>1.5</td>\n",
       "      <td>0.2</td>\n",
       "    </tr>\n",
       "    <tr>\n",
       "      <th>4</th>\n",
       "      <td>5.0</td>\n",
       "      <td>3.6</td>\n",
       "      <td>1.4</td>\n",
       "      <td>0.2</td>\n",
       "    </tr>\n",
       "  </tbody>\n",
       "</table>\n",
       "</div>"
      ],
      "text/plain": [
       "   sepal length (cm)  sepal width (cm)  petal length (cm)  petal width (cm)\n",
       "0                5.1               3.5                1.4               0.2\n",
       "1                4.9               3.0                1.4               0.2\n",
       "2                4.7               3.2                1.3               0.2\n",
       "3                4.6               3.1                1.5               0.2\n",
       "4                5.0               3.6                1.4               0.2"
      ]
     },
     "execution_count": 13,
     "metadata": {},
     "output_type": "execute_result"
    }
   ],
   "source": [
    "iris = load_iris()\n",
    "# загружаем данные в датафрейм\n",
    "data = pd.DataFrame(iris.data, columns=iris.feature_names)\n",
    "data_class = iris.target\n",
    "data.head()"
   ]
  },
  {
   "cell_type": "code",
   "execution_count": 14,
   "metadata": {},
   "outputs": [
    {
     "data": {
      "text/html": [
       "<div>\n",
       "<style scoped>\n",
       "    .dataframe tbody tr th:only-of-type {\n",
       "        vertical-align: middle;\n",
       "    }\n",
       "\n",
       "    .dataframe tbody tr th {\n",
       "        vertical-align: top;\n",
       "    }\n",
       "\n",
       "    .dataframe thead th {\n",
       "        text-align: right;\n",
       "    }\n",
       "</style>\n",
       "<table border=\"1\" class=\"dataframe\">\n",
       "  <thead>\n",
       "    <tr style=\"text-align: right;\">\n",
       "      <th></th>\n",
       "      <th>sepal length (cm)</th>\n",
       "      <th>sepal width (cm)</th>\n",
       "      <th>petal length (cm)</th>\n",
       "      <th>petal width (cm)</th>\n",
       "      <th>target</th>\n",
       "    </tr>\n",
       "  </thead>\n",
       "  <tbody>\n",
       "    <tr>\n",
       "      <th>0</th>\n",
       "      <td>5.1</td>\n",
       "      <td>3.5</td>\n",
       "      <td>1.4</td>\n",
       "      <td>0.2</td>\n",
       "      <td>0</td>\n",
       "    </tr>\n",
       "    <tr>\n",
       "      <th>1</th>\n",
       "      <td>4.9</td>\n",
       "      <td>3.0</td>\n",
       "      <td>1.4</td>\n",
       "      <td>0.2</td>\n",
       "      <td>0</td>\n",
       "    </tr>\n",
       "    <tr>\n",
       "      <th>2</th>\n",
       "      <td>4.7</td>\n",
       "      <td>3.2</td>\n",
       "      <td>1.3</td>\n",
       "      <td>0.2</td>\n",
       "      <td>0</td>\n",
       "    </tr>\n",
       "    <tr>\n",
       "      <th>3</th>\n",
       "      <td>4.6</td>\n",
       "      <td>3.1</td>\n",
       "      <td>1.5</td>\n",
       "      <td>0.2</td>\n",
       "      <td>0</td>\n",
       "    </tr>\n",
       "    <tr>\n",
       "      <th>4</th>\n",
       "      <td>5.0</td>\n",
       "      <td>3.6</td>\n",
       "      <td>1.4</td>\n",
       "      <td>0.2</td>\n",
       "      <td>0</td>\n",
       "    </tr>\n",
       "    <tr>\n",
       "      <th>...</th>\n",
       "      <td>...</td>\n",
       "      <td>...</td>\n",
       "      <td>...</td>\n",
       "      <td>...</td>\n",
       "      <td>...</td>\n",
       "    </tr>\n",
       "    <tr>\n",
       "      <th>145</th>\n",
       "      <td>6.7</td>\n",
       "      <td>3.0</td>\n",
       "      <td>5.2</td>\n",
       "      <td>2.3</td>\n",
       "      <td>2</td>\n",
       "    </tr>\n",
       "    <tr>\n",
       "      <th>146</th>\n",
       "      <td>6.3</td>\n",
       "      <td>2.5</td>\n",
       "      <td>5.0</td>\n",
       "      <td>1.9</td>\n",
       "      <td>2</td>\n",
       "    </tr>\n",
       "    <tr>\n",
       "      <th>147</th>\n",
       "      <td>6.5</td>\n",
       "      <td>3.0</td>\n",
       "      <td>5.2</td>\n",
       "      <td>2.0</td>\n",
       "      <td>2</td>\n",
       "    </tr>\n",
       "    <tr>\n",
       "      <th>148</th>\n",
       "      <td>6.2</td>\n",
       "      <td>3.4</td>\n",
       "      <td>5.4</td>\n",
       "      <td>2.3</td>\n",
       "      <td>2</td>\n",
       "    </tr>\n",
       "    <tr>\n",
       "      <th>149</th>\n",
       "      <td>5.9</td>\n",
       "      <td>3.0</td>\n",
       "      <td>5.1</td>\n",
       "      <td>1.8</td>\n",
       "      <td>2</td>\n",
       "    </tr>\n",
       "  </tbody>\n",
       "</table>\n",
       "<p>150 rows × 5 columns</p>\n",
       "</div>"
      ],
      "text/plain": [
       "     sepal length (cm)  sepal width (cm)  petal length (cm)  petal width (cm)  \\\n",
       "0                  5.1               3.5                1.4               0.2   \n",
       "1                  4.9               3.0                1.4               0.2   \n",
       "2                  4.7               3.2                1.3               0.2   \n",
       "3                  4.6               3.1                1.5               0.2   \n",
       "4                  5.0               3.6                1.4               0.2   \n",
       "..                 ...               ...                ...               ...   \n",
       "145                6.7               3.0                5.2               2.3   \n",
       "146                6.3               2.5                5.0               1.9   \n",
       "147                6.5               3.0                5.2               2.0   \n",
       "148                6.2               3.4                5.4               2.3   \n",
       "149                5.9               3.0                5.1               1.8   \n",
       "\n",
       "     target  \n",
       "0         0  \n",
       "1         0  \n",
       "2         0  \n",
       "3         0  \n",
       "4         0  \n",
       "..      ...  \n",
       "145       2  \n",
       "146       2  \n",
       "147       2  \n",
       "148       2  \n",
       "149       2  \n",
       "\n",
       "[150 rows x 5 columns]"
      ]
     },
     "execution_count": 14,
     "metadata": {},
     "output_type": "execute_result"
    }
   ],
   "source": [
    "data['target'] = data_class\n",
    "data"
   ]
  },
  {
   "cell_type": "code",
   "execution_count": 15,
   "metadata": {},
   "outputs": [
    {
     "data": {
      "text/html": [
       "<div>\n",
       "<style scoped>\n",
       "    .dataframe tbody tr th:only-of-type {\n",
       "        vertical-align: middle;\n",
       "    }\n",
       "\n",
       "    .dataframe tbody tr th {\n",
       "        vertical-align: top;\n",
       "    }\n",
       "\n",
       "    .dataframe thead th {\n",
       "        text-align: right;\n",
       "    }\n",
       "</style>\n",
       "<table border=\"1\" class=\"dataframe\">\n",
       "  <thead>\n",
       "    <tr style=\"text-align: right;\">\n",
       "      <th></th>\n",
       "      <th>sepal length (cm)</th>\n",
       "      <th>sepal width (cm)</th>\n",
       "      <th>petal length (cm)</th>\n",
       "      <th>petal width (cm)</th>\n",
       "      <th>target</th>\n",
       "    </tr>\n",
       "  </thead>\n",
       "  <tbody>\n",
       "    <tr>\n",
       "      <th>50</th>\n",
       "      <td>7.0</td>\n",
       "      <td>3.2</td>\n",
       "      <td>4.7</td>\n",
       "      <td>1.4</td>\n",
       "      <td>1</td>\n",
       "    </tr>\n",
       "    <tr>\n",
       "      <th>51</th>\n",
       "      <td>6.4</td>\n",
       "      <td>3.2</td>\n",
       "      <td>4.5</td>\n",
       "      <td>1.5</td>\n",
       "      <td>1</td>\n",
       "    </tr>\n",
       "    <tr>\n",
       "      <th>52</th>\n",
       "      <td>6.9</td>\n",
       "      <td>3.1</td>\n",
       "      <td>4.9</td>\n",
       "      <td>1.5</td>\n",
       "      <td>1</td>\n",
       "    </tr>\n",
       "    <tr>\n",
       "      <th>53</th>\n",
       "      <td>5.5</td>\n",
       "      <td>2.3</td>\n",
       "      <td>4.0</td>\n",
       "      <td>1.3</td>\n",
       "      <td>1</td>\n",
       "    </tr>\n",
       "    <tr>\n",
       "      <th>54</th>\n",
       "      <td>6.5</td>\n",
       "      <td>2.8</td>\n",
       "      <td>4.6</td>\n",
       "      <td>1.5</td>\n",
       "      <td>1</td>\n",
       "    </tr>\n",
       "    <tr>\n",
       "      <th>...</th>\n",
       "      <td>...</td>\n",
       "      <td>...</td>\n",
       "      <td>...</td>\n",
       "      <td>...</td>\n",
       "      <td>...</td>\n",
       "    </tr>\n",
       "    <tr>\n",
       "      <th>145</th>\n",
       "      <td>6.7</td>\n",
       "      <td>3.0</td>\n",
       "      <td>5.2</td>\n",
       "      <td>2.3</td>\n",
       "      <td>2</td>\n",
       "    </tr>\n",
       "    <tr>\n",
       "      <th>146</th>\n",
       "      <td>6.3</td>\n",
       "      <td>2.5</td>\n",
       "      <td>5.0</td>\n",
       "      <td>1.9</td>\n",
       "      <td>2</td>\n",
       "    </tr>\n",
       "    <tr>\n",
       "      <th>147</th>\n",
       "      <td>6.5</td>\n",
       "      <td>3.0</td>\n",
       "      <td>5.2</td>\n",
       "      <td>2.0</td>\n",
       "      <td>2</td>\n",
       "    </tr>\n",
       "    <tr>\n",
       "      <th>148</th>\n",
       "      <td>6.2</td>\n",
       "      <td>3.4</td>\n",
       "      <td>5.4</td>\n",
       "      <td>2.3</td>\n",
       "      <td>2</td>\n",
       "    </tr>\n",
       "    <tr>\n",
       "      <th>149</th>\n",
       "      <td>5.9</td>\n",
       "      <td>3.0</td>\n",
       "      <td>5.1</td>\n",
       "      <td>1.8</td>\n",
       "      <td>2</td>\n",
       "    </tr>\n",
       "  </tbody>\n",
       "</table>\n",
       "<p>100 rows × 5 columns</p>\n",
       "</div>"
      ],
      "text/plain": [
       "     sepal length (cm)  sepal width (cm)  petal length (cm)  petal width (cm)  \\\n",
       "50                 7.0               3.2                4.7               1.4   \n",
       "51                 6.4               3.2                4.5               1.5   \n",
       "52                 6.9               3.1                4.9               1.5   \n",
       "53                 5.5               2.3                4.0               1.3   \n",
       "54                 6.5               2.8                4.6               1.5   \n",
       "..                 ...               ...                ...               ...   \n",
       "145                6.7               3.0                5.2               2.3   \n",
       "146                6.3               2.5                5.0               1.9   \n",
       "147                6.5               3.0                5.2               2.0   \n",
       "148                6.2               3.4                5.4               2.3   \n",
       "149                5.9               3.0                5.1               1.8   \n",
       "\n",
       "     target  \n",
       "50        1  \n",
       "51        1  \n",
       "52        1  \n",
       "53        1  \n",
       "54        1  \n",
       "..      ...  \n",
       "145       2  \n",
       "146       2  \n",
       "147       2  \n",
       "148       2  \n",
       "149       2  \n",
       "\n",
       "[100 rows x 5 columns]"
      ]
     },
     "execution_count": 15,
     "metadata": {},
     "output_type": "execute_result"
    }
   ],
   "source": [
    "# убираем сентозу\n",
    "data_clean = data[data['target'] != 0]\n",
    "data_clean"
   ]
  },
  {
   "cell_type": "code",
   "execution_count": 16,
   "metadata": {},
   "outputs": [],
   "source": [
    "X = data_clean.iloc[:, 0:-1].to_numpy()\n",
    "Y = data_clean.iloc[:, -1].to_numpy()"
   ]
  },
  {
   "cell_type": "code",
   "execution_count": null,
   "metadata": {},
   "outputs": [],
   "source": []
  },
  {
   "cell_type": "code",
   "execution_count": 17,
   "metadata": {},
   "outputs": [],
   "source": [
    "#  Cross-Entropy-функция потери, которую будем минимизировать\n",
    "def Cross_Entropy_function(X, y, theta0, theta):\n",
    "    total_cost = 0\n",
    "    for i in range(len(X)):\n",
    "        total_cost -= ((1 - y[i]) * (theta0 + np.dot(theta, X.T[:, i])) -  np.log(1 + np.exp(theta0 + np.dot(theta, X.T[:, i])))) \n",
    "    return total_cost "
   ]
  },
  {
   "cell_type": "code",
   "execution_count": 18,
   "metadata": {},
   "outputs": [],
   "source": [
    "# производная по тетта0\n",
    "def der_theta0(X, y, theta0, theta):\n",
    "    total_cost = 0\n",
    "    for i in range(len(X)):\n",
    "        total_cost -= (1 - y[i] - 1 / (1 + np.exp(theta0 + np.dot(theta, X.T[:, i]))) * np.exp(theta0 + np.dot(theta, X.T[:, i])) ) \n",
    "    return total_cost "
   ]
  },
  {
   "cell_type": "code",
   "execution_count": 19,
   "metadata": {},
   "outputs": [],
   "source": [
    "# производная по остальным тетта\n",
    "def der_theta(X, y, theta0, theta, n):\n",
    "    \"\"\" n - номер тетта (0, 1, 2, 3)\"\"\"\n",
    "    total_cost = 0\n",
    "    for i in range(len(X)):\n",
    "        total_cost -= ((1 - y[i]) * X.T[n, i] - 1 / (1 + np.exp(theta0 + np.dot(theta, X.T[:, i]))) * np.exp(theta0 + np.dot(theta, X.T[:, i])) * X.T[n, i] ) \n",
    "    return total_cost "
   ]
  },
  {
   "cell_type": "markdown",
   "metadata": {},
   "source": [
    "### Метод Нестерова"
   ]
  },
  {
   "cell_type": "code",
   "execution_count": 20,
   "metadata": {},
   "outputs": [
    {
     "name": "stdout",
     "output_type": "stream",
     "text": [
      "theta0[2]: 0.9925000014490444, theta[2]: [0.95222001 0.978205   0.96159001 0.986555  ], Cross_Entropy: 2489.194129661246\n",
      "\n",
      "theta0[3]: 0.977687504310907, theta[3]: [0.85785452 0.93515989 0.88573027 0.96000113], Cross_Entropy: 2312.617523543695\n",
      "\n",
      "theta0[4]: 0.9557453233436612, theta[4]: [0.7180682  0.87139592 0.77335707 0.92066613], Cross_Entropy: 2051.0497774333203\n",
      "\n",
      "theta0[5]: 0.926851712427749, theta[5]: [0.53399662 0.78743117 0.62538341 0.86886962], Cross_Entropy: 1706.6182060298527\n",
      "\n",
      "theta0[6]: 0.8911805465256323, theta[6]: [0.30674743 0.68377154 0.44270117 0.80492446], Cross_Entropy: 1281.4277254777405\n",
      "\n",
      "theta0[7]: 0.8489023371988726, theta[7]: [0.03740652 0.56092385 0.22621049 0.72916205], Cross_Entropy: 778.2208652895878\n",
      "\n",
      "theta0[8]: 0.8002039631012147, theta[8]: [-0.27283845  0.41976213 -0.02228623  0.64283202], Cross_Entropy: 223.5224104208114\n",
      "\n",
      "theta0[9]: 0.7459306502620978, theta[9]: [-0.61851039  0.26889605 -0.28578657  0.55275566], Cross_Entropy: -143.56445683077214\n",
      "\n",
      "theta0[10]: 0.6900738541180044, theta[10]: [-0.97453958  0.11423563 -0.55671614  0.45985319], Cross_Entropy: -377.35912427327634\n",
      "\n",
      "theta0[11]: 0.6331058466295052, theta[11]: [-1.3381797  -0.04399566 -0.83475492  0.36420805], Cross_Entropy: -610.5142305186992\n",
      "\n",
      "theta0[12]: 0.5750618774812436, theta[12]: [-1.70919966 -0.20570622 -1.11972278  0.26588902], Cross_Entropy: -848.746208884827\n",
      "\n",
      "theta0[13]: 0.5159690037306424, theta[13]: [-2.08741414 -0.37080901 -1.41144644  0.16496297], Cross_Entropy: -1092.0418505940524\n",
      "\n",
      "theta0[14]: 0.4558534517269385, theta[14]: [-2.47264327 -0.53921924 -1.70975701  0.06149508], Cross_Entropy: -1340.2770165337918\n",
      "\n"
     ]
    }
   ],
   "source": [
    "EPOCHS = 15\n",
    "LEARNING_RATE = 0.00005\n",
    "\n",
    "theta0 = np.ones((EPOCHS,))\n",
    "theta = np.ones((EPOCHS, 4))\n",
    "dt = np.random.normal(size=(4,))\n",
    "\n",
    "vk0 = 1\n",
    "vk = np.ones((4,))\n",
    "\n",
    "betta = 0.975\n",
    "\n",
    "for k in range(1,EPOCHS-1):\n",
    "    dt0 = der_theta0(X, Y, vk0, vk)    \n",
    "    vk0 = theta0[k] + betta*(theta0[k] - theta0[k-1])\n",
    "    theta0[k+1] = vk0 - LEARNING_RATE * dt0\n",
    "    \n",
    "    for i in range(0,4):\n",
    "        dt[i] = der_theta(X, Y, vk0, vk, n=i)\n",
    "        vk[i] = theta[k][i] + betta*(theta[k][i] - theta[k-1][i])\n",
    "        theta[k+1][i] = vk[i] - LEARNING_RATE * dt[i]\n",
    "    \n",
    "    print(f'theta0[{k+1}]: {theta0[k+1]}, theta[{k+1}]: {theta[k+1]}, Cross_Entropy: {Cross_Entropy_function(X, Y, theta0[k+1], theta[k+1])}\\n')\n"
   ]
  },
  {
   "cell_type": "code",
   "execution_count": 21,
   "metadata": {},
   "outputs": [
    {
     "data": {
      "text/plain": [
       "253.25276722664512"
      ]
     },
     "execution_count": 21,
     "metadata": {},
     "output_type": "execute_result"
    }
   ],
   "source": [
    "Cross_Entropy_function(X, Y, 0.8, np.array([-0.27, 0.49, -0.02, 0.64]))"
   ]
  },
  {
   "cell_type": "markdown",
   "metadata": {},
   "source": [
    "# Метод rmsprop"
   ]
  },
  {
   "cell_type": "code",
   "execution_count": 22,
   "metadata": {},
   "outputs": [
    {
     "name": "stdout",
     "output_type": "stream",
     "text": [
      "theta0: 0.8303019144876812, theta: [0.83029456 0.83029527 0.83029466 0.83029672], Cross_Entropy: 2140.99992716937\n",
      "\n",
      "theta0: 0.7101544207226984, theta: [0.71014445 0.71014551 0.71014472 0.71014761], Cross_Entropy: 1831.1831962813621\n",
      "\n",
      "theta0: 0.6119315017423341, theta: [0.61192008 0.61192174 0.61192099 0.61192471], Cross_Entropy: 1577.9085792118203\n",
      "\n",
      "theta0: 0.5267634313199488, theta: [0.52675099 0.52675438 0.52675403 0.52675947], Cross_Entropy: 1358.312933116554\n",
      "\n",
      "theta0: 0.45049819112174044, theta: [0.4504848  0.45049322 0.45049424 0.45050414], Cross_Entropy: 1161.7162426940044\n",
      "\n",
      "theta0: 0.3808099677717991, theta: [0.38079537 0.38081753 0.38082244 0.38084417], Cross_Entropy: 982.1897285055478\n",
      "\n",
      "theta0: 0.31626104264947286, theta: [0.31624457 0.31630199 0.31631717 0.31636922], Cross_Entropy: 816.1929224028294\n",
      "\n",
      "theta0: 0.2559309870244399, theta: [0.25591166 0.25605453 0.25609546 0.25622149], Cross_Entropy: 661.7363987246674\n",
      "\n",
      "theta0: 0.19927540146629683, theta: [0.1992527  0.19959099 0.19969261 0.19998816], Cross_Entropy: 518.239614727382\n",
      "\n",
      "theta0: 0.1461146045329028, theta: [0.14609103 0.14684391 0.14707605 0.14772509], Cross_Entropy: 386.80749880126535\n",
      "\n",
      "theta0: 0.09670007974110077, theta: [0.09668541 0.09822346 0.09869605 0.09997609], Cross_Entropy: 270.464451922491\n",
      "\n",
      "theta0: 0.05172371765564343, theta: [0.05173475 0.0545173  0.05533285 0.05749719], Cross_Entropy: 173.15935859530683\n",
      "\n",
      "theta0: 0.01198544612477015, theta: [0.01202817 0.01635756 0.01750555 0.02057482], Cross_Entropy: 96.80583788430603\n",
      "\n",
      "theta0: -0.022288118689347693, theta: [-0.02224407 -0.01642099 -0.01510231 -0.01137135], Cross_Entropy: 39.14068891305052\n",
      "\n",
      "theta0: -0.05172895869248258, theta: [-0.0517485  -0.04472868 -0.04346884 -0.03941395], Cross_Entropy: -4.634390544903762\n",
      "\n"
     ]
    }
   ],
   "source": [
    "EPOCHS = 15\n",
    "LEARNING_RATE = 0.012\n",
    "\n",
    "theta0 = 1\n",
    "theta = np.ones((4,))\n",
    "\n",
    "EG_0 = 0\n",
    "EG = np.zeros((4,))\n",
    "\n",
    "gamma = 0.995\n",
    "eps = 0.01\n",
    "\n",
    "dt = np.random.normal(size=(4,))\n",
    "\n",
    "for k in range(EPOCHS):\n",
    "    dt0 = der_theta0(X, Y, theta0, theta)\n",
    "    EG_0 = gamma*EG_0 + (1-gamma)*dt0*dt0\n",
    "    theta0 = theta0 - LEARNING_RATE/np.sqrt(EG_0 + eps)*dt0\n",
    "      \n",
    "    for i in range(0,4):\n",
    "        dt[i] = der_theta(X, Y, theta0, theta, n=i)\n",
    "        EG[i] = gamma*EG[i] + (1-gamma)*dt[i]*dt[i]\n",
    "        theta[i] = theta[i] - LEARNING_RATE/np.sqrt(EG[i] + eps)*dt[i]\n",
    "    \n",
    "    print(f'theta0: {theta0}, theta: {theta}, Cross_Entropy: {Cross_Entropy_function(X, Y, theta0, theta)}\\n')"
   ]
  },
  {
   "cell_type": "code",
   "execution_count": 23,
   "metadata": {},
   "outputs": [],
   "source": [
    "model = LogisticRegression()"
   ]
  },
  {
   "cell_type": "code",
   "execution_count": 24,
   "metadata": {},
   "outputs": [
    {
     "data": {
      "text/plain": [
       "LogisticRegression()"
      ]
     },
     "execution_count": 24,
     "metadata": {},
     "output_type": "execute_result"
    }
   ],
   "source": [
    "model.fit( X, Y )"
   ]
  },
  {
   "cell_type": "code",
   "execution_count": 25,
   "metadata": {},
   "outputs": [
    {
     "data": {
      "text/plain": [
       "array([[-0.39443136, -0.51327025,  2.93075043,  2.4170433 ]])"
      ]
     },
     "execution_count": 25,
     "metadata": {},
     "output_type": "execute_result"
    }
   ],
   "source": [
    "model.coef_"
   ]
  },
  {
   "cell_type": "code",
   "execution_count": 26,
   "metadata": {},
   "outputs": [
    {
     "data": {
      "text/plain": [
       "array([-14.43080433])"
      ]
     },
     "execution_count": 26,
     "metadata": {},
     "output_type": "execute_result"
    }
   ],
   "source": [
    "model.intercept_"
   ]
  },
  {
   "cell_type": "code",
   "execution_count": null,
   "metadata": {},
   "outputs": [],
   "source": [
    "# Вывод: коэффициенты логистической регрессии отличаются во всех методах"
   ]
  }
 ],
 "metadata": {
  "kernelspec": {
   "display_name": "Python 3",
   "language": "python",
   "name": "python3"
  },
  "language_info": {
   "codemirror_mode": {
    "name": "ipython",
    "version": 3
   },
   "file_extension": ".py",
   "mimetype": "text/x-python",
   "name": "python",
   "nbconvert_exporter": "python",
   "pygments_lexer": "ipython3",
   "version": "3.8.3"
  }
 },
 "nbformat": 4,
 "nbformat_minor": 4
}
