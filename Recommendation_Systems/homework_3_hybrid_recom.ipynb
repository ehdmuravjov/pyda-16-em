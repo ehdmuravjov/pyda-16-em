{
 "cells": [
  {
   "cell_type": "markdown",
   "metadata": {},
   "source": [
    "# Задание к теме «Гибридные рекомендательные системы»\n",
    "\n",
    "Что делать?\n",
    "\n",
    "Датасет ml-latest\n",
    "\n",
    "Вспомнить подходы, которые мы разбирали\n",
    "\n",
    "Выбрать понравившийся подход к гибридным системам\n",
    "\n",
    "Написать свою"
   ]
  },
  {
   "cell_type": "code",
   "execution_count": 1,
   "metadata": {},
   "outputs": [],
   "source": [
    "from surprise import Dataset\n",
    "from surprise import SVD\n",
    "from surprise import KNNWithMeans\n",
    "from surprise import accuracy\n",
    "from surprise import Reader\n",
    "from surprise.model_selection import train_test_split\n",
    "\n",
    "import pandas as pd"
   ]
  },
  {
   "cell_type": "code",
   "execution_count": 2,
   "metadata": {},
   "outputs": [],
   "source": [
    "movies = pd.read_csv('../1_Введение и классификация рекомендательных систем/movies.csv')\n",
    "ratings = pd.read_csv('../1_Введение и классификация рекомендательных систем/ratings.csv')"
   ]
  },
  {
   "cell_type": "code",
   "execution_count": 3,
   "metadata": {},
   "outputs": [],
   "source": [
    "movies_with_ratings = movies.join(ratings.set_index('movieId'), on='movieId').reset_index(drop=True)\n",
    "movies_with_ratings.dropna(inplace=True)"
   ]
  },
  {
   "cell_type": "code",
   "execution_count": 4,
   "metadata": {},
   "outputs": [],
   "source": [
    "dataset = pd.DataFrame({\n",
    "    'uid': movies_with_ratings.userId,\n",
    "    'iid': movies_with_ratings.title,\n",
    "    'rating': movies_with_ratings.rating\n",
    "})"
   ]
  },
  {
   "cell_type": "code",
   "execution_count": 5,
   "metadata": {},
   "outputs": [],
   "source": [
    "reader = Reader(rating_scale=(0.5, 5.0))\n",
    "data = Dataset.load_from_df(dataset, reader)"
   ]
  },
  {
   "cell_type": "code",
   "execution_count": 6,
   "metadata": {},
   "outputs": [],
   "source": [
    "trainset, testset = train_test_split(data, test_size=.15, random_state=42)"
   ]
  },
  {
   "cell_type": "markdown",
   "metadata": {},
   "source": [
    "# алгоритм SVD"
   ]
  },
  {
   "cell_type": "code",
   "execution_count": 7,
   "metadata": {},
   "outputs": [
    {
     "name": "stdout",
     "output_type": "stream",
     "text": [
      "Wall time: 2.69 s\n"
     ]
    },
    {
     "data": {
      "text/plain": [
       "<surprise.prediction_algorithms.matrix_factorization.SVD at 0x22b90054460>"
      ]
     },
     "execution_count": 7,
     "metadata": {},
     "output_type": "execute_result"
    }
   ],
   "source": [
    "%%time\n",
    "algo = SVD(n_factors=20, n_epochs=20)\n",
    "algo.fit(trainset)"
   ]
  },
  {
   "cell_type": "code",
   "execution_count": 9,
   "metadata": {},
   "outputs": [],
   "source": [
    "current_user_id = 2.0\n",
    "user_movies = movies_with_ratings[(movies_with_ratings.userId == current_user_id) & (movies_with_ratings.rating >= 4.5)].title.unique()\n",
    "\n",
    "scores = []\n",
    "titles = []\n",
    "\n",
    "for movie in movies_with_ratings.title.unique():\n",
    "    if movie in user_movies:\n",
    "        continue\n",
    "    estimation = algo.predict(uid=current_user_id, iid=movie).est\n",
    "    if estimation >= 4:\n",
    "        scores.append(estimation)\n",
    "        titles.append(movie)"
   ]
  },
  {
   "cell_type": "code",
   "execution_count": 10,
   "metadata": {},
   "outputs": [
    {
     "data": {
      "text/html": [
       "<div>\n",
       "<style scoped>\n",
       "    .dataframe tbody tr th:only-of-type {\n",
       "        vertical-align: middle;\n",
       "    }\n",
       "\n",
       "    .dataframe tbody tr th {\n",
       "        vertical-align: top;\n",
       "    }\n",
       "\n",
       "    .dataframe thead th {\n",
       "        text-align: right;\n",
       "    }\n",
       "</style>\n",
       "<table border=\"1\" class=\"dataframe\">\n",
       "  <thead>\n",
       "    <tr style=\"text-align: right;\">\n",
       "      <th></th>\n",
       "      <th>titles</th>\n",
       "      <th>scores</th>\n",
       "    </tr>\n",
       "  </thead>\n",
       "  <tbody>\n",
       "    <tr>\n",
       "      <th>48</th>\n",
       "      <td>Streetcar Named Desire, A (1951)</td>\n",
       "      <td>4.382404</td>\n",
       "    </tr>\n",
       "    <tr>\n",
       "      <th>59</th>\n",
       "      <td>Lawrence of Arabia (1962)</td>\n",
       "      <td>4.365447</td>\n",
       "    </tr>\n",
       "    <tr>\n",
       "      <th>93</th>\n",
       "      <td>Cool Hand Luke (1967)</td>\n",
       "      <td>4.347261</td>\n",
       "    </tr>\n",
       "    <tr>\n",
       "      <th>26</th>\n",
       "      <td>Dr. Strangelove or: How I Learned to Stop Worr...</td>\n",
       "      <td>4.319528</td>\n",
       "    </tr>\n",
       "    <tr>\n",
       "      <th>161</th>\n",
       "      <td>Lord of the Rings: The Fellowship of the Ring,...</td>\n",
       "      <td>4.318722</td>\n",
       "    </tr>\n",
       "    <tr>\n",
       "      <th>...</th>\n",
       "      <td>...</td>\n",
       "      <td>...</td>\n",
       "    </tr>\n",
       "    <tr>\n",
       "      <th>142</th>\n",
       "      <td>Double Indemnity (1944)</td>\n",
       "      <td>4.002062</td>\n",
       "    </tr>\n",
       "    <tr>\n",
       "      <th>188</th>\n",
       "      <td>Harry Potter and the Prisoner of Azkaban (2004)</td>\n",
       "      <td>4.001084</td>\n",
       "    </tr>\n",
       "    <tr>\n",
       "      <th>8</th>\n",
       "      <td>Heavenly Creatures (1994)</td>\n",
       "      <td>4.000586</td>\n",
       "    </tr>\n",
       "    <tr>\n",
       "      <th>149</th>\n",
       "      <td>Gladiator (2000)</td>\n",
       "      <td>4.000426</td>\n",
       "    </tr>\n",
       "    <tr>\n",
       "      <th>128</th>\n",
       "      <td>Christmas Story, A (1983)</td>\n",
       "      <td>4.000214</td>\n",
       "    </tr>\n",
       "  </tbody>\n",
       "</table>\n",
       "<p>232 rows × 2 columns</p>\n",
       "</div>"
      ],
      "text/plain": [
       "                                                titles    scores\n",
       "48                    Streetcar Named Desire, A (1951)  4.382404\n",
       "59                           Lawrence of Arabia (1962)  4.365447\n",
       "93                               Cool Hand Luke (1967)  4.347261\n",
       "26   Dr. Strangelove or: How I Learned to Stop Worr...  4.319528\n",
       "161  Lord of the Rings: The Fellowship of the Ring,...  4.318722\n",
       "..                                                 ...       ...\n",
       "142                            Double Indemnity (1944)  4.002062\n",
       "188    Harry Potter and the Prisoner of Azkaban (2004)  4.001084\n",
       "8                            Heavenly Creatures (1994)  4.000586\n",
       "149                                   Gladiator (2000)  4.000426\n",
       "128                          Christmas Story, A (1983)  4.000214\n",
       "\n",
       "[232 rows x 2 columns]"
      ]
     },
     "execution_count": 10,
     "metadata": {},
     "output_type": "execute_result"
    }
   ],
   "source": [
    "recom_SVD = pd.DataFrame({'titles': titles, 'scores': scores})\n",
    "recom_SVD.sort_values('scores', ascending=False)"
   ]
  },
  {
   "cell_type": "markdown",
   "metadata": {},
   "source": [
    "# алгоритм KNNWithMeans "
   ]
  },
  {
   "cell_type": "code",
   "execution_count": 11,
   "metadata": {},
   "outputs": [
    {
     "name": "stdout",
     "output_type": "stream",
     "text": [
      "Estimating biases using als...\n",
      "Computing the pearson_baseline similarity matrix...\n",
      "Done computing similarity matrix.\n"
     ]
    },
    {
     "data": {
      "text/plain": [
       "<surprise.prediction_algorithms.knns.KNNWithMeans at 0x22b90da3f70>"
      ]
     },
     "execution_count": 11,
     "metadata": {},
     "output_type": "execute_result"
    }
   ],
   "source": [
    "algo2 = KNNWithMeans(k=50, sim_options={'name': 'pearson_baseline', 'user_based': True})\n",
    "algo2.fit(trainset)"
   ]
  },
  {
   "cell_type": "code",
   "execution_count": 12,
   "metadata": {},
   "outputs": [],
   "source": [
    "scores = []\n",
    "titles = []\n",
    "\n",
    "for movie in movies_with_ratings.title.unique():\n",
    "    if movie in user_movies:\n",
    "        continue\n",
    "    estimation = algo2.predict(uid=current_user_id, iid=movie).est\n",
    "    if estimation >= 4:\n",
    "        scores.append(estimation)\n",
    "        titles.append(movie)"
   ]
  },
  {
   "cell_type": "markdown",
   "metadata": {},
   "source": [
    "# Гибридная рекомендательная система"
   ]
  },
  {
   "cell_type": "code",
   "execution_count": 13,
   "metadata": {},
   "outputs": [
    {
     "data": {
      "text/html": [
       "<div>\n",
       "<style scoped>\n",
       "    .dataframe tbody tr th:only-of-type {\n",
       "        vertical-align: middle;\n",
       "    }\n",
       "\n",
       "    .dataframe tbody tr th {\n",
       "        vertical-align: top;\n",
       "    }\n",
       "\n",
       "    .dataframe thead th {\n",
       "        text-align: right;\n",
       "    }\n",
       "</style>\n",
       "<table border=\"1\" class=\"dataframe\">\n",
       "  <thead>\n",
       "    <tr style=\"text-align: right;\">\n",
       "      <th></th>\n",
       "      <th>titles</th>\n",
       "      <th>scores</th>\n",
       "    </tr>\n",
       "  </thead>\n",
       "  <tbody>\n",
       "    <tr>\n",
       "      <th>1202</th>\n",
       "      <td>Dune (2000)</td>\n",
       "      <td>5.000000</td>\n",
       "    </tr>\n",
       "    <tr>\n",
       "      <th>783</th>\n",
       "      <td>Legend of Drunken Master, The (Jui kuen II) (1...</td>\n",
       "      <td>5.000000</td>\n",
       "    </tr>\n",
       "    <tr>\n",
       "      <th>258</th>\n",
       "      <td>Stalker (1979)</td>\n",
       "      <td>5.000000</td>\n",
       "    </tr>\n",
       "    <tr>\n",
       "      <th>1787</th>\n",
       "      <td>13 Assassins (Jûsan-nin no shikaku) (2010)</td>\n",
       "      <td>5.000000</td>\n",
       "    </tr>\n",
       "    <tr>\n",
       "      <th>1778</th>\n",
       "      <td>Emma (2009)</td>\n",
       "      <td>5.000000</td>\n",
       "    </tr>\n",
       "    <tr>\n",
       "      <th>...</th>\n",
       "      <td>...</td>\n",
       "      <td>...</td>\n",
       "    </tr>\n",
       "    <tr>\n",
       "      <th>104</th>\n",
       "      <td>Sliver (1993)</td>\n",
       "      <td>4.002198</td>\n",
       "    </tr>\n",
       "    <tr>\n",
       "      <th>209</th>\n",
       "      <td>E.T. the Extra-Terrestrial (1982)</td>\n",
       "      <td>4.001777</td>\n",
       "    </tr>\n",
       "    <tr>\n",
       "      <th>1504</th>\n",
       "      <td>Flushed Away (2006)</td>\n",
       "      <td>4.001472</td>\n",
       "    </tr>\n",
       "    <tr>\n",
       "      <th>126</th>\n",
       "      <td>James and the Giant Peach (1996)</td>\n",
       "      <td>4.001154</td>\n",
       "    </tr>\n",
       "    <tr>\n",
       "      <th>1819</th>\n",
       "      <td>We Need to Talk About Kevin (2011)</td>\n",
       "      <td>4.000194</td>\n",
       "    </tr>\n",
       "  </tbody>\n",
       "</table>\n",
       "<p>2253 rows × 2 columns</p>\n",
       "</div>"
      ],
      "text/plain": [
       "                                                 titles    scores\n",
       "1202                                        Dune (2000)  5.000000\n",
       "783   Legend of Drunken Master, The (Jui kuen II) (1...  5.000000\n",
       "258                                      Stalker (1979)  5.000000\n",
       "1787         13 Assassins (Jûsan-nin no shikaku) (2010)  5.000000\n",
       "1778                                        Emma (2009)  5.000000\n",
       "...                                                 ...       ...\n",
       "104                                       Sliver (1993)  4.002198\n",
       "209                   E.T. the Extra-Terrestrial (1982)  4.001777\n",
       "1504                                Flushed Away (2006)  4.001472\n",
       "126                    James and the Giant Peach (1996)  4.001154\n",
       "1819                 We Need to Talk About Kevin (2011)  4.000194\n",
       "\n",
       "[2253 rows x 2 columns]"
      ]
     },
     "execution_count": 13,
     "metadata": {},
     "output_type": "execute_result"
    }
   ],
   "source": [
    "recom_KNN = pd.DataFrame({'titles': titles, 'scores': scores})\n",
    "recom_KNN.sort_values('scores', ascending=False)"
   ]
  },
  {
   "cell_type": "code",
   "execution_count": 14,
   "metadata": {},
   "outputs": [
    {
     "data": {
      "text/html": [
       "<div>\n",
       "<style scoped>\n",
       "    .dataframe tbody tr th:only-of-type {\n",
       "        vertical-align: middle;\n",
       "    }\n",
       "\n",
       "    .dataframe tbody tr th {\n",
       "        vertical-align: top;\n",
       "    }\n",
       "\n",
       "    .dataframe thead th {\n",
       "        text-align: right;\n",
       "    }\n",
       "</style>\n",
       "<table border=\"1\" class=\"dataframe\">\n",
       "  <thead>\n",
       "    <tr style=\"text-align: right;\">\n",
       "      <th></th>\n",
       "      <th>titles</th>\n",
       "      <th>scores_x</th>\n",
       "      <th>scores_y</th>\n",
       "    </tr>\n",
       "  </thead>\n",
       "  <tbody>\n",
       "    <tr>\n",
       "      <th>0</th>\n",
       "      <td>Casino (1995)</td>\n",
       "      <td>4.255229</td>\n",
       "      <td>4.115316</td>\n",
       "    </tr>\n",
       "    <tr>\n",
       "      <th>1</th>\n",
       "      <td>City of Lost Children, The (Cité des enfants p...</td>\n",
       "      <td>4.573885</td>\n",
       "      <td>4.091203</td>\n",
       "    </tr>\n",
       "    <tr>\n",
       "      <th>2</th>\n",
       "      <td>Twelve Monkeys (a.k.a. 12 Monkeys) (1995)</td>\n",
       "      <td>4.168820</td>\n",
       "      <td>4.051618</td>\n",
       "    </tr>\n",
       "    <tr>\n",
       "      <th>3</th>\n",
       "      <td>Usual Suspects, The (1995)</td>\n",
       "      <td>4.123757</td>\n",
       "      <td>4.144446</td>\n",
       "    </tr>\n",
       "    <tr>\n",
       "      <th>4</th>\n",
       "      <td>Bottle Rocket (1996)</td>\n",
       "      <td>4.894162</td>\n",
       "      <td>4.009032</td>\n",
       "    </tr>\n",
       "    <tr>\n",
       "      <th>...</th>\n",
       "      <td>...</td>\n",
       "      <td>...</td>\n",
       "      <td>...</td>\n",
       "    </tr>\n",
       "    <tr>\n",
       "      <th>201</th>\n",
       "      <td>Untitled Spider-Man Reboot (2017)</td>\n",
       "      <td>4.879492</td>\n",
       "      <td>4.088350</td>\n",
       "    </tr>\n",
       "    <tr>\n",
       "      <th>202</th>\n",
       "      <td>Spotlight (2015)</td>\n",
       "      <td>4.371084</td>\n",
       "      <td>4.065076</td>\n",
       "    </tr>\n",
       "    <tr>\n",
       "      <th>203</th>\n",
       "      <td>Planet Earth (2006)</td>\n",
       "      <td>4.820853</td>\n",
       "      <td>4.002551</td>\n",
       "    </tr>\n",
       "    <tr>\n",
       "      <th>204</th>\n",
       "      <td>Logan (2017)</td>\n",
       "      <td>4.801976</td>\n",
       "      <td>4.209087</td>\n",
       "    </tr>\n",
       "    <tr>\n",
       "      <th>205</th>\n",
       "      <td>Three Billboards Outside Ebbing, Missouri (2017)</td>\n",
       "      <td>4.125000</td>\n",
       "      <td>4.219776</td>\n",
       "    </tr>\n",
       "  </tbody>\n",
       "</table>\n",
       "<p>206 rows × 3 columns</p>\n",
       "</div>"
      ],
      "text/plain": [
       "                                                titles  scores_x  scores_y\n",
       "0                                        Casino (1995)  4.255229  4.115316\n",
       "1    City of Lost Children, The (Cité des enfants p...  4.573885  4.091203\n",
       "2            Twelve Monkeys (a.k.a. 12 Monkeys) (1995)  4.168820  4.051618\n",
       "3                           Usual Suspects, The (1995)  4.123757  4.144446\n",
       "4                                 Bottle Rocket (1996)  4.894162  4.009032\n",
       "..                                                 ...       ...       ...\n",
       "201                  Untitled Spider-Man Reboot (2017)  4.879492  4.088350\n",
       "202                                   Spotlight (2015)  4.371084  4.065076\n",
       "203                                Planet Earth (2006)  4.820853  4.002551\n",
       "204                                       Logan (2017)  4.801976  4.209087\n",
       "205   Three Billboards Outside Ebbing, Missouri (2017)  4.125000  4.219776\n",
       "\n",
       "[206 rows x 3 columns]"
      ]
     },
     "execution_count": 14,
     "metadata": {},
     "output_type": "execute_result"
    }
   ],
   "source": [
    "# соединяем рекомендации по двум алгоритмам, причем возьмем только общие\n",
    "recom_hybrid = recom_KNN.merge(recom_SVD, on='titles')\n",
    "recom_hybrid"
   ]
  },
  {
   "cell_type": "code",
   "execution_count": 15,
   "metadata": {},
   "outputs": [
    {
     "data": {
      "text/html": [
       "<div>\n",
       "<style scoped>\n",
       "    .dataframe tbody tr th:only-of-type {\n",
       "        vertical-align: middle;\n",
       "    }\n",
       "\n",
       "    .dataframe tbody tr th {\n",
       "        vertical-align: top;\n",
       "    }\n",
       "\n",
       "    .dataframe thead th {\n",
       "        text-align: right;\n",
       "    }\n",
       "</style>\n",
       "<table border=\"1\" class=\"dataframe\">\n",
       "  <thead>\n",
       "    <tr style=\"text-align: right;\">\n",
       "      <th></th>\n",
       "      <th>titles</th>\n",
       "      <th>scores_x</th>\n",
       "      <th>scores_y</th>\n",
       "      <th>hybrid_score</th>\n",
       "    </tr>\n",
       "  </thead>\n",
       "  <tbody>\n",
       "    <tr>\n",
       "      <th>41</th>\n",
       "      <td>Streetcar Named Desire, A (1951)</td>\n",
       "      <td>4.859958</td>\n",
       "      <td>4.382404</td>\n",
       "      <td>4.621181</td>\n",
       "    </tr>\n",
       "    <tr>\n",
       "      <th>124</th>\n",
       "      <td>Guess Who's Coming to Dinner (1967)</td>\n",
       "      <td>4.968083</td>\n",
       "      <td>4.260743</td>\n",
       "      <td>4.614413</td>\n",
       "    </tr>\n",
       "    <tr>\n",
       "      <th>125</th>\n",
       "      <td>Hustler, The (1961)</td>\n",
       "      <td>5.000000</td>\n",
       "      <td>4.187470</td>\n",
       "      <td>4.593735</td>\n",
       "    </tr>\n",
       "    <tr>\n",
       "      <th>96</th>\n",
       "      <td>Sweet Hereafter, The (1997)</td>\n",
       "      <td>5.000000</td>\n",
       "      <td>4.182300</td>\n",
       "      <td>4.591150</td>\n",
       "    </tr>\n",
       "    <tr>\n",
       "      <th>36</th>\n",
       "      <td>To Catch a Thief (1955)</td>\n",
       "      <td>5.000000</td>\n",
       "      <td>4.178950</td>\n",
       "      <td>4.589475</td>\n",
       "    </tr>\n",
       "    <tr>\n",
       "      <th>...</th>\n",
       "      <td>...</td>\n",
       "      <td>...</td>\n",
       "      <td>...</td>\n",
       "      <td>...</td>\n",
       "    </tr>\n",
       "    <tr>\n",
       "      <th>171</th>\n",
       "      <td>Serenity (2005)</td>\n",
       "      <td>4.049757</td>\n",
       "      <td>4.017932</td>\n",
       "      <td>4.033845</td>\n",
       "    </tr>\n",
       "    <tr>\n",
       "      <th>104</th>\n",
       "      <td>Untouchables, The (1987)</td>\n",
       "      <td>4.042248</td>\n",
       "      <td>4.017512</td>\n",
       "      <td>4.029880</td>\n",
       "    </tr>\n",
       "    <tr>\n",
       "      <th>13</th>\n",
       "      <td>Fugitive, The (1993)</td>\n",
       "      <td>4.040585</td>\n",
       "      <td>4.017945</td>\n",
       "      <td>4.029265</td>\n",
       "    </tr>\n",
       "    <tr>\n",
       "      <th>173</th>\n",
       "      <td>V for Vendetta (2006)</td>\n",
       "      <td>4.022304</td>\n",
       "      <td>4.002505</td>\n",
       "      <td>4.012404</td>\n",
       "    </tr>\n",
       "    <tr>\n",
       "      <th>129</th>\n",
       "      <td>Gladiator (2000)</td>\n",
       "      <td>4.013912</td>\n",
       "      <td>4.000426</td>\n",
       "      <td>4.007169</td>\n",
       "    </tr>\n",
       "  </tbody>\n",
       "</table>\n",
       "<p>206 rows × 4 columns</p>\n",
       "</div>"
      ],
      "text/plain": [
       "                                  titles  scores_x  scores_y  hybrid_score\n",
       "41      Streetcar Named Desire, A (1951)  4.859958  4.382404      4.621181\n",
       "124  Guess Who's Coming to Dinner (1967)  4.968083  4.260743      4.614413\n",
       "125                  Hustler, The (1961)  5.000000  4.187470      4.593735\n",
       "96           Sweet Hereafter, The (1997)  5.000000  4.182300      4.591150\n",
       "36               To Catch a Thief (1955)  5.000000  4.178950      4.589475\n",
       "..                                   ...       ...       ...           ...\n",
       "171                      Serenity (2005)  4.049757  4.017932      4.033845\n",
       "104             Untouchables, The (1987)  4.042248  4.017512      4.029880\n",
       "13                  Fugitive, The (1993)  4.040585  4.017945      4.029265\n",
       "173                V for Vendetta (2006)  4.022304  4.002505      4.012404\n",
       "129                     Gladiator (2000)  4.013912  4.000426      4.007169\n",
       "\n",
       "[206 rows x 4 columns]"
      ]
     },
     "execution_count": 15,
     "metadata": {},
     "output_type": "execute_result"
    }
   ],
   "source": [
    "# усредним оценку по обоим алгоритмам\n",
    "recom_hybrid['hybrid_score'] = (recom_hybrid['scores_x'] + recom_hybrid['scores_y'])/2\n",
    "recom_hybrid.sort_values('hybrid_score', ascending=False)"
   ]
  },
  {
   "cell_type": "code",
   "execution_count": null,
   "metadata": {},
   "outputs": [],
   "source": []
  },
  {
   "cell_type": "code",
   "execution_count": null,
   "metadata": {},
   "outputs": [],
   "source": []
  }
 ],
 "metadata": {
  "kernelspec": {
   "display_name": "Python 3",
   "language": "python",
   "name": "python3"
  },
  "language_info": {
   "codemirror_mode": {
    "name": "ipython",
    "version": 3
   },
   "file_extension": ".py",
   "mimetype": "text/x-python",
   "name": "python",
   "nbconvert_exporter": "python",
   "pygments_lexer": "ipython3",
   "version": "3.8.3"
  }
 },
 "nbformat": 4,
 "nbformat_minor": 4
}
