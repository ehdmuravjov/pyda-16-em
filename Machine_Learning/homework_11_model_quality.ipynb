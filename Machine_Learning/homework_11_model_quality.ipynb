{
 "cells": [
  {
   "cell_type": "markdown",
   "metadata": {},
   "source": [
    "# Домашняя работа к лекции \"Улучшение качества модели\"\n",
    "Взять boston house-prices datase (sklearn.datasets.load_boston) и сделать тоже самое для задачи регрессии (попробовать разные алгоритмы, поподбирать параметры, вывести итоговое качество)"
   ]
  },
  {
   "cell_type": "code",
   "execution_count": 1,
   "metadata": {},
   "outputs": [],
   "source": [
    "import matplotlib.pyplot as plt\n",
    "%matplotlib inline\n",
    "from sklearn.datasets import load_boston\n",
    "import pandas as pd\n",
    "import numpy as np"
   ]
  },
  {
   "cell_type": "code",
   "execution_count": 2,
   "metadata": {},
   "outputs": [
    {
     "data": {
      "text/html": [
       "<div>\n",
       "<style scoped>\n",
       "    .dataframe tbody tr th:only-of-type {\n",
       "        vertical-align: middle;\n",
       "    }\n",
       "\n",
       "    .dataframe tbody tr th {\n",
       "        vertical-align: top;\n",
       "    }\n",
       "\n",
       "    .dataframe thead th {\n",
       "        text-align: right;\n",
       "    }\n",
       "</style>\n",
       "<table border=\"1\" class=\"dataframe\">\n",
       "  <thead>\n",
       "    <tr style=\"text-align: right;\">\n",
       "      <th></th>\n",
       "      <th>CRIM</th>\n",
       "      <th>ZN</th>\n",
       "      <th>INDUS</th>\n",
       "      <th>CHAS</th>\n",
       "      <th>NOX</th>\n",
       "      <th>RM</th>\n",
       "      <th>AGE</th>\n",
       "      <th>DIS</th>\n",
       "      <th>RAD</th>\n",
       "      <th>TAX</th>\n",
       "      <th>PTRATIO</th>\n",
       "      <th>B</th>\n",
       "      <th>LSTAT</th>\n",
       "      <th>MEDV</th>\n",
       "    </tr>\n",
       "  </thead>\n",
       "  <tbody>\n",
       "    <tr>\n",
       "      <th>0</th>\n",
       "      <td>0.00632</td>\n",
       "      <td>18.0</td>\n",
       "      <td>2.31</td>\n",
       "      <td>0.0</td>\n",
       "      <td>0.538</td>\n",
       "      <td>6.575</td>\n",
       "      <td>65.2</td>\n",
       "      <td>4.0900</td>\n",
       "      <td>1.0</td>\n",
       "      <td>296.0</td>\n",
       "      <td>15.3</td>\n",
       "      <td>396.90</td>\n",
       "      <td>4.98</td>\n",
       "      <td>24.0</td>\n",
       "    </tr>\n",
       "    <tr>\n",
       "      <th>1</th>\n",
       "      <td>0.02731</td>\n",
       "      <td>0.0</td>\n",
       "      <td>7.07</td>\n",
       "      <td>0.0</td>\n",
       "      <td>0.469</td>\n",
       "      <td>6.421</td>\n",
       "      <td>78.9</td>\n",
       "      <td>4.9671</td>\n",
       "      <td>2.0</td>\n",
       "      <td>242.0</td>\n",
       "      <td>17.8</td>\n",
       "      <td>396.90</td>\n",
       "      <td>9.14</td>\n",
       "      <td>21.6</td>\n",
       "    </tr>\n",
       "    <tr>\n",
       "      <th>2</th>\n",
       "      <td>0.02729</td>\n",
       "      <td>0.0</td>\n",
       "      <td>7.07</td>\n",
       "      <td>0.0</td>\n",
       "      <td>0.469</td>\n",
       "      <td>7.185</td>\n",
       "      <td>61.1</td>\n",
       "      <td>4.9671</td>\n",
       "      <td>2.0</td>\n",
       "      <td>242.0</td>\n",
       "      <td>17.8</td>\n",
       "      <td>392.83</td>\n",
       "      <td>4.03</td>\n",
       "      <td>34.7</td>\n",
       "    </tr>\n",
       "    <tr>\n",
       "      <th>3</th>\n",
       "      <td>0.03237</td>\n",
       "      <td>0.0</td>\n",
       "      <td>2.18</td>\n",
       "      <td>0.0</td>\n",
       "      <td>0.458</td>\n",
       "      <td>6.998</td>\n",
       "      <td>45.8</td>\n",
       "      <td>6.0622</td>\n",
       "      <td>3.0</td>\n",
       "      <td>222.0</td>\n",
       "      <td>18.7</td>\n",
       "      <td>394.63</td>\n",
       "      <td>2.94</td>\n",
       "      <td>33.4</td>\n",
       "    </tr>\n",
       "    <tr>\n",
       "      <th>4</th>\n",
       "      <td>0.06905</td>\n",
       "      <td>0.0</td>\n",
       "      <td>2.18</td>\n",
       "      <td>0.0</td>\n",
       "      <td>0.458</td>\n",
       "      <td>7.147</td>\n",
       "      <td>54.2</td>\n",
       "      <td>6.0622</td>\n",
       "      <td>3.0</td>\n",
       "      <td>222.0</td>\n",
       "      <td>18.7</td>\n",
       "      <td>396.90</td>\n",
       "      <td>5.33</td>\n",
       "      <td>36.2</td>\n",
       "    </tr>\n",
       "  </tbody>\n",
       "</table>\n",
       "</div>"
      ],
      "text/plain": [
       "      CRIM    ZN  INDUS  CHAS    NOX     RM   AGE     DIS  RAD    TAX  \\\n",
       "0  0.00632  18.0   2.31   0.0  0.538  6.575  65.2  4.0900  1.0  296.0   \n",
       "1  0.02731   0.0   7.07   0.0  0.469  6.421  78.9  4.9671  2.0  242.0   \n",
       "2  0.02729   0.0   7.07   0.0  0.469  7.185  61.1  4.9671  2.0  242.0   \n",
       "3  0.03237   0.0   2.18   0.0  0.458  6.998  45.8  6.0622  3.0  222.0   \n",
       "4  0.06905   0.0   2.18   0.0  0.458  7.147  54.2  6.0622  3.0  222.0   \n",
       "\n",
       "   PTRATIO       B  LSTAT  MEDV  \n",
       "0     15.3  396.90   4.98  24.0  \n",
       "1     17.8  396.90   9.14  21.6  \n",
       "2     17.8  392.83   4.03  34.7  \n",
       "3     18.7  394.63   2.94  33.4  \n",
       "4     18.7  396.90   5.33  36.2  "
      ]
     },
     "execution_count": 2,
     "metadata": {},
     "output_type": "execute_result"
    }
   ],
   "source": [
    "data = load_boston()\n",
    "X = pd.DataFrame(data['data'], columns=data['feature_names'])\n",
    "y = pd.DataFrame(data['target'], columns=['MEDV'])\n",
    "df = pd.concat([X,y], axis=1)\n",
    "df.head()"
   ]
  },
  {
   "cell_type": "code",
   "execution_count": 3,
   "metadata": {},
   "outputs": [],
   "source": [
    "from sklearn.linear_model import LinearRegression\n",
    "from sklearn.ensemble import RandomForestRegressor\n",
    "from sklearn.model_selection import train_test_split, cross_val_score"
   ]
  },
  {
   "cell_type": "code",
   "execution_count": 4,
   "metadata": {},
   "outputs": [],
   "source": [
    "def get_score(X, y, random_seed=42, model=None):\n",
    "    if model is None:\n",
    "        model = LinearRegression()\n",
    "        X_train, X_test, y_train, y_test = train_test_split(X, y, test_size=0.3, random_state=random_seed)  \n",
    "        model.fit(X_train, y_train)\n",
    "    return model.score(X_test, y_test)"
   ]
  },
  {
   "cell_type": "markdown",
   "metadata": {},
   "source": [
    "### Лучший результат на модели линейной регресии"
   ]
  },
  {
   "cell_type": "code",
   "execution_count": 9,
   "metadata": {},
   "outputs": [
    {
     "data": {
      "text/plain": [
       "0.7190673146383935"
      ]
     },
     "execution_count": 9,
     "metadata": {},
     "output_type": "execute_result"
    }
   ],
   "source": [
    "get_score(X[['CRIM', 'ZN', 'INDUS', 'CHAS', 'NOX', 'RM',  'DIS', 'RAD', 'TAX',\n",
    "       'PTRATIO', 'LSTAT']], y)"
   ]
  },
  {
   "cell_type": "code",
   "execution_count": 5,
   "metadata": {},
   "outputs": [],
   "source": [
    "# разделяет на train и test\n",
    "X_train, X_test, y_train, y_test = train_test_split(X, y, test_size=0.3, random_state=0)"
   ]
  },
  {
   "cell_type": "markdown",
   "metadata": {},
   "source": [
    "### Попробуем посмотреть зависимость точности модели RandomForestRegressor от глубины дерева"
   ]
  },
  {
   "cell_type": "code",
   "execution_count": 19,
   "metadata": {},
   "outputs": [
    {
     "name": "stdout",
     "output_type": "stream",
     "text": [
      "max_depth: 1,\t score: 0.558\n",
      "max_depth: 2,\t score: 0.758\n",
      "max_depth: 3,\t score: 0.778\n",
      "max_depth: 4,\t score: 0.815\n",
      "max_depth: 5,\t score: 0.835\n",
      "max_depth: 6,\t score: 0.796\n",
      "max_depth: 7,\t score: 0.863\n",
      "max_depth: 8,\t score: 0.870\n",
      "max_depth: 9,\t score: 0.843\n",
      "max_depth: 10,\t score: 0.829\n",
      "max_depth: 11,\t score: 0.847\n",
      "max_depth: 12,\t score: 0.864\n",
      "max_depth: 13,\t score: 0.873\n",
      "max_depth: 14,\t score: 0.888\n",
      "max_depth: 15,\t score: 0.856\n",
      "max_depth: 16,\t score: 0.855\n",
      "max_depth: 17,\t score: 0.858\n",
      "max_depth: 18,\t score: 0.854\n",
      "max_depth: 19,\t score: 0.884\n"
     ]
    }
   ],
   "source": [
    "for depth in range(1, 20):\n",
    "    acc = []\n",
    "    for n_trials in range(20):\n",
    "        X_train_small, X_test_small, y_train_small, y_test_small = train_test_split(X_train, \n",
    "                                                                                y_train, \n",
    "                                                                                test_size=0.1)\n",
    "        rfr = RandomForestRegressor(max_depth=depth)\n",
    "        rfr.fit(X_train_small, np.ravel(y_train_small))\n",
    "        acc_ = rfr.score(X_test_small, y_test_small)\n",
    "        acc.append(acc_)\n",
    "    print(\"max_depth: %d,\\t score: %.3f\"%(depth, np.array(acc).mean()))"
   ]
  },
  {
   "cell_type": "markdown",
   "metadata": {},
   "source": [
    "точность модели RandomForestRegressor максимальна при глубине дерева 14"
   ]
  },
  {
   "cell_type": "code",
   "execution_count": 6,
   "metadata": {},
   "outputs": [
    {
     "data": {
      "text/plain": [
       "0.8219336413056106"
      ]
     },
     "execution_count": 6,
     "metadata": {},
     "output_type": "execute_result"
    }
   ],
   "source": [
    "rfr_new = RandomForestRegressor(max_depth=14)\n",
    "rfr_new.fit(X_train, np.ravel(y_train))\n",
    "rfr_new.score(X_test, y_test)"
   ]
  },
  {
   "cell_type": "markdown",
   "metadata": {},
   "source": [
    "### Сделаем cross_val_score для RandomForestRegressor"
   ]
  },
  {
   "cell_type": "code",
   "execution_count": 7,
   "metadata": {
    "scrolled": true
   },
   "outputs": [
    {
     "name": "stdout",
     "output_type": "stream",
     "text": [
      "max_depth: 1,\t mean cv_score: 0.492\n",
      "max_depth: 2,\t mean cv_score: 0.675\n",
      "max_depth: 3,\t mean cv_score: 0.747\n",
      "max_depth: 4,\t mean cv_score: 0.773\n",
      "max_depth: 5,\t mean cv_score: 0.790\n",
      "max_depth: 6,\t mean cv_score: 0.803\n",
      "max_depth: 7,\t mean cv_score: 0.809\n",
      "max_depth: 8,\t mean cv_score: 0.823\n",
      "max_depth: 9,\t mean cv_score: 0.802\n",
      "max_depth: 10,\t mean cv_score: 0.822\n",
      "max_depth: 11,\t mean cv_score: 0.813\n",
      "max_depth: 12,\t mean cv_score: 0.819\n",
      "max_depth: 13,\t mean cv_score: 0.821\n",
      "max_depth: 14,\t mean cv_score: 0.825\n"
     ]
    }
   ],
   "source": [
    "for depth in range(1,15):\n",
    "    rfr = RandomForestRegressor(max_depth=depth)\n",
    "    print(\"max_depth: %d,\\t mean cv_score: %.3f\"%(depth, cross_val_score(rfr, X_train, np.ravel(y_train), cv=20).mean()))"
   ]
  },
  {
   "cell_type": "markdown",
   "metadata": {},
   "source": [
    "максимальная точность модели при оценке по cross_val_score тоже при глубине дерева 14"
   ]
  },
  {
   "cell_type": "markdown",
   "metadata": {},
   "source": [
    "### Подбор оптимальных параметров через GridSearchCV"
   ]
  },
  {
   "cell_type": "code",
   "execution_count": 8,
   "metadata": {},
   "outputs": [],
   "source": [
    "from sklearn.model_selection import GridSearchCV"
   ]
  },
  {
   "cell_type": "code",
   "execution_count": 9,
   "metadata": {},
   "outputs": [],
   "source": [
    "param_grid = {'n_estimators': [50, 100, 150],\n",
    "    'max_depth': [10, 13, 16],\n",
    "    'min_samples_split': [2, 3],\n",
    "    'min_samples_leaf': [1, 2],\n",
    "    }"
   ]
  },
  {
   "cell_type": "code",
   "execution_count": 10,
   "metadata": {},
   "outputs": [],
   "source": [
    "np.random.seed(seed=12)\n",
    "\n",
    "rfr = RandomForestRegressor()\n",
    "grid = GridSearchCV(rfr, param_grid, cv=10)"
   ]
  },
  {
   "cell_type": "code",
   "execution_count": 11,
   "metadata": {},
   "outputs": [
    {
     "data": {
      "text/plain": [
       "GridSearchCV(cv=10, estimator=RandomForestRegressor(),\n",
       "             param_grid={'max_depth': [10, 13, 16], 'min_samples_leaf': [1, 2],\n",
       "                         'min_samples_split': [2, 3],\n",
       "                         'n_estimators': [50, 100, 150]})"
      ]
     },
     "execution_count": 11,
     "metadata": {},
     "output_type": "execute_result"
    }
   ],
   "source": [
    "# fit the grid with data\n",
    "grid.fit(X, np.ravel(y))"
   ]
  },
  {
   "cell_type": "code",
   "execution_count": 12,
   "metadata": {},
   "outputs": [
    {
     "data": {
      "text/plain": [
       "{'max_depth': 10,\n",
       " 'min_samples_leaf': 1,\n",
       " 'min_samples_split': 3,\n",
       " 'n_estimators': 50}"
      ]
     },
     "execution_count": 12,
     "metadata": {},
     "output_type": "execute_result"
    }
   ],
   "source": [
    "# лучшие параметры из предложенных\n",
    "grid.best_params_"
   ]
  },
  {
   "cell_type": "code",
   "execution_count": 13,
   "metadata": {},
   "outputs": [
    {
     "name": "stdout",
     "output_type": "stream",
     "text": [
      "[0.43330687 0.48716196 0.46912332 0.50360172 0.49587173 0.48056839\n",
      " 0.47567166 0.497207   0.48961411 0.44669087 0.4646487  0.47944506\n",
      " 0.48684982 0.47521203 0.49578686 0.46361063 0.4785519  0.47375589\n",
      " 0.47892894 0.48897027 0.49130329 0.44632187 0.48111725 0.46329634\n",
      " 0.48662413 0.49209554 0.46841098 0.47695261 0.4968034  0.49082129\n",
      " 0.49960612 0.46391659 0.48600705 0.471902   0.4809589  0.47734543]\n"
     ]
    }
   ],
   "source": [
    "test_scores = grid.cv_results_['mean_test_score']\n",
    "print(test_scores)"
   ]
  },
  {
   "cell_type": "code",
   "execution_count": 14,
   "metadata": {},
   "outputs": [
    {
     "data": {
      "text/plain": [
       "0.8236690165766594"
      ]
     },
     "execution_count": 14,
     "metadata": {},
     "output_type": "execute_result"
    }
   ],
   "source": [
    "rfr_new = RandomForestRegressor(max_depth=10, min_samples_leaf=1, min_samples_split=3, n_estimators=50)\n",
    "rfr_new.fit(X_train, np.ravel(y_train))\n",
    "rfr_new.score(X_test, y_test)"
   ]
  },
  {
   "cell_type": "code",
   "execution_count": 15,
   "metadata": {},
   "outputs": [
    {
     "data": {
      "text/plain": [
       "{'mean_fit_time': array([0.16270313, 0.33609188, 0.5027889 , 0.16329851, 0.3160054 ,\n",
       "        0.49469404, 0.1732928 , 0.34268854, 0.4741071 , 0.15220644,\n",
       "        0.32939608, 0.50128992, 0.18218718, 0.37416935, 0.52527463,\n",
       "        0.1896821 , 0.37756796, 0.54756148, 0.15880156, 0.31530557,\n",
       "        0.4811033 , 0.15550358, 0.30750964, 0.46271396, 0.18528521,\n",
       "        0.36517427, 0.54016621, 0.16939411, 0.34008961, 0.52217684,\n",
       "        0.16209939, 0.31140647, 0.50278778, 0.1635988 , 0.31020877,\n",
       "        0.46591139]),\n",
       " 'std_fit_time': array([0.00281755, 0.01510399, 0.0331897 , 0.01080216, 0.00339865,\n",
       "        0.03173895, 0.01163849, 0.03023094, 0.02248979, 0.00279271,\n",
       "        0.02376426, 0.03815035, 0.01133305, 0.02914423, 0.01207725,\n",
       "        0.04569201, 0.05052581, 0.03476103, 0.00484356, 0.01252383,\n",
       "        0.02729257, 0.00162414, 0.00354893, 0.00592939, 0.00997615,\n",
       "        0.01567615, 0.01204443, 0.00215484, 0.00888278, 0.02403595,\n",
       "        0.00898135, 0.00489983, 0.07481902, 0.0077928 , 0.00360921,\n",
       "        0.00937273]),\n",
       " 'mean_score_time': array([0.00699527, 0.01209319, 0.01648979, 0.0073957 , 0.01139235,\n",
       "        0.01659009, 0.00809486, 0.01209223, 0.01798868, 0.00749521,\n",
       "        0.01219261, 0.01698985, 0.00729532, 0.01249211, 0.01599071,\n",
       "        0.00739589, 0.01209164, 0.01748886, 0.00709622, 0.01199188,\n",
       "        0.01738894, 0.00689604, 0.01179287, 0.01588993, 0.00739558,\n",
       "        0.01209309, 0.01619012, 0.00719643, 0.01169338, 0.01609111,\n",
       "        0.00739555, 0.01149404, 0.01589136, 0.00709567, 0.01139243,\n",
       "        0.01569078]),\n",
       " 'std_score_time': array([0.00044649, 0.0009433 , 0.00143081, 0.00048963, 0.00048925,\n",
       "        0.00111272, 0.00104362, 0.00094318, 0.00244795, 0.0006701 ,\n",
       "        0.00132574, 0.00109504, 0.00045829, 0.00049927, 0.00063094,\n",
       "        0.00066252, 0.00083045, 0.00149914, 0.00053864, 0.00077423,\n",
       "        0.00286917, 0.00029994, 0.00074832, 0.00069926, 0.00066321,\n",
       "        0.00053827, 0.00074761, 0.00040102, 0.00045835, 0.00069983,\n",
       "        0.00127974, 0.00049932, 0.00030027, 0.00029903, 0.00049061,\n",
       "        0.00064017]),\n",
       " 'param_max_depth': masked_array(data=[10, 10, 10, 10, 10, 10, 10, 10, 10, 10, 10, 10, 13, 13,\n",
       "                    13, 13, 13, 13, 13, 13, 13, 13, 13, 13, 16, 16, 16, 16,\n",
       "                    16, 16, 16, 16, 16, 16, 16, 16],\n",
       "              mask=[False, False, False, False, False, False, False, False,\n",
       "                    False, False, False, False, False, False, False, False,\n",
       "                    False, False, False, False, False, False, False, False,\n",
       "                    False, False, False, False, False, False, False, False,\n",
       "                    False, False, False, False],\n",
       "        fill_value='?',\n",
       "             dtype=object),\n",
       " 'param_min_samples_leaf': masked_array(data=[1, 1, 1, 1, 1, 1, 2, 2, 2, 2, 2, 2, 1, 1, 1, 1, 1, 1,\n",
       "                    2, 2, 2, 2, 2, 2, 1, 1, 1, 1, 1, 1, 2, 2, 2, 2, 2, 2],\n",
       "              mask=[False, False, False, False, False, False, False, False,\n",
       "                    False, False, False, False, False, False, False, False,\n",
       "                    False, False, False, False, False, False, False, False,\n",
       "                    False, False, False, False, False, False, False, False,\n",
       "                    False, False, False, False],\n",
       "        fill_value='?',\n",
       "             dtype=object),\n",
       " 'param_min_samples_split': masked_array(data=[2, 2, 2, 3, 3, 3, 2, 2, 2, 3, 3, 3, 2, 2, 2, 3, 3, 3,\n",
       "                    2, 2, 2, 3, 3, 3, 2, 2, 2, 3, 3, 3, 2, 2, 2, 3, 3, 3],\n",
       "              mask=[False, False, False, False, False, False, False, False,\n",
       "                    False, False, False, False, False, False, False, False,\n",
       "                    False, False, False, False, False, False, False, False,\n",
       "                    False, False, False, False, False, False, False, False,\n",
       "                    False, False, False, False],\n",
       "        fill_value='?',\n",
       "             dtype=object),\n",
       " 'param_n_estimators': masked_array(data=[50, 100, 150, 50, 100, 150, 50, 100, 150, 50, 100, 150,\n",
       "                    50, 100, 150, 50, 100, 150, 50, 100, 150, 50, 100, 150,\n",
       "                    50, 100, 150, 50, 100, 150, 50, 100, 150, 50, 100, 150],\n",
       "              mask=[False, False, False, False, False, False, False, False,\n",
       "                    False, False, False, False, False, False, False, False,\n",
       "                    False, False, False, False, False, False, False, False,\n",
       "                    False, False, False, False, False, False, False, False,\n",
       "                    False, False, False, False],\n",
       "        fill_value='?',\n",
       "             dtype=object),\n",
       " 'params': [{'max_depth': 10,\n",
       "   'min_samples_leaf': 1,\n",
       "   'min_samples_split': 2,\n",
       "   'n_estimators': 50},\n",
       "  {'max_depth': 10,\n",
       "   'min_samples_leaf': 1,\n",
       "   'min_samples_split': 2,\n",
       "   'n_estimators': 100},\n",
       "  {'max_depth': 10,\n",
       "   'min_samples_leaf': 1,\n",
       "   'min_samples_split': 2,\n",
       "   'n_estimators': 150},\n",
       "  {'max_depth': 10,\n",
       "   'min_samples_leaf': 1,\n",
       "   'min_samples_split': 3,\n",
       "   'n_estimators': 50},\n",
       "  {'max_depth': 10,\n",
       "   'min_samples_leaf': 1,\n",
       "   'min_samples_split': 3,\n",
       "   'n_estimators': 100},\n",
       "  {'max_depth': 10,\n",
       "   'min_samples_leaf': 1,\n",
       "   'min_samples_split': 3,\n",
       "   'n_estimators': 150},\n",
       "  {'max_depth': 10,\n",
       "   'min_samples_leaf': 2,\n",
       "   'min_samples_split': 2,\n",
       "   'n_estimators': 50},\n",
       "  {'max_depth': 10,\n",
       "   'min_samples_leaf': 2,\n",
       "   'min_samples_split': 2,\n",
       "   'n_estimators': 100},\n",
       "  {'max_depth': 10,\n",
       "   'min_samples_leaf': 2,\n",
       "   'min_samples_split': 2,\n",
       "   'n_estimators': 150},\n",
       "  {'max_depth': 10,\n",
       "   'min_samples_leaf': 2,\n",
       "   'min_samples_split': 3,\n",
       "   'n_estimators': 50},\n",
       "  {'max_depth': 10,\n",
       "   'min_samples_leaf': 2,\n",
       "   'min_samples_split': 3,\n",
       "   'n_estimators': 100},\n",
       "  {'max_depth': 10,\n",
       "   'min_samples_leaf': 2,\n",
       "   'min_samples_split': 3,\n",
       "   'n_estimators': 150},\n",
       "  {'max_depth': 13,\n",
       "   'min_samples_leaf': 1,\n",
       "   'min_samples_split': 2,\n",
       "   'n_estimators': 50},\n",
       "  {'max_depth': 13,\n",
       "   'min_samples_leaf': 1,\n",
       "   'min_samples_split': 2,\n",
       "   'n_estimators': 100},\n",
       "  {'max_depth': 13,\n",
       "   'min_samples_leaf': 1,\n",
       "   'min_samples_split': 2,\n",
       "   'n_estimators': 150},\n",
       "  {'max_depth': 13,\n",
       "   'min_samples_leaf': 1,\n",
       "   'min_samples_split': 3,\n",
       "   'n_estimators': 50},\n",
       "  {'max_depth': 13,\n",
       "   'min_samples_leaf': 1,\n",
       "   'min_samples_split': 3,\n",
       "   'n_estimators': 100},\n",
       "  {'max_depth': 13,\n",
       "   'min_samples_leaf': 1,\n",
       "   'min_samples_split': 3,\n",
       "   'n_estimators': 150},\n",
       "  {'max_depth': 13,\n",
       "   'min_samples_leaf': 2,\n",
       "   'min_samples_split': 2,\n",
       "   'n_estimators': 50},\n",
       "  {'max_depth': 13,\n",
       "   'min_samples_leaf': 2,\n",
       "   'min_samples_split': 2,\n",
       "   'n_estimators': 100},\n",
       "  {'max_depth': 13,\n",
       "   'min_samples_leaf': 2,\n",
       "   'min_samples_split': 2,\n",
       "   'n_estimators': 150},\n",
       "  {'max_depth': 13,\n",
       "   'min_samples_leaf': 2,\n",
       "   'min_samples_split': 3,\n",
       "   'n_estimators': 50},\n",
       "  {'max_depth': 13,\n",
       "   'min_samples_leaf': 2,\n",
       "   'min_samples_split': 3,\n",
       "   'n_estimators': 100},\n",
       "  {'max_depth': 13,\n",
       "   'min_samples_leaf': 2,\n",
       "   'min_samples_split': 3,\n",
       "   'n_estimators': 150},\n",
       "  {'max_depth': 16,\n",
       "   'min_samples_leaf': 1,\n",
       "   'min_samples_split': 2,\n",
       "   'n_estimators': 50},\n",
       "  {'max_depth': 16,\n",
       "   'min_samples_leaf': 1,\n",
       "   'min_samples_split': 2,\n",
       "   'n_estimators': 100},\n",
       "  {'max_depth': 16,\n",
       "   'min_samples_leaf': 1,\n",
       "   'min_samples_split': 2,\n",
       "   'n_estimators': 150},\n",
       "  {'max_depth': 16,\n",
       "   'min_samples_leaf': 1,\n",
       "   'min_samples_split': 3,\n",
       "   'n_estimators': 50},\n",
       "  {'max_depth': 16,\n",
       "   'min_samples_leaf': 1,\n",
       "   'min_samples_split': 3,\n",
       "   'n_estimators': 100},\n",
       "  {'max_depth': 16,\n",
       "   'min_samples_leaf': 1,\n",
       "   'min_samples_split': 3,\n",
       "   'n_estimators': 150},\n",
       "  {'max_depth': 16,\n",
       "   'min_samples_leaf': 2,\n",
       "   'min_samples_split': 2,\n",
       "   'n_estimators': 50},\n",
       "  {'max_depth': 16,\n",
       "   'min_samples_leaf': 2,\n",
       "   'min_samples_split': 2,\n",
       "   'n_estimators': 100},\n",
       "  {'max_depth': 16,\n",
       "   'min_samples_leaf': 2,\n",
       "   'min_samples_split': 2,\n",
       "   'n_estimators': 150},\n",
       "  {'max_depth': 16,\n",
       "   'min_samples_leaf': 2,\n",
       "   'min_samples_split': 3,\n",
       "   'n_estimators': 50},\n",
       "  {'max_depth': 16,\n",
       "   'min_samples_leaf': 2,\n",
       "   'min_samples_split': 3,\n",
       "   'n_estimators': 100},\n",
       "  {'max_depth': 16,\n",
       "   'min_samples_leaf': 2,\n",
       "   'min_samples_split': 3,\n",
       "   'n_estimators': 150}],\n",
       " 'split0_test_score': array([0.67799054, 0.68356644, 0.6851719 , 0.66545693, 0.6897655 ,\n",
       "        0.69154758, 0.68413434, 0.69545441, 0.69754198, 0.6601112 ,\n",
       "        0.66589088, 0.69943684, 0.67662906, 0.6843981 , 0.69387951,\n",
       "        0.68816874, 0.70261838, 0.69726045, 0.68004678, 0.70584277,\n",
       "        0.69252488, 0.69632263, 0.69132101, 0.685666  , 0.69646734,\n",
       "        0.69731402, 0.6836039 , 0.68995011, 0.68654927, 0.66320241,\n",
       "        0.69064911, 0.68664678, 0.70129169, 0.6820602 , 0.71173787,\n",
       "        0.68223142]),\n",
       " 'split1_test_score': array([0.79700457, 0.79327504, 0.80732114, 0.7972105 , 0.79976097,\n",
       "        0.79526309, 0.80999281, 0.81017361, 0.79171253, 0.79441724,\n",
       "        0.80564393, 0.79956515, 0.78479614, 0.80776047, 0.81227865,\n",
       "        0.79120517, 0.7972455 , 0.79353616, 0.7708826 , 0.80051046,\n",
       "        0.80092348, 0.79862595, 0.80878737, 0.8082324 , 0.78059576,\n",
       "        0.81087411, 0.81108625, 0.7800612 , 0.79909095, 0.80370826,\n",
       "        0.7762468 , 0.79099136, 0.80383138, 0.83048642, 0.81273189,\n",
       "        0.80263254]),\n",
       " 'split2_test_score': array([0.18065141, 0.35822237, 0.21744339, 0.31791697, 0.29772245,\n",
       "        0.34052057, 0.3840786 , 0.40320869, 0.33910524, 0.32081746,\n",
       "        0.35350776, 0.36075044, 0.30558364, 0.35755476, 0.31024475,\n",
       "        0.36191782, 0.26111524, 0.35372911, 0.32107371, 0.39224533,\n",
       "        0.33767212, 0.27379189, 0.36406274, 0.38057046, 0.2703113 ,\n",
       "        0.2684437 , 0.39722779, 0.40185173, 0.33775923, 0.31793479,\n",
       "        0.4362914 , 0.33888616, 0.33575017, 0.30976903, 0.38301637,\n",
       "        0.31017312]),\n",
       " 'split3_test_score': array([0.77419161, 0.78409138, 0.76589081, 0.75086407, 0.78986044,\n",
       "        0.78156956, 0.77323692, 0.76529479, 0.79219888, 0.74350962,\n",
       "        0.76945388, 0.76878341, 0.75050094, 0.79118152, 0.78677665,\n",
       "        0.7654871 , 0.7844588 , 0.78074183, 0.77588899, 0.76628035,\n",
       "        0.76367551, 0.76650065, 0.78219924, 0.77286673, 0.7939565 ,\n",
       "        0.79005925, 0.76851234, 0.7619182 , 0.77065616, 0.78227592,\n",
       "        0.7948741 , 0.78446716, 0.77269871, 0.78235075, 0.78644377,\n",
       "        0.77948153]),\n",
       " 'split4_test_score': array([0.83275462, 0.83373357, 0.82681523, 0.82909687, 0.83578537,\n",
       "        0.83697264, 0.8354184 , 0.83891912, 0.83825568, 0.84146821,\n",
       "        0.82627709, 0.83079339, 0.81801014, 0.83647903, 0.82998487,\n",
       "        0.81980472, 0.8369704 , 0.83513231, 0.83854216, 0.83488397,\n",
       "        0.84170297, 0.83966463, 0.84215506, 0.83638594, 0.83551618,\n",
       "        0.83519503, 0.83389504, 0.83085985, 0.83389812, 0.84226111,\n",
       "        0.82705189, 0.83555279, 0.84016541, 0.84085254, 0.82763095,\n",
       "        0.83990497]),\n",
       " 'split5_test_score': array([0.75965748, 0.66795839, 0.73270182, 0.7251812 , 0.72093476,\n",
       "        0.73081713, 0.73618601, 0.71184264, 0.700565  , 0.65949372,\n",
       "        0.58991155, 0.69104637, 0.67824748, 0.71807069, 0.73628481,\n",
       "        0.70735027, 0.71541951, 0.67022309, 0.71977565, 0.69657336,\n",
       "        0.69119002, 0.62009427, 0.69902084, 0.67403593, 0.77204636,\n",
       "        0.72919895, 0.6624872 , 0.72877421, 0.68290792, 0.70003215,\n",
       "        0.68089541, 0.66282239, 0.67436779, 0.69951935, 0.72073782,\n",
       "        0.67085932]),\n",
       " 'split6_test_score': array([0.5079571 , 0.56118438, 0.54982209, 0.51689873, 0.55501703,\n",
       "        0.55797375, 0.54136246, 0.4796342 , 0.51170716, 0.57166019,\n",
       "        0.54921676, 0.50034052, 0.55736026, 0.52141247, 0.54776748,\n",
       "        0.54952952, 0.556932  , 0.52656354, 0.49433595, 0.51186875,\n",
       "        0.5200557 , 0.51904555, 0.49624141, 0.51921185, 0.5571325 ,\n",
       "        0.57013487, 0.55569005, 0.51209073, 0.59143878, 0.57726278,\n",
       "        0.51756352, 0.47719804, 0.5237074 , 0.46598162, 0.53814214,\n",
       "        0.52803482]),\n",
       " 'split7_test_score': array([0.35373565, 0.34150196, 0.35925065, 0.35107147, 0.34814999,\n",
       "        0.33132177, 0.31659861, 0.34180805, 0.32330801, 0.33136874,\n",
       "        0.32940988, 0.33396562, 0.38451946, 0.3562015 , 0.35160202,\n",
       "        0.37306568, 0.37153555, 0.34608724, 0.33157113, 0.32030374,\n",
       "        0.32553689, 0.36442714, 0.34905635, 0.32085542, 0.35113447,\n",
       "        0.35743742, 0.37155101, 0.349205  , 0.36317447, 0.35625103,\n",
       "        0.3299501 , 0.31638937, 0.32991183, 0.31979138, 0.32273416,\n",
       "        0.33636306]),\n",
       " 'split8_test_score': array([-0.68111961, -0.36010777, -0.46621797, -0.16917284, -0.33558046,\n",
       "        -0.51637574, -0.56084961, -0.31128307, -0.37011439, -0.59518381,\n",
       "        -0.47686371, -0.43913522, -0.34788082, -0.56781606, -0.3240307 ,\n",
       "        -0.65932336, -0.50663397, -0.54764481, -0.38365929, -0.40078102,\n",
       "        -0.33061807, -0.63117993, -0.44541051, -0.60090729, -0.30804232,\n",
       "        -0.34731513, -0.58355337, -0.49444769, -0.31931632, -0.37906403,\n",
       "        -0.315669  , -0.5056039 , -0.39586145, -0.46988204, -0.56413045,\n",
       "        -0.44136572]),\n",
       " 'split9_test_score': array([0.13024531, 0.20819385, 0.21303412, 0.25149327, 0.25730121,\n",
       "        0.25607352, 0.23655801, 0.23701752, 0.27186097, 0.13924611,\n",
       "        0.23403901, 0.24890405, 0.26073184, 0.24687785, 0.21308061,\n",
       "        0.23890064, 0.26585764, 0.28193001, 0.24083172, 0.26197499,\n",
       "        0.27036943, 0.21592587, 0.22373902, 0.23604601, 0.11712321,\n",
       "        0.20961323, 0.18360961, 0.20926272, 0.22187546, 0.24434846,\n",
       "        0.25820791, 0.25181576, 0.27420757, 0.25809074, 0.27054446,\n",
       "        0.26513926]),\n",
       " 'mean_test_score': array([0.43330687, 0.48716196, 0.46912332, 0.50360172, 0.49587173,\n",
       "        0.48056839, 0.47567166, 0.497207  , 0.48961411, 0.44669087,\n",
       "        0.4646487 , 0.47944506, 0.48684982, 0.47521203, 0.49578686,\n",
       "        0.46361063, 0.4785519 , 0.47375589, 0.47892894, 0.48897027,\n",
       "        0.49130329, 0.44632187, 0.48111725, 0.46329634, 0.48662413,\n",
       "        0.49209554, 0.46841098, 0.47695261, 0.4968034 , 0.49082129,\n",
       "        0.49960612, 0.46391659, 0.48600705, 0.471902  , 0.4809589 ,\n",
       "        0.47734543]),\n",
       " 'std_test_score': array([0.4454148 , 0.34817481, 0.38326426, 0.30044831, 0.34574255,\n",
       "        0.38935462, 0.4013251 , 0.33564936, 0.35063578, 0.40993697,\n",
       "        0.37061682, 0.36543657, 0.33716547, 0.4017292 , 0.34692235,\n",
       "        0.42101715, 0.38866762, 0.39104952, 0.35338621, 0.35570491,\n",
       "        0.33905018, 0.41592101, 0.37095846, 0.40771333, 0.35584323,\n",
       "        0.35568268, 0.40433237, 0.38020827, 0.33828815, 0.35394333,\n",
       "        0.331113  , 0.38204009, 0.35515842, 0.37936711, 0.40108757,\n",
       "        0.36707314]),\n",
       " 'rank_test_score': array([36, 12, 28,  1,  5, 18, 24,  3, 10, 34, 30, 19, 13, 25,  6, 32, 21,\n",
       "        26, 20, 11,  8, 35, 16, 33, 14,  7, 29, 23,  4,  9,  2, 31, 15, 27,\n",
       "        17, 22])}"
      ]
     },
     "execution_count": 15,
     "metadata": {},
     "output_type": "execute_result"
    }
   ],
   "source": [
    "grid.cv_results_"
   ]
  },
  {
   "cell_type": "markdown",
   "metadata": {},
   "source": [
    "## RandomizedSearchCV"
   ]
  },
  {
   "cell_type": "code",
   "execution_count": 17,
   "metadata": {},
   "outputs": [],
   "source": [
    "from sklearn.model_selection import RandomizedSearchCV"
   ]
  },
  {
   "cell_type": "code",
   "execution_count": 18,
   "metadata": {},
   "outputs": [],
   "source": [
    "rand_cv = RandomizedSearchCV(rfr, param_grid, cv=10)"
   ]
  },
  {
   "cell_type": "code",
   "execution_count": 19,
   "metadata": {},
   "outputs": [
    {
     "data": {
      "text/plain": [
       "RandomizedSearchCV(cv=10, estimator=RandomForestRegressor(),\n",
       "                   param_distributions={'max_depth': [10, 13, 16],\n",
       "                                        'min_samples_leaf': [1, 2],\n",
       "                                        'min_samples_split': [2, 3],\n",
       "                                        'n_estimators': [50, 100, 150]})"
      ]
     },
     "execution_count": 19,
     "metadata": {},
     "output_type": "execute_result"
    }
   ],
   "source": [
    "rand_cv.fit(X_train, np.ravel(y_train))"
   ]
  },
  {
   "cell_type": "code",
   "execution_count": 20,
   "metadata": {},
   "outputs": [
    {
     "data": {
      "text/plain": [
       "{'mean_fit_time': array([0.25324385, 0.37436817, 0.13611546, 0.40574808, 0.12412286,\n",
       "        0.12232382, 0.24694741, 0.36737304, 0.3853622 , 0.13301783]),\n",
       " 'std_fit_time': array([0.00885068, 0.02060308, 0.0052655 , 0.00244775, 0.00381297,\n",
       "        0.00286886, 0.01136249, 0.01419149, 0.05258789, 0.00537177]),\n",
       " 'mean_score_time': array([0.01139255, 0.01638987, 0.00699646, 0.01539152, 0.0066962 ,\n",
       "        0.00709605, 0.01119399, 0.01509037, 0.01529033, 0.0070955 ]),\n",
       " 'std_score_time': array([0.00091562, 0.0019064 , 0.00044702, 0.00048916, 0.00045777,\n",
       "        0.00029946, 0.00074804, 0.0003006 , 0.00078047, 0.00029996]),\n",
       " 'param_n_estimators': masked_array(data=[100, 150, 50, 150, 50, 50, 100, 150, 150, 50],\n",
       "              mask=[False, False, False, False, False, False, False, False,\n",
       "                    False, False],\n",
       "        fill_value='?',\n",
       "             dtype=object),\n",
       " 'param_min_samples_split': masked_array(data=[3, 2, 3, 2, 3, 3, 2, 3, 3, 3],\n",
       "              mask=[False, False, False, False, False, False, False, False,\n",
       "                    False, False],\n",
       "        fill_value='?',\n",
       "             dtype=object),\n",
       " 'param_min_samples_leaf': masked_array(data=[2, 2, 1, 1, 2, 2, 2, 2, 2, 1],\n",
       "              mask=[False, False, False, False, False, False, False, False,\n",
       "                    False, False],\n",
       "        fill_value='?',\n",
       "             dtype=object),\n",
       " 'param_max_depth': masked_array(data=[16, 10, 16, 13, 13, 10, 16, 16, 13, 10],\n",
       "              mask=[False, False, False, False, False, False, False, False,\n",
       "                    False, False],\n",
       "        fill_value='?',\n",
       "             dtype=object),\n",
       " 'params': [{'n_estimators': 100,\n",
       "   'min_samples_split': 3,\n",
       "   'min_samples_leaf': 2,\n",
       "   'max_depth': 16},\n",
       "  {'n_estimators': 150,\n",
       "   'min_samples_split': 2,\n",
       "   'min_samples_leaf': 2,\n",
       "   'max_depth': 10},\n",
       "  {'n_estimators': 50,\n",
       "   'min_samples_split': 3,\n",
       "   'min_samples_leaf': 1,\n",
       "   'max_depth': 16},\n",
       "  {'n_estimators': 150,\n",
       "   'min_samples_split': 2,\n",
       "   'min_samples_leaf': 1,\n",
       "   'max_depth': 13},\n",
       "  {'n_estimators': 50,\n",
       "   'min_samples_split': 3,\n",
       "   'min_samples_leaf': 2,\n",
       "   'max_depth': 13},\n",
       "  {'n_estimators': 50,\n",
       "   'min_samples_split': 3,\n",
       "   'min_samples_leaf': 2,\n",
       "   'max_depth': 10},\n",
       "  {'n_estimators': 100,\n",
       "   'min_samples_split': 2,\n",
       "   'min_samples_leaf': 2,\n",
       "   'max_depth': 16},\n",
       "  {'n_estimators': 150,\n",
       "   'min_samples_split': 3,\n",
       "   'min_samples_leaf': 2,\n",
       "   'max_depth': 16},\n",
       "  {'n_estimators': 150,\n",
       "   'min_samples_split': 3,\n",
       "   'min_samples_leaf': 2,\n",
       "   'max_depth': 13},\n",
       "  {'n_estimators': 50,\n",
       "   'min_samples_split': 3,\n",
       "   'min_samples_leaf': 1,\n",
       "   'max_depth': 10}],\n",
       " 'split0_test_score': array([0.87494369, 0.88753042, 0.89608747, 0.89661854, 0.86610979,\n",
       "        0.87576046, 0.87612223, 0.88382304, 0.87840295, 0.88446381]),\n",
       " 'split1_test_score': array([0.93052858, 0.933899  , 0.93388234, 0.93706723, 0.93234339,\n",
       "        0.92644808, 0.93001477, 0.93448425, 0.92647438, 0.92186766]),\n",
       " 'split2_test_score': array([0.53222547, 0.5562147 , 0.57926453, 0.62603969, 0.56816362,\n",
       "        0.55588062, 0.57903692, 0.57175122, 0.57179144, 0.61798595]),\n",
       " 'split3_test_score': array([0.89340513, 0.89017335, 0.89109803, 0.89381838, 0.89572149,\n",
       "        0.87758557, 0.89760342, 0.8923137 , 0.8928373 , 0.90740166]),\n",
       " 'split4_test_score': array([0.91705047, 0.91550594, 0.91933136, 0.91301343, 0.90529173,\n",
       "        0.91165803, 0.91602734, 0.91819484, 0.91443901, 0.92389881]),\n",
       " 'split5_test_score': array([0.65689942, 0.70534941, 0.61599438, 0.61182922, 0.77315416,\n",
       "        0.72433083, 0.70180842, 0.70678033, 0.7025092 , 0.52705635]),\n",
       " 'split6_test_score': array([0.66998587, 0.67116168, 0.68700531, 0.68077108, 0.65992458,\n",
       "        0.66408442, 0.66803707, 0.6753074 , 0.67041536, 0.67848613]),\n",
       " 'split7_test_score': array([0.9055136 , 0.88572599, 0.90082167, 0.90664881, 0.88319267,\n",
       "        0.88754041, 0.90357406, 0.90254311, 0.90038636, 0.92121495]),\n",
       " 'split8_test_score': array([0.88139707, 0.86727157, 0.88193244, 0.89421709, 0.86691131,\n",
       "        0.84754343, 0.88867286, 0.87800184, 0.87848626, 0.89901173]),\n",
       " 'split9_test_score': array([0.88030822, 0.88836141, 0.90224118, 0.90604082, 0.89296053,\n",
       "        0.88230053, 0.89968182, 0.89246426, 0.88359927, 0.91339235]),\n",
       " 'mean_test_score': array([0.81422575, 0.82011935, 0.82076587, 0.82660643, 0.82437733,\n",
       "        0.81531324, 0.82605789, 0.8255664 , 0.82193415, 0.81947794]),\n",
       " 'std_test_score': array([0.13279629, 0.12152652, 0.12963992, 0.1240963 , 0.11415841,\n",
       "        0.11762698, 0.11970985, 0.11939532, 0.11859549, 0.14311715]),\n",
       " 'rank_test_score': array([10,  7,  6,  1,  4,  9,  2,  3,  5,  8])}"
      ]
     },
     "execution_count": 20,
     "metadata": {},
     "output_type": "execute_result"
    }
   ],
   "source": [
    "rand_cv.cv_results_"
   ]
  },
  {
   "cell_type": "code",
   "execution_count": 21,
   "metadata": {},
   "outputs": [
    {
     "data": {
      "text/plain": [
       "{'n_estimators': 150,\n",
       " 'min_samples_split': 2,\n",
       " 'min_samples_leaf': 1,\n",
       " 'max_depth': 13}"
      ]
     },
     "execution_count": 21,
     "metadata": {},
     "output_type": "execute_result"
    }
   ],
   "source": [
    "rand_cv.best_params_"
   ]
  },
  {
   "cell_type": "code",
   "execution_count": 22,
   "metadata": {},
   "outputs": [
    {
     "data": {
      "text/plain": [
       "RandomForestRegressor(max_depth=13, n_estimators=150)"
      ]
     },
     "execution_count": 22,
     "metadata": {},
     "output_type": "execute_result"
    }
   ],
   "source": [
    "rand_cv.best_estimator_"
   ]
  },
  {
   "cell_type": "code",
   "execution_count": 23,
   "metadata": {},
   "outputs": [
    {
     "data": {
      "text/plain": [
       "0.8179564897061667"
      ]
     },
     "execution_count": 23,
     "metadata": {},
     "output_type": "execute_result"
    }
   ],
   "source": [
    "rand_cv.best_estimator_.score(X_test, y_test)"
   ]
  },
  {
   "cell_type": "markdown",
   "metadata": {},
   "source": [
    "## OOB Score\n",
    "\n",
    "OOB-оценка - это оценка, когда для каждого $x_i$, используются только те классификаторы, которые до этого не видели $x_i$ в качестве обучающего примера"
   ]
  },
  {
   "cell_type": "code",
   "execution_count": 30,
   "metadata": {},
   "outputs": [
    {
     "name": "stdout",
     "output_type": "stream",
     "text": [
      "0.8701254926733086\n",
      "0.8273626067283906\n"
     ]
    }
   ],
   "source": [
    "rfr = RandomForestRegressor(oob_score=True, max_depth=14)\n",
    "rfr.fit(X_train, np.ravel(y_train))\n",
    "print(rfr.oob_score_)\n",
    "print(rfr.score(X_test, y_test))"
   ]
  },
  {
   "cell_type": "code",
   "execution_count": null,
   "metadata": {},
   "outputs": [],
   "source": []
  }
 ],
 "metadata": {
  "kernelspec": {
   "display_name": "Python 3",
   "language": "python",
   "name": "python3"
  },
  "language_info": {
   "codemirror_mode": {
    "name": "ipython",
    "version": 3
   },
   "file_extension": ".py",
   "mimetype": "text/x-python",
   "name": "python",
   "nbconvert_exporter": "python",
   "pygments_lexer": "ipython3",
   "version": "3.8.3"
  },
  "varInspector": {
   "cols": {
    "lenName": 16,
    "lenType": 16,
    "lenVar": 40
   },
   "kernels_config": {
    "python": {
     "delete_cmd_postfix": "",
     "delete_cmd_prefix": "del ",
     "library": "var_list.py",
     "varRefreshCmd": "print(var_dic_list())"
    },
    "r": {
     "delete_cmd_postfix": ") ",
     "delete_cmd_prefix": "rm(",
     "library": "var_list.r",
     "varRefreshCmd": "cat(var_dic_list()) "
    }
   },
   "types_to_exclude": [
    "module",
    "function",
    "builtin_function_or_method",
    "instance",
    "_Feature"
   ],
   "window_display": false
  }
 },
 "nbformat": 4,
 "nbformat_minor": 2
}
