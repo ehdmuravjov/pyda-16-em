{
 "cells": [
  {
   "cell_type": "markdown",
   "metadata": {},
   "source": [
    "# **Домашнее задание к лекции \"Функции\"**\n",
    "Вам нужно помочь секретарю автоматизировать работу. Для этого нужно написать программу, которая будет на основе хранимых данных исполнять пользовательские команды."
   ]
  },
  {
   "cell_type": "code",
   "execution_count": 1,
   "metadata": {},
   "outputs": [],
   "source": [
    "documents = [\n",
    " {'type': 'passport', 'number': '2207 876234', 'name': 'Василий Гупкин'},\n",
    " {'type': 'invoice', 'number': '11-2', 'name': 'Геннадий Покемонов'},\n",
    " {'type': 'insurance', 'number': '10006', 'name': 'Аристарх Павлов'}\n",
    "]\n",
    "directories = {\n",
    " '1': ['2207 876234', '11-2'],\n",
    " '2': ['10006'],\n",
    " '3': []\n",
    "}"
   ]
  },
  {
   "cell_type": "markdown",
   "metadata": {},
   "source": [
    "# **Задание 1**\n",
    "**Пункт 1.** Пользователь по команде \"p\" может узнать владельца документа по его номеру"
   ]
  },
  {
   "cell_type": "code",
   "execution_count": 2,
   "metadata": {},
   "outputs": [],
   "source": [
    "def func_p(number): #функция определения владельца документа\n",
    "    number = str(number)\n",
    "    for val in documents:\n",
    "        if val.get('number') == number:\n",
    "            text = 'Владелец документа: ' + val.get('name')\n",
    "            break\n",
    "        else:\n",
    "            text = 'Документ не найден в базе'\n",
    "    return text"
   ]
  },
  {
   "cell_type": "code",
   "execution_count": 3,
   "metadata": {},
   "outputs": [],
   "source": [
    "def main():\n",
    "    while True:\n",
    "        user_input = input('Введите команду: ')\n",
    "        if user_input == 'p':\n",
    "            number = str(input('Введите номер документа:'))\n",
    "            print(func_p(number))\n",
    "        elif user_input == 'q':\n",
    "            print('Выход')\n",
    "            break"
   ]
  },
  {
   "cell_type": "code",
   "execution_count": 4,
   "metadata": {},
   "outputs": [
    {
     "name": "stdout",
     "output_type": "stream",
     "text": [
      "Введите команду: p\n",
      "Введите номер документа:10006\n",
      "Владелец документа: Аристарх Павлов\n",
      "Введите команду: p\n",
      "Введите номер документа:111\n",
      "Документ не найден в базе\n",
      "Введите команду: q\n",
      "Выход\n"
     ]
    }
   ],
   "source": [
    "main()"
   ]
  },
  {
   "cell_type": "markdown",
   "metadata": {},
   "source": [
    "**Пункт 2.** Пользователь по команде \"s\" может по номеру документа узнать на какой полке он хранится"
   ]
  },
  {
   "cell_type": "code",
   "execution_count": 5,
   "metadata": {},
   "outputs": [],
   "source": [
    "def func_s(number): #функция для определения номер полки, на которой хранится документ\n",
    "    for n, k in directories.items():\n",
    "        if str(number) in k:\n",
    "            val = int(n)\n",
    "            break\n",
    "        else:\n",
    "            val = 'Документ не найден в базе'\n",
    "    return val"
   ]
  },
  {
   "cell_type": "code",
   "execution_count": 6,
   "metadata": {},
   "outputs": [],
   "source": [
    "def main():\n",
    "    while True:\n",
    "        user_input = input('Введите команду: ')\n",
    "        if user_input == 'p':\n",
    "            number = input('Введите номер документа:')\n",
    "            print(func_p(number))\n",
    "        elif user_input == 's':\n",
    "            number = input('Введите номер документа:')\n",
    "            if type(func_s(number)) == int:\n",
    "                print('Документ хранится на полке: ', func_s(number))\n",
    "            else:\n",
    "                print(func_s(number))\n",
    "        elif user_input == 'q':\n",
    "            print('Выход')\n",
    "            break"
   ]
  },
  {
   "cell_type": "code",
   "execution_count": 7,
   "metadata": {},
   "outputs": [
    {
     "name": "stdout",
     "output_type": "stream",
     "text": [
      "Введите команду: s\n",
      "Введите номер документа:11-2\n",
      "Документ хранится на полке:  1\n",
      "Введите команду: 111\n",
      "Введите команду: s\n",
      "Введите номер документа:111\n",
      "Документ не найден в базе\n",
      "Введите команду: q\n",
      "Выход\n"
     ]
    }
   ],
   "source": [
    "main()"
   ]
  },
  {
   "cell_type": "markdown",
   "metadata": {},
   "source": [
    "**Пункт 3.** Пользователь по команде \"l\" может увидеть полную информацию по всем документам"
   ]
  },
  {
   "cell_type": "code",
   "execution_count": 8,
   "metadata": {},
   "outputs": [],
   "source": [
    "def func_doc():#функция для отображения полной информации в текущий момент\n",
    "    text = ''\n",
    "    for doc in documents:\n",
    "        text += '№: ' + doc['number'] + ', тип:' + doc['type'] + ', владелец: ' + doc['name'] + ', полка хранения:' + str(func_s(doc['number'])) + '\\n'\n",
    "    return text"
   ]
  },
  {
   "cell_type": "code",
   "execution_count": 9,
   "metadata": {},
   "outputs": [],
   "source": [
    "def main():\n",
    "    while True:\n",
    "        user_input = input('Введите команду: ')\n",
    "        if user_input == 'p':\n",
    "            number = input('Введите номер документа:')\n",
    "            print(func_p(number))\n",
    "        elif user_input == 's':\n",
    "            number = input('Введите номер документа:')\n",
    "            if type(func_s(number)) == int:\n",
    "                print('Документ хранится на полке: ', func_s(number))\n",
    "            else:\n",
    "                print(func_s(number))\n",
    "        elif user_input == '/':\n",
    "            print(func_doc())\n",
    "        elif user_input == 'q':\n",
    "            print('Выход')\n",
    "            break"
   ]
  },
  {
   "cell_type": "code",
   "execution_count": 10,
   "metadata": {},
   "outputs": [
    {
     "name": "stdout",
     "output_type": "stream",
     "text": [
      "Введите команду: /\n",
      "№: 2207 876234, тип:passport, владелец: Василий Гупкин, полка хранения:1\n",
      "№: 11-2, тип:invoice, владелец: Геннадий Покемонов, полка хранения:1\n",
      "№: 10006, тип:insurance, владелец: Аристарх Павлов, полка хранения:2\n",
      "\n",
      "Введите команду: q\n",
      "Выход\n"
     ]
    }
   ],
   "source": [
    "main()"
   ]
  },
  {
   "cell_type": "markdown",
   "metadata": {},
   "source": [
    "**Пункт 4.** Пользователь по команде \"ads\" может добавить новую полку"
   ]
  },
  {
   "cell_type": "code",
   "execution_count": 11,
   "metadata": {},
   "outputs": [],
   "source": [
    "def func_list_dir(): #функция преобразования ключей словаря directories в строку\n",
    "    list_dir = ''\n",
    "    for i, val in enumerate(directories.keys()):\n",
    "        if i < len(directories.keys()) - 1 :\n",
    "            list_dir = list_dir + val + ', '\n",
    "        else:\n",
    "            list_dir = list_dir + val + '.'\n",
    "    return list_dir"
   ]
  },
  {
   "cell_type": "code",
   "execution_count": 12,
   "metadata": {},
   "outputs": [],
   "source": [
    "def func_ads(number):#функция добавления новой полки\n",
    "    if number not in directories.keys():\n",
    "        directories[number] = []\n",
    "        print('Полка добавлена.Текущий перечень полок: ', func_list_dir())\n",
    "    elif number in directories.keys():\n",
    "        print('Такая полка уже существует. Текущий перечень полок:', func_list_dir())"
   ]
  },
  {
   "cell_type": "code",
   "execution_count": 13,
   "metadata": {},
   "outputs": [],
   "source": [
    "def main():\n",
    "    while True:\n",
    "        user_input = input('Введите команду: ')\n",
    "        if user_input == 'p':\n",
    "            number = input('Введите номер документа:')\n",
    "            print(func_p(number))\n",
    "        elif user_input == 's':\n",
    "            number = input('Введите номер документа:')\n",
    "            if type(func_s(number)) == int:\n",
    "                print('Документ хранится на полке: ', func_s(number))\n",
    "            else:\n",
    "                print(func_s(number))\n",
    "        elif user_input == '/':\n",
    "            print(func_doc())\n",
    "        elif user_input == 'ads':\n",
    "            number = input('Введите номер полки:')\n",
    "            func_ads(number)\n",
    "        elif user_input == 'q':\n",
    "            print('Выход')\n",
    "            break"
   ]
  },
  {
   "cell_type": "code",
   "execution_count": 14,
   "metadata": {},
   "outputs": [
    {
     "name": "stdout",
     "output_type": "stream",
     "text": [
      "Введите команду: ads\n",
      "Введите номер полки:5\n",
      "Полка добавлена.Текущий перечень полок:  1, 2, 3, 5.\n",
      "Введите команду: ads\n",
      "Введите номер полки:2\n",
      "Такая полка уже существует. Текущий перечень полок: 1, 2, 3, 5.\n",
      "Введите команду: q\n",
      "Выход\n"
     ]
    }
   ],
   "source": [
    "main()"
   ]
  },
  {
   "cell_type": "markdown",
   "metadata": {},
   "source": [
    "**Пункт 5.** Пользователь по команде \"ds\" может удалить существующую полку из данных (только если она пустая)"
   ]
  },
  {
   "cell_type": "code",
   "execution_count": 15,
   "metadata": {},
   "outputs": [],
   "source": [
    "def func_del(number): #функция удаления существующей полки из данных (только если она пустая)\n",
    "    if number not in directories.keys():\n",
    "        print('Такой полки не существует. Текущий перечень полок:', func_list_dir())\n",
    "    elif number in directories.keys():\n",
    "        if directories[number] == []:\n",
    "            del(directories[number])\n",
    "            print('Полка удалена. Текущий перечень полок: ', func_list_dir() )\n",
    "        else:\n",
    "            print('На полке есть документы, удалите их перед удалением полки. Текущий перечень полок:', func_list_dir())"
   ]
  },
  {
   "cell_type": "code",
   "execution_count": 16,
   "metadata": {},
   "outputs": [],
   "source": [
    "def main():\n",
    "    while True:\n",
    "        user_input = input('Введите команду: ')\n",
    "        if user_input == 'p':\n",
    "            number = input('Введите номер документа:')\n",
    "            print(func_p(number))\n",
    "        elif user_input == 's':\n",
    "            number = input('Введите номер документа:')\n",
    "            if type(func_s(number)) == int:\n",
    "                print('Документ хранится на полке: ', func_s(number))\n",
    "            else:\n",
    "                print(func_s(number))\n",
    "        elif user_input == '/':\n",
    "            print(func_doc())\n",
    "        elif user_input == 'ads':\n",
    "            number = input('Введите номер полки:')\n",
    "            func_ads(number)\n",
    "        elif user_input == 'ds':\n",
    "            number = input('Введите номер полки:')\n",
    "            func_del(number)\n",
    "        elif user_input == 'q':\n",
    "            print('Выход')\n",
    "            break"
   ]
  },
  {
   "cell_type": "code",
   "execution_count": 17,
   "metadata": {},
   "outputs": [
    {
     "name": "stdout",
     "output_type": "stream",
     "text": [
      "Введите команду: ds\n",
      "Введите номер полки:1\n",
      "На полке есть документа, удалите их перед удалением полки. Текущий перечень полок: 1, 2, 3, 5.\n",
      "Введите команду: ds\n",
      "Введите номер полки:5\n",
      "Полка удалена. Текущий перечень полок:  1, 2, 3.\n",
      "Введите команду: q\n",
      "Выход\n"
     ]
    }
   ],
   "source": [
    "main()"
   ]
  },
  {
   "cell_type": "markdown",
   "metadata": {},
   "source": [
    "# Задание 2 (необязательное)"
   ]
  },
  {
   "cell_type": "markdown",
   "metadata": {},
   "source": [
    "**Пункт 1.** Пользователь по команде \"ad\" может добавить новый документ в данные"
   ]
  },
  {
   "cell_type": "code",
   "execution_count": 18,
   "metadata": {},
   "outputs": [],
   "source": [
    "def func_ad():#функция добавление нового документа в данные\n",
    "    number = input('Введите номер документа:')\n",
    "    doctype = input('Введите тип документа: ')\n",
    "    name = input('Введите владельца документа: ')\n",
    "    dir_ = input('Введите полку для хранения: ')\n",
    "    mydict = {'type':doctype, 'number':number,'name': name}\n",
    "    documents.append(mydict)\n",
    "    if dir_ in directories.keys():\n",
    "        directories[dir_].append(number)\n",
    "        print('Документ добавлен. Текущий список документов:\\n')\n",
    "        print(func_doc())\n",
    "    elif dir_ not in directories.keys():\n",
    "        print('Такой полки не существует.Добавьте полку командой ads.\\n Текущий список документов:')\n",
    "        print(func_doc())"
   ]
  },
  {
   "cell_type": "code",
   "execution_count": 19,
   "metadata": {},
   "outputs": [],
   "source": [
    "def main():\n",
    "    while True:\n",
    "        user_input = input('Введите команду: ')\n",
    "        if user_input == 'p':\n",
    "            number = input('Введите номер документа:')\n",
    "            print(func_p(number))\n",
    "        elif user_input == 's':\n",
    "            number = input('Введите номер документа:')\n",
    "            if type(func_s(number)) == int:\n",
    "                print('Документ хранится на полке: ', func_s(number))\n",
    "            else:\n",
    "                print(func_s(number))\n",
    "        elif user_input == '/':\n",
    "            print(func_doc())\n",
    "        elif user_input == 'ads':\n",
    "            number = input('Введите номер полки:')\n",
    "            func_ads(number)\n",
    "        elif user_input == 'ds':\n",
    "            number = input('Введите номер полки:')\n",
    "            func_del(number)\n",
    "        elif user_input == 'ad':\n",
    "            func_ad()\n",
    "        elif user_input == 'q':\n",
    "            print('Выход')\n",
    "            break"
   ]
  },
  {
   "cell_type": "code",
   "execution_count": 20,
   "metadata": {},
   "outputs": [
    {
     "name": "stdout",
     "output_type": "stream",
     "text": [
      "Введите команду: ad\n",
      "Введите номер документа:123456\n",
      "Введите тип документа: multipassport\n",
      "Введите владельца документа: pik\n",
      "Введите полку для хранения: 3\n",
      "Документ добавлен. Текущий список документов:\n",
      "\n",
      "№: 2207 876234, тип:passport, владелец: Василий Гупкин, полка хранения:1\n",
      "№: 11-2, тип:invoice, владелец: Геннадий Покемонов, полка хранения:1\n",
      "№: 10006, тип:insurance, владелец: Аристарх Павлов, полка хранения:2\n",
      "№: 123456, тип:multipassport, владелец: pik, полка хранения:3\n",
      "\n",
      "Введите команду: q\n",
      "Выход\n"
     ]
    }
   ],
   "source": [
    "main()"
   ]
  },
  {
   "cell_type": "markdown",
   "metadata": {},
   "source": [
    "**Пункт 2.** Пользователь по команде \"d\" может удалить документ из данных"
   ]
  },
  {
   "cell_type": "code",
   "execution_count": 21,
   "metadata": {},
   "outputs": [],
   "source": [
    "def func_d(number):#функция удаления документа из данных\n",
    "    for k, val in enumerate(documents):\n",
    "        if val['number'] == number:\n",
    "            del(documents[k])\n",
    "            text = 'Документ удален.\\n'\n",
    "        else:\n",
    "            text = 'Документ не найден в базе.\\n'\n",
    "   \n",
    "    return print(text, 'Текущий список документов:\\n', func_doc())"
   ]
  },
  {
   "cell_type": "code",
   "execution_count": 22,
   "metadata": {},
   "outputs": [],
   "source": [
    "def func_del_doc_from_dir(number):#функция удаления документа c полки\n",
    "    for key, doc in directories.items(): \n",
    "        for i, n in enumerate(doc):\n",
    "            if n == number:\n",
    "                del(directories[key][i])"
   ]
  },
  {
   "cell_type": "code",
   "execution_count": 23,
   "metadata": {},
   "outputs": [],
   "source": [
    "def main():\n",
    "    while True:\n",
    "        user_input = input('Введите команду: ')\n",
    "        if user_input == 'p':\n",
    "            number = input('Введите номер документа:')\n",
    "            print(func_p(number))\n",
    "        elif user_input == 's':\n",
    "            number = input('Введите номер документа:')\n",
    "            if type(func_s(number)) == int:\n",
    "                print('Документ хранится на полке: ', func_s(number))\n",
    "            else:\n",
    "                print(func_s(number))\n",
    "        elif user_input == '/':\n",
    "            print(func_doc())\n",
    "        elif user_input == 'ads':\n",
    "            number = input('Введите номер полки:')\n",
    "            func_ads(number)\n",
    "        elif user_input == 'ds':\n",
    "            number = input('Введите номер полки:')\n",
    "            func_del(number)\n",
    "        elif user_input == 'ad':\n",
    "            func_ad()\n",
    "        elif user_input == 'd':\n",
    "            number = input('Введите номер документа:')\n",
    "            func_d(number)\n",
    "            func_del_doc_from_dir(number)\n",
    "        elif user_input == 'q':\n",
    "            print('Выход')\n",
    "            break"
   ]
  },
  {
   "cell_type": "code",
   "execution_count": 24,
   "metadata": {},
   "outputs": [
    {
     "name": "stdout",
     "output_type": "stream",
     "text": [
      "Введите команду: d\n",
      "Введите номер документа:123456\n",
      "Документ удален.\n",
      " Текущий список документов:\n",
      " №: 2207 876234, тип:passport, владелец: Василий Гупкин, полка хранения:1\n",
      "№: 11-2, тип:invoice, владелец: Геннадий Покемонов, полка хранения:1\n",
      "№: 10006, тип:insurance, владелец: Аристарх Павлов, полка хранения:2\n",
      "\n",
      "Введите команду: q\n",
      "Выход\n"
     ]
    }
   ],
   "source": [
    "main()"
   ]
  },
  {
   "cell_type": "markdown",
   "metadata": {},
   "source": [
    "**Пункт 3.** Пользователь по команде \"m\" может переместить документ с полки на полку"
   ]
  },
  {
   "cell_type": "code",
   "execution_count": 25,
   "metadata": {},
   "outputs": [],
   "source": [
    "def func_m(num_doc, num_dir):#функция перемещения документа с полки на полку\n",
    "    num_doc = str(num_doc)\n",
    "    num_dir = str(num_dir)\n",
    "    if num_dir in directories.keys():\n",
    "        for val in documents:\n",
    "            if val.get('number') == num_doc: #проверка документа в базе\n",
    "                func_del_doc_from_dir(num_doc)\n",
    "                directories[num_dir].append(num_doc)\n",
    "                text = 'Документ перемещен'\n",
    "            else:\n",
    "                text = 'Документ не найден в базе. ' \n",
    "        text = text + '\\n'  + func_doc()\n",
    "    else:\n",
    "        text = 'Такой полки не существует. Текущий перечень полок: ' + func_list_dir()\n",
    "    return print(text)"
   ]
  },
  {
   "cell_type": "code",
   "execution_count": 26,
   "metadata": {},
   "outputs": [],
   "source": [
    "def main():\n",
    "    while True:\n",
    "        user_input = input('Введите команду: ')\n",
    "        if user_input == 'p':\n",
    "            number = input('Введите номер документа:')\n",
    "            print(func_p(number))\n",
    "        elif user_input == 's':\n",
    "            number = input('Введите номер документа:')\n",
    "            if type(func_s(number)) == int:\n",
    "                print('Документ хранится на полке: ', func_s(number))\n",
    "            else:\n",
    "                print(func_s(number))\n",
    "        elif user_input == '/':\n",
    "            print(func_doc())\n",
    "        elif user_input == 'ads':\n",
    "            number = input('Введите номер полки:')\n",
    "            func_ads(number)\n",
    "        elif user_input == 'ds':\n",
    "            number = input('Введите номер полки:')\n",
    "            func_del(number)\n",
    "        elif user_input == 'ad':\n",
    "            func_ad()\n",
    "        elif user_input == 'd':\n",
    "            number = input('Введите номер документа:')\n",
    "            func_d(number)\n",
    "            func_del_doc_from_dir(number)\n",
    "        elif user_input == 'm':\n",
    "            num_doc = input('Введите номер документа:')\n",
    "            num_dir = input('Введите номер полки:')\n",
    "            func_m(num_doc, num_dir)\n",
    "        elif user_input == 'q':\n",
    "            print('Выход')\n",
    "            break"
   ]
  },
  {
   "cell_type": "code",
   "execution_count": 27,
   "metadata": {},
   "outputs": [
    {
     "name": "stdout",
     "output_type": "stream",
     "text": [
      "Введите команду: m\n",
      "Введите номер документа:10006\n",
      "Введите номер полки:2\n",
      "Документ перемещен\n",
      "№: 2207 876234, тип:passport, владелец: Василий Гупкин, полка хранения:1\n",
      "№: 11-2, тип:invoice, владелец: Геннадий Покемонов, полка хранения:1\n",
      "№: 10006, тип:insurance, владелец: Аристарх Павлов, полка хранения:2\n",
      "\n",
      "Введите команду: m\n",
      "Введите номер документа:111\n",
      "Введите номер полки:1\n",
      "Документ не найден в базе. \n",
      "№: 2207 876234, тип:passport, владелец: Василий Гупкин, полка хранения:1\n",
      "№: 11-2, тип:invoice, владелец: Геннадий Покемонов, полка хранения:1\n",
      "№: 10006, тип:insurance, владелец: Аристарх Павлов, полка хранения:2\n",
      "\n",
      "Введите команду: 10006\n",
      "Введите команду: m\n",
      "Введите номер документа:10006\n",
      "Введите номер полки:4\n",
      "Такой полки не существует. Текущий перечень полок: 1, 2, 3.\n",
      "Введите команду: q\n",
      "Выход\n"
     ]
    }
   ],
   "source": [
    "main()"
   ]
  },
  {
   "cell_type": "code",
   "execution_count": null,
   "metadata": {},
   "outputs": [],
   "source": []
  }
 ],
 "metadata": {
  "kernelspec": {
   "display_name": "Python 3",
   "language": "python",
   "name": "python3"
  },
  "language_info": {
   "codemirror_mode": {
    "name": "ipython",
    "version": 3
   },
   "file_extension": ".py",
   "mimetype": "text/x-python",
   "name": "python",
   "nbconvert_exporter": "python",
   "pygments_lexer": "ipython3",
   "version": "3.8.3"
  }
 },
 "nbformat": 4,
 "nbformat_minor": 4
}
