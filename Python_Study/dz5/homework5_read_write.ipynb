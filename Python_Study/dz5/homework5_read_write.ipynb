{
 "cells": [
  {
   "cell_type": "markdown",
   "metadata": {},
   "source": [
    "# Домашнее задание к лекции Работа с файловой системой и модули"
   ]
  },
  {
   "cell_type": "markdown",
   "metadata": {},
   "source": [
    "**Задание 1**\n",
    "Переведите содержимое файла purchase_log.txt в словарь purchases вида:\n",
    "{‘1840e0b9d4’: ‘Продукты’, …}"
   ]
  },
  {
   "cell_type": "code",
   "execution_count": 1,
   "metadata": {},
   "outputs": [],
   "source": [
    "import json"
   ]
  },
  {
   "cell_type": "code",
   "execution_count": 2,
   "metadata": {},
   "outputs": [],
   "source": [
    "purchases = {} #перевод содержимого файла purchase_log.txt в словарь purchases\n",
    "with open('purchase_log.txt',encoding='UTF-8') as f: \n",
    "    for i, line in enumerate(f):\n",
    "        if i > 0:\n",
    "            line = line.strip()\n",
    "            dict_ = json.loads(line)\n",
    "            purchases[dict_['user_id']] = dict_['category']"
   ]
  },
  {
   "cell_type": "code",
   "execution_count": 3,
   "metadata": {},
   "outputs": [
    {
     "name": "stdout",
     "output_type": "stream",
     "text": [
      "1840e0b9d4 Продукты\n",
      "4e4f90fcfb Электроника\n",
      "afea8d72fc Электроника\n",
      "373a6055fe Бытовая техника\n",
      "9b2ab046f3 Электроника\n",
      "9f39d307c3 Электроника\n",
      "44edeffc91 Продукты\n",
      "704474fa2d Продукты\n",
      "1de31be403 Бытовая техника\n",
      "b71f36a5e4 Продукты\n"
     ]
    }
   ],
   "source": [
    "i = 0\n",
    "for key, value in purchases.items(): #просмотр первых 10 строк созданного словаря purchases\n",
    "    while i < 10:\n",
    "        print(key, value)\n",
    "        i += 1\n",
    "        break"
   ]
  },
  {
   "cell_type": "markdown",
   "metadata": {},
   "source": [
    "**Задание 2**\n",
    "Для каждого user_id в файле visit_log.csv определите третий столбец с категорией покупки (если покупка была, сам файл visit_log.csv изменять не надо). Запишите в файл funnel.csv визиты из файла visit_log.csv, в которых были покупки с указанием категории."
   ]
  },
  {
   "cell_type": "code",
   "execution_count": 4,
   "metadata": {},
   "outputs": [],
   "source": [
    "f = open('visit_log.csv', 'r', encoding='cp1251')"
   ]
  },
  {
   "cell_type": "code",
   "execution_count": 5,
   "metadata": {},
   "outputs": [],
   "source": [
    "fun = open('funnel.csv', 'w')"
   ]
  },
  {
   "cell_type": "code",
   "execution_count": 6,
   "metadata": {},
   "outputs": [],
   "source": [
    "for i, line in enumerate(f):#построчное чтение файла visit_log.csv и запись в файл funnel.csv \n",
    "    user_id, source = line.strip().split(',')\n",
    "    if purchases.get(user_id) != None:\n",
    "        fun.write(user_id + ' ' + source + ' ' + purchases.get(user_id) + '\\n')"
   ]
  },
  {
   "cell_type": "code",
   "execution_count": 7,
   "metadata": {},
   "outputs": [],
   "source": [
    "fun.close()\n",
    "f.close()"
   ]
  },
  {
   "cell_type": "code",
   "execution_count": 8,
   "metadata": {},
   "outputs": [],
   "source": [
    "fun = open('funnel.csv', 'r')"
   ]
  },
  {
   "cell_type": "code",
   "execution_count": 9,
   "metadata": {},
   "outputs": [
    {
     "name": "stdout",
     "output_type": "stream",
     "text": [
      "1840e0b9d4 other Продукты\n",
      "\n",
      "4e4f90fcfb context Электроника\n",
      "\n",
      "afea8d72fc other Электроника\n",
      "\n",
      "2824221f38 email Продукты\n",
      "\n",
      "373a6055fe other Бытовая техника\n",
      "\n",
      "9b2ab046f3 other Электроника\n",
      "\n",
      "9f39d307c3 context Электроника\n",
      "\n",
      "44edeffc91 context Продукты\n",
      "\n",
      "704474fa2d other Продукты\n",
      "\n",
      "1de31be403 other Бытовая техника\n",
      "\n",
      "5da0dedf13 context Досуг\n",
      "\n",
      "b71f36a5e4 other Продукты\n",
      "\n"
     ]
    }
   ],
   "source": [
    "for i, line in enumerate(fun):\n",
    "    print(line)\n",
    "    if i > 10:\n",
    "        break"
   ]
  },
  {
   "cell_type": "code",
   "execution_count": null,
   "metadata": {},
   "outputs": [],
   "source": []
  }
 ],
 "metadata": {
  "kernelspec": {
   "display_name": "Python 3",
   "language": "python",
   "name": "python3"
  },
  "language_info": {
   "codemirror_mode": {
    "name": "ipython",
    "version": 3
   },
   "file_extension": ".py",
   "mimetype": "text/x-python",
   "name": "python",
   "nbconvert_exporter": "python",
   "pygments_lexer": "ipython3",
   "version": "3.8.3"
  }
 },
 "nbformat": 4,
 "nbformat_minor": 4
}
