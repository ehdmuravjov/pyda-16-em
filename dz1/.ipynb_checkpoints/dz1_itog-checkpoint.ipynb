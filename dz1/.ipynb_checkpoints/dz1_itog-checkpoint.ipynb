{
 "cells": [
  {
   "cell_type": "markdown",
   "metadata": {},
   "source": [
    "Домашнее задание к лекции \"Основы Python\""
   ]
  },
  {
   "cell_type": "markdown",
   "metadata": {},
   "source": [
    "Задание 1.\n",
    "Даны 2 переменных, в которых хранятся строки произвольной длины: phrase_1 и phrase_2.\n",
    "Напишите код, который проверяет какая из этих строк длиннее."
   ]
  },
  {
   "cell_type": "code",
   "execution_count": 213,
   "metadata": {},
   "outputs": [
    {
     "name": "stdout",
     "output_type": "stream",
     "text": [
      "Фраза 1 длиннее фразы 2\n"
     ]
    }
   ],
   "source": [
    "phrase_1 = 'Насколько проще было бы писать программы, если бы не заказчики'\n",
    "phrase_2 = '640Кб должно хватить для любых задач. Билл Гейтс (по легенде)'\n",
    "if len(phrase_1) > len(phrase_2):\n",
    "    print('Фраза 1 длиннее фразы 2')\n",
    "elif len(phrase_1) < len(phrase_2):\n",
    "        print('Фраза 2 длиннее фразы 1')\n",
    "elif len(phrase_1) == len(phrase_2):\n",
    "        print('Фразы равной длины')"
   ]
  },
  {
   "cell_type": "markdown",
   "metadata": {},
   "source": [
    "Задание 2.\n",
    "Дана переменная, в которой хранится четырехзначное число (год). Необходимо написать программу, которая выведет, является ли данный год високосным или обычным."
   ]
  },
  {
   "cell_type": "code",
   "execution_count": 55,
   "metadata": {},
   "outputs": [
    {
     "name": "stdout",
     "output_type": "stream",
     "text": [
      "Високосный год\n"
     ]
    }
   ],
   "source": [
    "x = 2000\n",
    "if x % 400 == 0:\n",
    "    print('Високосный год')\n",
    "else:\n",
    "    if x % 4 == 0:\n",
    "        if x % 100 == 0:\n",
    "            print('Обычный год')\n",
    "        else:\n",
    "            print('Високосный год')\n",
    "    else:\n",
    "        print('Обычный год')"
   ]
  },
  {
   "cell_type": "markdown",
   "metadata": {},
   "source": [
    "Задание 3.\n",
    "Необходимо написать программу, которая будет запрашивать у пользователя месяц и дату рождения и выводить соответствующий знак зодиака."
   ]
  },
  {
   "cell_type": "markdown",
   "metadata": {},
   "source": [
    "'Введите день'"
   ]
  },
  {
   "cell_type": "code",
   "execution_count": 97,
   "metadata": {},
   "outputs": [],
   "source": [
    "d = 29"
   ]
  },
  {
   "cell_type": "markdown",
   "metadata": {},
   "source": [
    "'Введите месяц'"
   ]
  },
  {
   "cell_type": "code",
   "execution_count": 98,
   "metadata": {},
   "outputs": [],
   "source": [
    "m = 2"
   ]
  },
  {
   "cell_type": "code",
   "execution_count": 99,
   "metadata": {},
   "outputs": [
    {
     "name": "stdout",
     "output_type": "stream",
     "text": [
      "Рыбы\n"
     ]
    }
   ],
   "source": [
    "Months = ['январь', 'феврарь', 'март', 'апрель', 'май', 'июнь', 'июль', 'август', 'сентябрь', 'октябрь', 'ноябрь', 'декабрь']\n",
    "if type(m) == int:\n",
    "    if m <= 0 or  m >= 12:\n",
    "        print('Введены некорректные данные')\n",
    "elif type(m) == str:\n",
    "    if Months.count(m) != 0:\n",
    "        m = Months.index(m) + 1\n",
    "    if Months.count(m) == 0:\n",
    "        print('Введены некорректные данные')\n",
    "if 0 < d <= 31:\n",
    "    if '3-21' <= str(m) + '-' + str(d) <= '4-19':\n",
    "        print('Овен')\n",
    "    elif '4-20' <= str(m) + '-' + str(d) <= '5-20':\n",
    "        print('Телец')\n",
    "    elif '5-21' <= str(m) + '-' + str(d) <= '6-21':\n",
    "        print('Близнецы')\n",
    "    elif '6-22' <= str(m) + '-' + str(d) <= '7-22':\n",
    "        print('Рак')\n",
    "    elif '7-23' <= str(m) + '-' + str(d) <= '8-22':\n",
    "        print('Лев')\n",
    "    elif '8-23' <= str(m) + '-' + str(d) <= '9-22':\n",
    "        print('Дева')\n",
    "    elif '9-23' <= str(m) + '-' + str(d) <= '10-23':\n",
    "        print('Весы')\n",
    "    elif '10-24' <= str(m) + '-' + str(d) <= '11-22':\n",
    "        print('Скорпион')\n",
    "    elif '11-23' <= str(m) + '-' + str(d) <= '12-21':\n",
    "        print('Стрелец')\n",
    "    elif '12-22' <= str(m) + '-' + str(d) <= '1-20':\n",
    "        print('Козерог')\n",
    "    elif '1-21' <= str(m) + '-' + str(d) <= '2-18':\n",
    "        print('Водолей')\n",
    "    elif '2-19' <= str(m) + '-' + str(d) <= '3-20':\n",
    "        print('Рыбы')\n",
    "else:\n",
    "    print('Введен некорректный день')\n"
   ]
  },
  {
   "cell_type": "markdown",
   "metadata": {},
   "source": [
    "Задание 4\n",
    "Вам нужно написать программу для подбора упаковок по размерам товара. Размеры хранятся в переменных (в сантиметрах):\n",
    "\n",
    "width = 10\n",
    "length = 205\n",
    "height = 5\n",
    "Используйте следующие правила:\n",
    "\n",
    "если каждое из трех измерений менее 15 сантиметров, то выведите на экран \"Коробка №1\";\n",
    "если хотя бы одно из измерений больше 15 сантиметров, но менее 50 сантиметров, то выводите \"Коробка №2\";\n",
    "если длина товара больше 2 метров, то выводите \"Упаковка для лыж\";\n",
    "во всех остальных случаях выводите \"Стандартная коробка №3\"."
   ]
  },
  {
   "cell_type": "code",
   "execution_count": 27,
   "metadata": {},
   "outputs": [],
   "source": [
    "width = 45\n",
    "length = 205\n",
    "height = 45"
   ]
  },
  {
   "cell_type": "code",
   "execution_count": 28,
   "metadata": {},
   "outputs": [
    {
     "name": "stdout",
     "output_type": "stream",
     "text": [
      "Упаковка для лыж\n"
     ]
    }
   ],
   "source": [
    "if length > 200:\n",
    "    print('Упаковка для лыж')\n",
    "elif length <= 200:\n",
    "    if width < 15 and length < 15 and height < 15:\n",
    "        print('Коробка №1')\n",
    "    elif 15 < width < 50 or 15 < length < 50 or 15 <  height < 50:\n",
    "        print('Коробка №2')\n",
    "    else:\n",
    "        print('Стандартная коробка №3')"
   ]
  },
  {
   "cell_type": "markdown",
   "metadata": {},
   "source": [
    "Задание 5 (необязательное)\n",
    "Дана переменная, в которой хранится шестизначное число (номер проездного билета). Напишите программу, которая будет определять, является ли данный билет \"счастливым\". Билет считается счастливым, если сумма первых трех цифр совпадает с суммой последних трех цифр номера."
   ]
  },
  {
   "cell_type": "code",
   "execution_count": 193,
   "metadata": {},
   "outputs": [],
   "source": [
    "number = 123042"
   ]
  },
  {
   "cell_type": "code",
   "execution_count": 194,
   "metadata": {},
   "outputs": [
    {
     "name": "stdout",
     "output_type": "stream",
     "text": [
      "Счастливый билет\n"
     ]
    }
   ],
   "source": [
    "l = len(str(number))\n",
    "s1 = 0\n",
    "s2 = 0\n",
    "if l % 2 == 0:\n",
    "    for i in range(0, int(l/2)):\n",
    "        s1 = s1 + int(str(number)[i])\n",
    "        s2 = s2 + int(str(number)[-i-1])\n",
    "    if s1 == s2:\n",
    "        print('Счастливый билет')\n",
    "    else:\n",
    "        print('Несчастливый билет')\n",
    "else:\n",
    "    print('Введите номер с четным количеством цифр')"
   ]
  },
  {
   "cell_type": "markdown",
   "metadata": {},
   "source": [
    "Задание 6 (необязательное)\n",
    "Напишите программу, которая сможет вычислять площади трех фигур (круг, треугольник и прямоугольник). Тип фигуры запрашиваем через пользовательский ввод, после чего делаем запрос характеристик фигуры:\n",
    "\n",
    "если пользователь выбрал круг, запрашиваем его радиус,\n",
    "если треугольник – длины трех его сторон;\n",
    "если прямоугольник – длины двух его сторон."
   ]
  },
  {
   "cell_type": "markdown",
   "metadata": {},
   "source": [
    "Введите тип фигуры:"
   ]
  },
  {
   "cell_type": "code",
   "execution_count": 207,
   "metadata": {},
   "outputs": [],
   "source": [
    "t = 'Треугольник'"
   ]
  },
  {
   "cell_type": "code",
   "execution_count": 212,
   "metadata": {},
   "outputs": [
    {
     "name": "stdout",
     "output_type": "stream",
     "text": [
      "Введите длину стороны a:5\n",
      "Введите длину стороны b:6\n",
      "Введите длину стороны c:6\n",
      "Результат:\n",
      " Площадь треугольника: 13.635890143294644\n"
     ]
    }
   ],
   "source": [
    "if t == 'Круг':\n",
    "    R = float(input('Введите радиус круга:'))\n",
    "    S = 3.1415*R**2\n",
    "    print('Результат:\\n Площадь круга: ' + str(S))\n",
    "elif t == 'Треугольник':\n",
    "    a = float(input('Введите длину стороны a:'))\n",
    "    b = float(input('Введите длину стороны b:'))\n",
    "    c = float(input('Введите длину стороны c:'))\n",
    "    p = (a+b+c)/2\n",
    "    S = (p*(p - a)*(p - b)*(p - c))**(1./2)\n",
    "    print('Результат:\\n Площадь треугольника: ' + str(S))\n",
    "elif t == 'Прямоугольник':\n",
    "    a = float(input('Введите длину стороны a:'))\n",
    "    b = float(input('Введите длину стороны b:'))\n",
    "    S = a*b\n",
    "    print('Результат:\\n Площадь прямоугольника: ' + str(S))"
   ]
  },
  {
   "cell_type": "code",
   "execution_count": null,
   "metadata": {},
   "outputs": [],
   "source": []
  },
  {
   "cell_type": "code",
   "execution_count": null,
   "metadata": {},
   "outputs": [],
   "source": []
  }
 ],
 "metadata": {
  "kernelspec": {
   "display_name": "Python 3",
   "language": "python",
   "name": "python3"
  },
  "language_info": {
   "codemirror_mode": {
    "name": "ipython",
    "version": 3
   },
   "file_extension": ".py",
   "mimetype": "text/x-python",
   "name": "python",
   "nbconvert_exporter": "python",
   "pygments_lexer": "ipython3",
   "version": "3.8.3"
  }
 },
 "nbformat": 4,
 "nbformat_minor": 4
}
