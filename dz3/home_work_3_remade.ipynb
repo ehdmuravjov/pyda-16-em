{
 "cells": [
  {
   "cell_type": "markdown",
   "metadata": {},
   "source": [
    "# Домашнее задание к лекции «Управляющие конструкции и коллекции» часть 2"
   ]
  },
  {
   "cell_type": "markdown",
   "metadata": {},
   "source": [
    "**Задание 1**\n",
    "Дана переменная, в которой хранится словарь, содержащий гео-метки для каждого пользователя (пример структуры данных приведен ниже). Вам необходимо написать программу, которая выведет на экран множество уникальных гео-меток всех пользователей."
   ]
  },
  {
   "cell_type": "code",
   "execution_count": 1,
   "metadata": {},
   "outputs": [],
   "source": [
    "ids = {\"user1\": [213, 213, 213, 15, 213],\n",
    "\"user2\": [54, 54, 119, 119, 119],\n",
    "\"user3\": [213, 98, 98, 35]}"
   ]
  },
  {
   "cell_type": "code",
   "execution_count": 2,
   "metadata": {},
   "outputs": [
    {
     "name": "stdout",
     "output_type": "stream",
     "text": [
      "{98, 35, 15, 213, 54, 119}\n"
     ]
    }
   ],
   "source": [
    "ids_set = set()\n",
    "for id_ in ids.values():\n",
    "    ids_set = ids_set.union(id_) \n",
    "print(ids_set)"
   ]
  },
  {
   "cell_type": "markdown",
   "metadata": {},
   "source": [
    "**Задание 2**\n",
    "Дана переменная, в которой хранится список поисковых запросов пользователя (пример структуры данных приведен ниже). Вам необходимо написать программу, которая выведет на экран распределение количества слов в запросах в требуемом виде."
   ]
  },
  {
   "cell_type": "code",
   "execution_count": 51,
   "metadata": {},
   "outputs": [],
   "source": [
    "queries = [\n",
    "    'смотреть сериалы онлайн',\n",
    "    'новости спорта',\n",
    "    'афиша кино',\n",
    "    'курс доллара',\n",
    "    'сериалы этим летом',\n",
    "    'курс по питону',\n",
    "    'сериалы про спорт',\n",
    "]"
   ]
  },
  {
   "cell_type": "code",
   "execution_count": 52,
   "metadata": {},
   "outputs": [
    {
     "data": {
      "text/plain": [
       "{3: 4, 2: 3}"
      ]
     },
     "execution_count": 52,
     "metadata": {},
     "output_type": "execute_result"
    }
   ],
   "source": [
    "query_dict = {}\n",
    "for query in queries:\n",
    "    nwords = len(query.split())\n",
    "    if nwords not in query_dict.keys():\n",
    "        query_dict[nwords] = 1\n",
    "    else:\n",
    "        query_dict[nwords] += 1\n",
    "query_dict"
   ]
  },
  {
   "cell_type": "code",
   "execution_count": 53,
   "metadata": {},
   "outputs": [
    {
     "name": "stdout",
     "output_type": "stream",
     "text": [
      "Поисковых запросов, содержащих 3 слов(а): 57.14%\n",
      "Поисковых запросов, содержащих 2 слов(а): 42.86%\n"
     ]
    }
   ],
   "source": [
    "for nwords, nquery in query_dict.items():\n",
    "    print('Поисковых запросов, содержащих ' + str(nwords) + ' слов(а): ' + str(round(100 * nquery / len(queries),2))+ '%')"
   ]
  },
  {
   "cell_type": "markdown",
   "metadata": {},
   "source": [
    "**Задание 3**\n",
    "Дана переменная, в которой хранится информация о затратах и доходе рекламных кампаний по различным источникам. Необходимо дополнить исходную структуру показателем ROI, который рассчитаем по формуле: (revenue / cost - 1) * 100"
   ]
  },
  {
   "cell_type": "code",
   "execution_count": 5,
   "metadata": {},
   "outputs": [],
   "source": [
    "results = {\n",
    "    'vk': {'revenue': 103, 'cost': 98},\n",
    "    'yandex': {'revenue': 179, 'cost': 153},\n",
    "    'facebook': {'revenue': 103, 'cost': 110},\n",
    "    'adwords': {'revenue': 35, 'cost': 34},\n",
    "    'twitter': {'revenue': 11, 'cost': 24},\n",
    "}"
   ]
  },
  {
   "cell_type": "code",
   "execution_count": 6,
   "metadata": {},
   "outputs": [
    {
     "data": {
      "text/plain": [
       "{'vk': {'revenue': 103, 'cost': 98, 'ROI': 5.1},\n",
       " 'yandex': {'revenue': 179, 'cost': 153, 'ROI': 16.99},\n",
       " 'facebook': {'revenue': 103, 'cost': 110, 'ROI': -6.36},\n",
       " 'adwords': {'revenue': 35, 'cost': 34, 'ROI': 2.94},\n",
       " 'twitter': {'revenue': 11, 'cost': 24, 'ROI': -54.17}}"
      ]
     },
     "execution_count": 6,
     "metadata": {},
     "output_type": "execute_result"
    }
   ],
   "source": [
    "for value in results.values():\n",
    "    value['ROI'] = round((value['revenue'] / value['cost'] - 1) * 100, 2)\n",
    "results"
   ]
  },
  {
   "cell_type": "markdown",
   "metadata": {},
   "source": [
    "**Задание 4**\n",
    "Дана переменная, в которой хранится статистика рекламных каналов по объемам продаж (пример структуры данных приведен ниже). Напишите программу, которая возвращает название канала с максимальным объемом продаж."
   ]
  },
  {
   "cell_type": "code",
   "execution_count": 56,
   "metadata": {},
   "outputs": [],
   "source": [
    "stats = {'facebook': 55, 'yandex': 115, 'vk': 120, 'google': 99, 'email': 42, 'ok': 98}"
   ]
  },
  {
   "cell_type": "code",
   "execution_count": 57,
   "metadata": {},
   "outputs": [
    {
     "name": "stdout",
     "output_type": "stream",
     "text": [
      "Максимальный объем продаж на рекламном канале:vk\n"
     ]
    }
   ],
   "source": [
    "max_val = max(list(stats.values()))\n",
    "for key, value in stats.items():\n",
    "    if value == max_val:\n",
    "        print('Максимальный объем продаж на рекламном канале:' + key)"
   ]
  },
  {
   "cell_type": "code",
   "execution_count": 61,
   "metadata": {},
   "outputs": [
    {
     "name": "stdout",
     "output_type": "stream",
     "text": [
      "[(55, 'facebook'), (115, 'yandex'), (120, 'vk'), (99, 'google'), (42, 'email'), (98, 'ok')]\n"
     ]
    }
   ],
   "source": [
    "inverse = [(value, key) for key, value in stats.items()]\n",
    "print(inverse)"
   ]
  },
  {
   "cell_type": "code",
   "execution_count": 63,
   "metadata": {},
   "outputs": [
    {
     "data": {
      "text/plain": [
       "(120, 'vk')"
      ]
     },
     "execution_count": 63,
     "metadata": {},
     "output_type": "execute_result"
    }
   ],
   "source": [
    "max(inverse)"
   ]
  },
  {
   "cell_type": "code",
   "execution_count": 64,
   "metadata": {},
   "outputs": [
    {
     "name": "stdout",
     "output_type": "stream",
     "text": [
      "vk\n"
     ]
    }
   ],
   "source": [
    "print(max(inverse)[1])"
   ]
  },
  {
   "cell_type": "markdown",
   "metadata": {},
   "source": [
    "**Задание 5 (необязательно)**\n",
    "Дан список произвольной длины. Необходимо написать код, который на основе исходного списка составит словарь такого уровня вложенности, какова длина исхондого списка."
   ]
  },
  {
   "cell_type": "code",
   "execution_count": 9,
   "metadata": {},
   "outputs": [],
   "source": [
    "my_list = ['2018-01-01', 'yandex', 'cpc', 100]"
   ]
  },
  {
   "cell_type": "code",
   "execution_count": 10,
   "metadata": {},
   "outputs": [],
   "source": [
    "my_list = ['a', 'b', 'c', 'd', 'e', 'f']"
   ]
  },
  {
   "cell_type": "code",
   "execution_count": 11,
   "metadata": {},
   "outputs": [
    {
     "data": {
      "text/plain": [
       "{'a': {'b': {'c': {'d': {'e': 'f'}}}}}"
      ]
     },
     "execution_count": 11,
     "metadata": {},
     "output_type": "execute_result"
    }
   ],
   "source": [
    "mydict = {}\n",
    "for n, value in enumerate(my_list[::-1]):\n",
    "    mydict[n] = {}\n",
    "    if n == 0:\n",
    "        mydict[n] = value\n",
    "    elif n > 0:\n",
    "        mydict[n][value] = mydict[n-1]\n",
    "\n",
    "mydict[len(my_list)-1]    "
   ]
  },
  {
   "cell_type": "markdown",
   "metadata": {},
   "source": [
    "**Задание 6 (необязательно)**\n",
    "Дана книга рецептов с информацией о том, сколько ингредиентов нужно для приготовления блюда в расчете на одну порцию (пример данных представлен ниже).\n",
    "Напишите программу, которая будет запрашивать у пользователя количество порций для приготовления этих блюд и отображать информацию о суммарном количестве требуемых ингредиентов в указанном виде.\n",
    "Внимание! Одинаковые ингридиенты с разными размерностями нужно считать раздельно!"
   ]
  },
  {
   "cell_type": "code",
   "execution_count": 12,
   "metadata": {},
   "outputs": [],
   "source": [
    "cook_book = {\n",
    "  'салат': [\n",
    "     {'ingridient_name': 'сыр', 'quantity': 50, 'measure': 'гр'},\n",
    "     {'ingridient_name': 'томаты', 'quantity': 2, 'measure': 'шт'},\n",
    "     {'ingridient_name': 'огурцы', 'quantity': 20, 'measure': 'гр'},\n",
    "     {'ingridient_name': 'маслины', 'quantity': 10, 'measure': 'гр'},\n",
    "     {'ingridient_name': 'оливковое масло', 'quantity': 20, 'measure': 'мл'},\n",
    "     {'ingridient_name': 'салат', 'quantity': 10, 'measure': 'гр'},\n",
    "     {'ingridient_name': 'перец', 'quantity': 20, 'measure': 'гр'}\n",
    "    ],\n",
    "  'пицца': [\n",
    "     {'ingridient_name': 'сыр', 'quantity': 20, 'measure': 'гр'},\n",
    "     {'ingridient_name': 'колбаса', 'quantity': 30, 'measure': 'гр'},\n",
    "     {'ingridient_name': 'бекон', 'quantity': 30, 'measure': 'гр'},\n",
    "     {'ingridient_name': 'оливки', 'quantity': 10, 'measure': 'гр'},\n",
    "     {'ingridient_name': 'томаты', 'quantity': 20, 'measure': 'гр'},\n",
    "     {'ingridient_name': 'тесто', 'quantity': 100, 'measure': 'гр'},   \n",
    "    ],\n",
    "  'лимонад': [\n",
    "     {'ingridient_name': 'лимон', 'quantity': 1, 'measure': 'шт'},\n",
    "     {'ingridient_name': 'вода', 'quantity': 200, 'measure': 'мл'},\n",
    "     {'ingridient_name': 'сахар', 'quantity': 10, 'measure': 'гр'},\n",
    "     {'ingridient_name': 'лайм', 'quantity': 20, 'measure': 'гр'},    \n",
    "    ]\n",
    "}"
   ]
  },
  {
   "cell_type": "code",
   "execution_count": 13,
   "metadata": {},
   "outputs": [
    {
     "data": {
      "text/plain": [
       "[{'ingridient_name': 'сыр', 'quantity': 70, 'measure': 'гр'},\n",
       " {'ingridient_name': 'томаты', 'quantity': 2, 'measure': 'шт'},\n",
       " {'ingridient_name': 'огурцы', 'quantity': 20, 'measure': 'гр'},\n",
       " {'ingridient_name': 'маслины', 'quantity': 10, 'measure': 'гр'},\n",
       " {'ingridient_name': 'оливковое масло', 'quantity': 20, 'measure': 'мл'},\n",
       " {'ingridient_name': 'салат', 'quantity': 10, 'measure': 'гр'},\n",
       " {'ingridient_name': 'перец', 'quantity': 20, 'measure': 'гр'},\n",
       " {'ingridient_name': 'колбаса', 'quantity': 30, 'measure': 'гр'},\n",
       " {'ingridient_name': 'бекон', 'quantity': 30, 'measure': 'гр'},\n",
       " {'ingridient_name': 'оливки', 'quantity': 10, 'measure': 'гр'},\n",
       " {'ingridient_name': 'томаты', 'quantity': 20, 'measure': 'гр'},\n",
       " {'ingridient_name': 'тесто', 'quantity': 100, 'measure': 'гр'},\n",
       " {'ingridient_name': 'лимон', 'quantity': 1, 'measure': 'шт'},\n",
       " {'ingridient_name': 'вода', 'quantity': 200, 'measure': 'мл'},\n",
       " {'ingridient_name': 'сахар', 'quantity': 10, 'measure': 'гр'},\n",
       " {'ingridient_name': 'лайм', 'quantity': 20, 'measure': 'гр'}]"
      ]
     },
     "execution_count": 13,
     "metadata": {},
     "output_type": "execute_result"
    }
   ],
   "source": [
    "mylist = [{'ingridient_name': None, 'quantity': None, 'measure': None}]\n",
    "for item in cook_book.values():\n",
    "    L = [meal['ingridient_name'] for meal in mylist]\n",
    "    for value in item:\n",
    "        if value['ingridient_name'] not in L:\n",
    "            mylist.append({'ingridient_name': value['ingridient_name'], 'quantity': value['quantity'], 'measure': value['measure']})\n",
    "        else:\n",
    "            ind = L.index(value['ingridient_name'])\n",
    "            if value['measure'] == mylist[ind]['measure']:\n",
    "                mylist[ind] = {'ingridient_name': value['ingridient_name'], 'quantity': mylist[ind]['quantity'] + value['quantity'], 'measure': value['measure']}\n",
    "            else:\n",
    "                mylist.append({'ingridient_name': value['ingridient_name'], 'quantity': value['quantity'], 'measure': value['measure']})  \n",
    "del(mylist[0])\n",
    "mylist"
   ]
  },
  {
   "cell_type": "code",
   "execution_count": 14,
   "metadata": {},
   "outputs": [
    {
     "name": "stdout",
     "output_type": "stream",
     "text": [
      "Введите количество порций:3\n",
      "сыр : 210 гр\n",
      "томаты : 6 шт\n",
      "огурцы : 60 гр\n",
      "маслины : 30 гр\n",
      "оливковое масло : 60 мл\n",
      "салат : 30 гр\n",
      "перец : 60 гр\n",
      "колбаса : 90 гр\n",
      "бекон : 90 гр\n",
      "оливки : 30 гр\n",
      "томаты : 60 гр\n",
      "тесто : 300 гр\n",
      "лимон : 3 шт\n",
      "вода : 600 мл\n",
      "сахар : 30 гр\n",
      "лайм : 60 гр\n"
     ]
    }
   ],
   "source": [
    "person = input('Введите количество порций:')\n",
    "for val in mylist:\n",
    "    print(val['ingridient_name'],':',int(person)*val['quantity'],val['measure'])"
   ]
  }
 ],
 "metadata": {
  "kernelspec": {
   "display_name": "Python 3",
   "language": "python",
   "name": "python3"
  },
  "language_info": {
   "codemirror_mode": {
    "name": "ipython",
    "version": 3
   },
   "file_extension": ".py",
   "mimetype": "text/x-python",
   "name": "python",
   "nbconvert_exporter": "python",
   "pygments_lexer": "ipython3",
   "version": "3.8.5"
  }
 },
 "nbformat": 4,
 "nbformat_minor": 4
}
