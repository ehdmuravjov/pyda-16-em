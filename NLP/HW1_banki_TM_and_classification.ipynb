{
 "cells": [
  {
   "cell_type": "markdown",
   "metadata": {},
   "source": [
    "### Классификация по тональности\n",
    "В этом домашнем задании вам предстоит классифицировать по тональности отзывы на банки с сайта banki.ru.\n",
    "\n",
    "Данные содержат непосредственно тексты отзывов, некоторую дополнительную информацию, а также оценку по шкале от 1 до 5.\n",
    "\n",
    "Тексты хранятся в json-ах в массиве responses.\n",
    "\n",
    "Посмотрим на примере отзыва: возьмите для удобства ноутбук, размещенный в папке репозитория."
   ]
  },
  {
   "cell_type": "code",
   "execution_count": 1,
   "metadata": {
    "id": "h1dvK7H_qauH"
   },
   "outputs": [],
   "source": [
    "import json\n",
    "import bz2\n",
    "import regex\n",
    "from tqdm import tqdm\n",
    "from scipy import sparse"
   ]
  },
  {
   "cell_type": "code",
   "execution_count": 2,
   "metadata": {
    "id": "_ZsoxOinqauK",
    "outputId": "1b349b33-f266-404a-fa55-4088784d8897"
   },
   "outputs": [
    {
     "name": "stdout",
     "output_type": "stream",
     "text": [
      "Populating the interactive namespace from numpy and matplotlib\n"
     ]
    }
   ],
   "source": [
    "import pandas as pd\n",
    "import numpy as np\n",
    "import nltk\n",
    "import matplotlib.pyplot as plt\n",
    "import seaborn as sns\n",
    "%matplotlib inline\n",
    "%pylab inline"
   ]
  },
  {
   "cell_type": "code",
   "execution_count": 3,
   "metadata": {
    "id": "UNHVsbPnqauL",
    "outputId": "e8d7d7f4-576b-4846-b06a-f3b4a08adb95",
    "scrolled": true
   },
   "outputs": [
    {
     "name": "stderr",
     "output_type": "stream",
     "text": [
      "201030it [02:06, 1590.56it/s]"
     ]
    },
    {
     "name": "stdout",
     "output_type": "stream",
     "text": [
      "Wall time: 2min 6s\n"
     ]
    },
    {
     "name": "stderr",
     "output_type": "stream",
     "text": [
      "\n"
     ]
    }
   ],
   "source": [
    "%%time\n",
    "responses = []\n",
    "with bz2.BZ2File('banki_responses.json.bz2', 'r') as thefile:\n",
    "    for row in tqdm(thefile):\n",
    "        resp = json.loads(row)\n",
    "        if not resp['rating_not_checked'] and (len(resp['text'].split()) > 0):\n",
    "            responses.append(resp)"
   ]
  },
  {
   "cell_type": "markdown",
   "metadata": {
    "id": "F0ixYxfSqauM"
   },
   "source": [
    "\n",
    "Посмотрим на пример отзыва:"
   ]
  },
  {
   "cell_type": "code",
   "execution_count": 4,
   "metadata": {
    "id": "Dd7m6GpMqauP",
    "outputId": "975085c3-9f8c-4a64-ac12-747ffab282ce"
   },
   "outputs": [
    {
     "data": {
      "text/plain": [
       "{'city': 'г. Саратов',\n",
       " 'rating_not_checked': False,\n",
       " 'title': 'Карта ко вкладу',\n",
       " 'num_comments': 0,\n",
       " 'bank_license': 'лицензия № 880',\n",
       " 'author': 'ronnichka',\n",
       " 'bank_name': 'Югра',\n",
       " 'datetime': '2015-06-03 20:56:57',\n",
       " 'text': 'Здравствуйте! Хотела написать, что мне месяц не выдают карту ко вкладу, ссылаясь на \"нам же их из Самары везут\" (на секундочку 5 часов езды от нашего города). Но! Прочитала, что людям 3,5 месяцев не выдают карту, и поняла, что у меня все хорошо, пока что. И подарок мне дали, и кулер в отделении есть. Так что я, конечно, готова ждать. Правда хотелось бы не очень долго.',\n",
       " 'rating_grade': 3}"
      ]
     },
     "execution_count": 4,
     "metadata": {},
     "output_type": "execute_result"
    }
   ],
   "source": [
    "responses[99]"
   ]
  },
  {
   "cell_type": "code",
   "execution_count": 5,
   "metadata": {
    "scrolled": true
   },
   "outputs": [
    {
     "data": {
      "text/plain": [
       "153499"
      ]
     },
     "execution_count": 5,
     "metadata": {},
     "output_type": "execute_result"
    }
   ],
   "source": [
    "len(responses)"
   ]
  },
  {
   "cell_type": "code",
   "execution_count": 6,
   "metadata": {
    "scrolled": true
   },
   "outputs": [
    {
     "data": {
      "text/html": [
       "<div>\n",
       "<style scoped>\n",
       "    .dataframe tbody tr th:only-of-type {\n",
       "        vertical-align: middle;\n",
       "    }\n",
       "\n",
       "    .dataframe tbody tr th {\n",
       "        vertical-align: top;\n",
       "    }\n",
       "\n",
       "    .dataframe thead th {\n",
       "        text-align: right;\n",
       "    }\n",
       "</style>\n",
       "<table border=\"1\" class=\"dataframe\">\n",
       "  <thead>\n",
       "    <tr style=\"text-align: right;\">\n",
       "      <th></th>\n",
       "      <th>city</th>\n",
       "      <th>rating_not_checked</th>\n",
       "      <th>title</th>\n",
       "      <th>num_comments</th>\n",
       "      <th>bank_license</th>\n",
       "      <th>author</th>\n",
       "      <th>bank_name</th>\n",
       "      <th>datetime</th>\n",
       "      <th>text</th>\n",
       "      <th>rating_grade</th>\n",
       "    </tr>\n",
       "  </thead>\n",
       "  <tbody>\n",
       "    <tr>\n",
       "      <th>0</th>\n",
       "      <td>г. Москва</td>\n",
       "      <td>False</td>\n",
       "      <td>Жалоба</td>\n",
       "      <td>0</td>\n",
       "      <td>лицензия № 2562</td>\n",
       "      <td>uhnov1</td>\n",
       "      <td>Бинбанк</td>\n",
       "      <td>2015-06-08 12:50:54</td>\n",
       "      <td>Добрый день! Я не являюсь клиентом банка и пор...</td>\n",
       "      <td>NaN</td>\n",
       "    </tr>\n",
       "    <tr>\n",
       "      <th>1</th>\n",
       "      <td>г. Новосибирск</td>\n",
       "      <td>False</td>\n",
       "      <td>Не могу пользоваться услугой Сбербанк он-лайн</td>\n",
       "      <td>0</td>\n",
       "      <td>лицензия № 1481</td>\n",
       "      <td>Foryou</td>\n",
       "      <td>Сбербанк России</td>\n",
       "      <td>2015-06-08 11:09:57</td>\n",
       "      <td>Доброго дня! Являюсь держателем зарплатной кар...</td>\n",
       "      <td>NaN</td>\n",
       "    </tr>\n",
       "    <tr>\n",
       "      <th>2</th>\n",
       "      <td>г. Москва</td>\n",
       "      <td>False</td>\n",
       "      <td>Двойное списание за один товар.</td>\n",
       "      <td>1</td>\n",
       "      <td>лицензия № 2562</td>\n",
       "      <td>Vladimir84</td>\n",
       "      <td>Бинбанк</td>\n",
       "      <td>2015-06-05 20:14:28</td>\n",
       "      <td>Здравствуйте!  Дублирую свое заявление от 03.0...</td>\n",
       "      <td>NaN</td>\n",
       "    </tr>\n",
       "    <tr>\n",
       "      <th>3</th>\n",
       "      <td>г. Ставрополь</td>\n",
       "      <td>False</td>\n",
       "      <td>Меняют проценты комиссии  не предупредив и не ...</td>\n",
       "      <td>2</td>\n",
       "      <td>лицензия № 1481</td>\n",
       "      <td>643609</td>\n",
       "      <td>Сбербанк России</td>\n",
       "      <td>2015-06-05 13:51:01</td>\n",
       "      <td>Добрый день!! Я открыл расчетный счет в СберБа...</td>\n",
       "      <td>NaN</td>\n",
       "    </tr>\n",
       "    <tr>\n",
       "      <th>4</th>\n",
       "      <td>г. Челябинск</td>\n",
       "      <td>False</td>\n",
       "      <td>Верните денежные средства за страховку</td>\n",
       "      <td>1</td>\n",
       "      <td>лицензия № 2766</td>\n",
       "      <td>anfisa-2003</td>\n",
       "      <td>ОТП Банк</td>\n",
       "      <td>2015-06-05 10:58:12</td>\n",
       "      <td>04.03.2015 г. взяла кредит в вашем банке, заяв...</td>\n",
       "      <td>NaN</td>\n",
       "    </tr>\n",
       "  </tbody>\n",
       "</table>\n",
       "</div>"
      ],
      "text/plain": [
       "             city  rating_not_checked  \\\n",
       "0       г. Москва               False   \n",
       "1  г. Новосибирск               False   \n",
       "2       г. Москва               False   \n",
       "3   г. Ставрополь               False   \n",
       "4    г. Челябинск               False   \n",
       "\n",
       "                                               title  num_comments  \\\n",
       "0                                             Жалоба             0   \n",
       "1      Не могу пользоваться услугой Сбербанк он-лайн             0   \n",
       "2                    Двойное списание за один товар.             1   \n",
       "3  Меняют проценты комиссии  не предупредив и не ...             2   \n",
       "4             Верните денежные средства за страховку             1   \n",
       "\n",
       "      bank_license       author        bank_name             datetime  \\\n",
       "0  лицензия № 2562       uhnov1          Бинбанк  2015-06-08 12:50:54   \n",
       "1  лицензия № 1481       Foryou  Сбербанк России  2015-06-08 11:09:57   \n",
       "2  лицензия № 2562   Vladimir84          Бинбанк  2015-06-05 20:14:28   \n",
       "3  лицензия № 1481       643609  Сбербанк России  2015-06-05 13:51:01   \n",
       "4  лицензия № 2766  anfisa-2003         ОТП Банк  2015-06-05 10:58:12   \n",
       "\n",
       "                                                text  rating_grade  \n",
       "0  Добрый день! Я не являюсь клиентом банка и пор...           NaN  \n",
       "1  Доброго дня! Являюсь держателем зарплатной кар...           NaN  \n",
       "2  Здравствуйте!  Дублирую свое заявление от 03.0...           NaN  \n",
       "3  Добрый день!! Я открыл расчетный счет в СберБа...           NaN  \n",
       "4  04.03.2015 г. взяла кредит в вашем банке, заяв...           NaN  "
      ]
     },
     "execution_count": 6,
     "metadata": {},
     "output_type": "execute_result"
    }
   ],
   "source": [
    "df = pd.DataFrame(responses)\n",
    "df.head()"
   ]
  },
  {
   "cell_type": "code",
   "execution_count": 8,
   "metadata": {},
   "outputs": [],
   "source": [
    "df.text = df.text.str.lower()"
   ]
  },
  {
   "cell_type": "markdown",
   "metadata": {},
   "source": [
    "### Часть 1. Анализ текстов\n",
    "1. Посчитайте количество отзывов в разных городах и на разные банки\n",
    "2. Постройте гистограмы длин слов в символах и в словах\n",
    "3. Найдите 10 самых частых:\n",
    "    - слов\n",
    "    - слов без стоп-слов\n",
    "    - лемм\n",
    "    - существительных\n",
    "4. Постройте кривые Ципфа и Хипса\n",
    "5. Ответьте на следующие вопросы:\n",
    "    - какое слово встречается чаще, \"сотрудник\" или \"клиент\"?\n",
    "    - сколько раз встречается слова \"мошенничество\" и \"доверие\"?\n",
    "\n",
    "6. В поле \"rating_grade\" записана оценка отзыва по шкале от 1 до 5. Используйте меру $tf-idf$, для того, чтобы найти ключевые слова и биграмы для положительных отзывов (с оценкой 5) и отрицательных отзывов (с оценкой 1)"
   ]
  },
  {
   "cell_type": "markdown",
   "metadata": {},
   "source": [
    "#### 1. Посчитайте количество отзывов в разных городах и на разные банки"
   ]
  },
  {
   "cell_type": "code",
   "execution_count": 9,
   "metadata": {},
   "outputs": [
    {
     "data": {
      "text/html": [
       "<div>\n",
       "<style scoped>\n",
       "    .dataframe tbody tr th:only-of-type {\n",
       "        vertical-align: middle;\n",
       "    }\n",
       "\n",
       "    .dataframe tbody tr th {\n",
       "        vertical-align: top;\n",
       "    }\n",
       "\n",
       "    .dataframe thead th {\n",
       "        text-align: right;\n",
       "    }\n",
       "</style>\n",
       "<table border=\"1\" class=\"dataframe\">\n",
       "  <thead>\n",
       "    <tr style=\"text-align: right;\">\n",
       "      <th></th>\n",
       "      <th>city</th>\n",
       "      <th>text</th>\n",
       "    </tr>\n",
       "  </thead>\n",
       "  <tbody>\n",
       "    <tr>\n",
       "      <th>2175</th>\n",
       "      <td>г. Москва</td>\n",
       "      <td>55354</td>\n",
       "    </tr>\n",
       "    <tr>\n",
       "      <th>3568</th>\n",
       "      <td>г. Санкт-Петербург</td>\n",
       "      <td>14342</td>\n",
       "    </tr>\n",
       "    <tr>\n",
       "      <th>1034</th>\n",
       "      <td>г. Екатеринбург</td>\n",
       "      <td>2337</td>\n",
       "    </tr>\n",
       "    <tr>\n",
       "      <th>2785</th>\n",
       "      <td>г. Новосибирск</td>\n",
       "      <td>2300</td>\n",
       "    </tr>\n",
       "    <tr>\n",
       "      <th>2672</th>\n",
       "      <td>г. Нижний Новгород</td>\n",
       "      <td>1976</td>\n",
       "    </tr>\n",
       "    <tr>\n",
       "      <th>...</th>\n",
       "      <td>...</td>\n",
       "      <td>...</td>\n",
       "    </tr>\n",
       "    <tr>\n",
       "      <th>2334</th>\n",
       "      <td>г. Москва, Ногинск (Москва)</td>\n",
       "      <td>1</td>\n",
       "    </tr>\n",
       "    <tr>\n",
       "      <th>2333</th>\n",
       "      <td>г. Москва, Новосибирск</td>\n",
       "      <td>1</td>\n",
       "    </tr>\n",
       "    <tr>\n",
       "      <th>2332</th>\n",
       "      <td>г. Москва, Николоямская ул., 31</td>\n",
       "      <td>1</td>\n",
       "    </tr>\n",
       "    <tr>\n",
       "      <th>2330</th>\n",
       "      <td>г. Москва, Московская область</td>\n",
       "      <td>1</td>\n",
       "    </tr>\n",
       "    <tr>\n",
       "      <th>5822</th>\n",
       "      <td>г. … или другой населенный пункт</td>\n",
       "      <td>1</td>\n",
       "    </tr>\n",
       "  </tbody>\n",
       "</table>\n",
       "<p>5823 rows × 2 columns</p>\n",
       "</div>"
      ],
      "text/plain": [
       "                                  city   text\n",
       "2175                         г. Москва  55354\n",
       "3568                г. Санкт-Петербург  14342\n",
       "1034                   г. Екатеринбург   2337\n",
       "2785                    г. Новосибирск   2300\n",
       "2672                г. Нижний Новгород   1976\n",
       "...                                ...    ...\n",
       "2334       г. Москва, Ногинск (Москва)      1\n",
       "2333            г. Москва, Новосибирск      1\n",
       "2332   г. Москва, Николоямская ул., 31      1\n",
       "2330     г. Москва, Московская область      1\n",
       "5822  г. … или другой населенный пункт      1\n",
       "\n",
       "[5823 rows x 2 columns]"
      ]
     },
     "execution_count": 9,
     "metadata": {},
     "output_type": "execute_result"
    }
   ],
   "source": [
    "df.groupby('city').text.count().reset_index().sort_values('text', ascending=False)"
   ]
  },
  {
   "cell_type": "code",
   "execution_count": 10,
   "metadata": {},
   "outputs": [
    {
     "data": {
      "text/html": [
       "<div>\n",
       "<style scoped>\n",
       "    .dataframe tbody tr th:only-of-type {\n",
       "        vertical-align: middle;\n",
       "    }\n",
       "\n",
       "    .dataframe tbody tr th {\n",
       "        vertical-align: top;\n",
       "    }\n",
       "\n",
       "    .dataframe thead th {\n",
       "        text-align: right;\n",
       "    }\n",
       "</style>\n",
       "<table border=\"1\" class=\"dataframe\">\n",
       "  <thead>\n",
       "    <tr style=\"text-align: right;\">\n",
       "      <th></th>\n",
       "      <th>bank_name</th>\n",
       "      <th>text</th>\n",
       "    </tr>\n",
       "  </thead>\n",
       "  <tbody>\n",
       "    <tr>\n",
       "      <th>502</th>\n",
       "      <td>Сбербанк России</td>\n",
       "      <td>26327</td>\n",
       "    </tr>\n",
       "    <tr>\n",
       "      <th>34</th>\n",
       "      <td>Альфа-Банк</td>\n",
       "      <td>10224</td>\n",
       "    </tr>\n",
       "    <tr>\n",
       "      <th>106</th>\n",
       "      <td>ВТБ 24</td>\n",
       "      <td>8185</td>\n",
       "    </tr>\n",
       "    <tr>\n",
       "      <th>482</th>\n",
       "      <td>Русский Стандарт</td>\n",
       "      <td>7943</td>\n",
       "    </tr>\n",
       "    <tr>\n",
       "      <th>625</th>\n",
       "      <td>Хоум Кредит Банк</td>\n",
       "      <td>7549</td>\n",
       "    </tr>\n",
       "    <tr>\n",
       "      <th>...</th>\n",
       "      <td>...</td>\n",
       "      <td>...</td>\n",
       "    </tr>\n",
       "    <tr>\n",
       "      <th>508</th>\n",
       "      <td>Северный Народный Банк</td>\n",
       "      <td>1</td>\n",
       "    </tr>\n",
       "    <tr>\n",
       "      <th>509</th>\n",
       "      <td>Сельмашбанк</td>\n",
       "      <td>1</td>\n",
       "    </tr>\n",
       "    <tr>\n",
       "      <th>512</th>\n",
       "      <td>Сиббизнесбанк</td>\n",
       "      <td>1</td>\n",
       "    </tr>\n",
       "    <tr>\n",
       "      <th>513</th>\n",
       "      <td>Сибконтакт</td>\n",
       "      <td>1</td>\n",
       "    </tr>\n",
       "    <tr>\n",
       "      <th>312</th>\n",
       "      <td>Мигом</td>\n",
       "      <td>1</td>\n",
       "    </tr>\n",
       "  </tbody>\n",
       "</table>\n",
       "<p>670 rows × 2 columns</p>\n",
       "</div>"
      ],
      "text/plain": [
       "                  bank_name   text\n",
       "502         Сбербанк России  26327\n",
       "34               Альфа-Банк  10224\n",
       "106                  ВТБ 24   8185\n",
       "482        Русский Стандарт   7943\n",
       "625        Хоум Кредит Банк   7549\n",
       "..                      ...    ...\n",
       "508  Северный Народный Банк      1\n",
       "509             Сельмашбанк      1\n",
       "512           Сиббизнесбанк      1\n",
       "513              Сибконтакт      1\n",
       "312                   Мигом      1\n",
       "\n",
       "[670 rows x 2 columns]"
      ]
     },
     "execution_count": 10,
     "metadata": {},
     "output_type": "execute_result"
    }
   ],
   "source": [
    "df.groupby('bank_name').text.count().reset_index().sort_values('text', ascending=False)"
   ]
  },
  {
   "cell_type": "markdown",
   "metadata": {},
   "source": [
    "#### 2. Постройте гистограмы длин слов в символах и в словах"
   ]
  },
  {
   "cell_type": "code",
   "execution_count": 11,
   "metadata": {},
   "outputs": [],
   "source": [
    "df['symbol_length'] = df.text.apply(len)"
   ]
  },
  {
   "cell_type": "code",
   "execution_count": 12,
   "metadata": {},
   "outputs": [],
   "source": [
    "df['word_length'] = df.text.str.split().apply(len)"
   ]
  },
  {
   "cell_type": "code",
   "execution_count": 13,
   "metadata": {},
   "outputs": [
    {
     "data": {
      "text/plain": [
       "<matplotlib.axes._subplots.AxesSubplot at 0x1ba59016c40>"
      ]
     },
     "execution_count": 13,
     "metadata": {},
     "output_type": "execute_result"
    },
    {
     "data": {
      "image/png": "[encoded data removed]",
      "text/plain": [
       "<Figure size 432x288 with 1 Axes>"
      ]
     },
     "metadata": {
      "needs_background": "light"
     },
     "output_type": "display_data"
    }
   ],
   "source": [
    "df['symbol_length'].hist(bins=20)"
   ]
  },
  {
   "cell_type": "code",
   "execution_count": 14,
   "metadata": {},
   "outputs": [
    {
     "data": {
      "text/plain": [
       "<matplotlib.axes._subplots.AxesSubplot at 0x1b96ff55c10>"
      ]
     },
     "execution_count": 14,
     "metadata": {},
     "output_type": "execute_result"
    },
    {
     "data": {
      "image/png": "[encoded data removed]",
      "text/plain": [
       "<Figure size 432x288 with 1 Axes>"
      ]
     },
     "metadata": {
      "needs_background": "light"
     },
     "output_type": "display_data"
    }
   ],
   "source": [
    "df['word_length'].hist(bins=20)"
   ]
  },
  {
   "cell_type": "markdown",
   "metadata": {},
   "source": [
    "#### 3. Найдите 10 самых частых:\n",
    "    - слов\n",
    "    - слов без стоп-слов\n",
    "    - лемм\n",
    "    - существительных"
   ]
  },
  {
   "cell_type": "code",
   "execution_count": 15,
   "metadata": {},
   "outputs": [],
   "source": [
    "ru_words = re.compile(\"[А-Яа-я]+\")\n",
    "\n",
    "def words_only(text):\n",
    "    return ru_words.findall(text)"
   ]
  },
  {
   "cell_type": "code",
   "execution_count": 23,
   "metadata": {},
   "outputs": [
    {
     "data": {
      "text/plain": [
       "153499"
      ]
     },
     "execution_count": 23,
     "metadata": {},
     "output_type": "execute_result"
    }
   ],
   "source": [
    "len(df)"
   ]
  },
  {
   "cell_type": "code",
   "execution_count": 18,
   "metadata": {},
   "outputs": [],
   "source": [
    "from collections import Counter"
   ]
  },
  {
   "cell_type": "code",
   "execution_count": 19,
   "metadata": {},
   "outputs": [
    {
     "name": "stdout",
     "output_type": "stream",
     "text": [
      "['и', 'в', 'во', 'не', 'что', 'он', 'на', 'я', 'с', 'со', 'как', 'а', 'то', 'все', 'она', 'так', 'его', 'но', 'да', 'ты', 'к', 'у', 'же', 'вы', 'за', 'бы', 'по', 'только', 'ее', 'мне', 'было', 'вот', 'от', 'меня', 'еще', 'нет', 'о', 'из', 'ему', 'теперь', 'когда', 'даже', 'ну', 'вдруг', 'ли', 'если', 'уже', 'или', 'ни', 'быть', 'был', 'него', 'до', 'вас', 'нибудь', 'опять', 'уж', 'вам', 'ведь', 'там', 'потом', 'себя', 'ничего', 'ей', 'может', 'они', 'тут', 'где', 'есть', 'надо', 'ней', 'для', 'мы', 'тебя', 'их', 'чем', 'была', 'сам', 'чтоб', 'без', 'будто', 'чего', 'раз', 'тоже', 'себе', 'под', 'будет', 'ж', 'тогда', 'кто', 'этот', 'того', 'потому', 'этого', 'какой', 'совсем', 'ним', 'здесь', 'этом', 'один', 'почти', 'мой', 'тем', 'чтобы', 'нее', 'сейчас', 'были', 'куда', 'зачем', 'всех', 'никогда', 'можно', 'при', 'наконец', 'два', 'об', 'другой', 'хоть', 'после', 'над', 'больше', 'тот', 'через', 'эти', 'нас', 'про', 'всего', 'них', 'какая', 'много', 'разве', 'три', 'эту', 'моя', 'впрочем', 'хорошо', 'свою', 'этой', 'перед', 'иногда', 'лучше', 'чуть', 'том', 'нельзя', 'такой', 'им', 'более', 'всегда', 'конечно', 'всю', 'между']\n"
     ]
    }
   ],
   "source": [
    "from nltk.corpus import stopwords\n",
    "from nltk.tokenize import word_tokenize\n",
    "stopwords_ru = stopwords.words('russian')\n",
    "print(stopwords_ru)"
   ]
  },
  {
   "cell_type": "code",
   "execution_count": 21,
   "metadata": {},
   "outputs": [
    {
     "name": "stdout",
     "output_type": "stream",
     "text": [
      "35429373\n",
      "Wall time: 17 s\n"
     ]
    }
   ],
   "source": [
    "%%time\n",
    "corpus = [token for tweet in df.text for token in words_only(tweet)]\n",
    "print(len(corpus))"
   ]
  },
  {
   "cell_type": "markdown",
   "metadata": {},
   "source": [
    "### 10 самых частых слов"
   ]
  },
  {
   "cell_type": "code",
   "execution_count": 22,
   "metadata": {},
   "outputs": [
    {
     "data": {
      "text/plain": [
       "[('в', 1330550),\n",
       " ('и', 1058997),\n",
       " ('не', 855335),\n",
       " ('на', 707935),\n",
       " ('что', 640057),\n",
       " ('я', 577500),\n",
       " ('с', 464037),\n",
       " ('по', 372769),\n",
       " ('мне', 320958),\n",
       " ('банка', 275906)]"
      ]
     },
     "execution_count": 22,
     "metadata": {},
     "output_type": "execute_result"
    }
   ],
   "source": [
    "freq_dict = Counter(corpus)\n",
    "freq_dict.most_common(10)"
   ]
  },
  {
   "cell_type": "code",
   "execution_count": 24,
   "metadata": {},
   "outputs": [
    {
     "name": "stdout",
     "output_type": "stream",
     "text": [
      "22351585\n",
      "Wall time: 1min 14s\n"
     ]
    }
   ],
   "source": [
    "%%time\n",
    "corpus_no_stop_words = [token for token in corpus if token not in stopwords_ru]\n",
    "print(len(corpus_no_stop_words))"
   ]
  },
  {
   "cell_type": "markdown",
   "metadata": {},
   "source": [
    "### 10 самых частых слов без стоп-слов"
   ]
  },
  {
   "cell_type": "code",
   "execution_count": 25,
   "metadata": {},
   "outputs": [
    {
     "data": {
      "text/plain": [
       "[('банка', 275906),\n",
       " ('банк', 215426),\n",
       " ('это', 183365),\n",
       " ('деньги', 131201),\n",
       " ('карту', 105829),\n",
       " ('карты', 101821),\n",
       " ('т', 91756),\n",
       " ('кредит', 81136),\n",
       " ('день', 76552),\n",
       " ('банке', 72169)]"
      ]
     },
     "execution_count": 25,
     "metadata": {},
     "output_type": "execute_result"
    }
   ],
   "source": [
    "freq_dict = Counter(corpus_no_stop_words)\n",
    "freq_dict.most_common(10)"
   ]
  },
  {
   "cell_type": "code",
   "execution_count": 26,
   "metadata": {},
   "outputs": [],
   "source": [
    "import pymorphy2\n",
    "morph = pymorphy2.MorphAnalyzer()"
   ]
  },
  {
   "cell_type": "code",
   "execution_count": 27,
   "metadata": {},
   "outputs": [
    {
     "name": "stdout",
     "output_type": "stream",
     "text": [
      "добрый\n"
     ]
    }
   ],
   "source": [
    "def lemmatize(word):\n",
    "    p = morph.parse(word)[0]\n",
    "    return p.normal_form\n",
    "\n",
    "print(lemmatize('доброго'))"
   ]
  },
  {
   "cell_type": "code",
   "execution_count": 28,
   "metadata": {
    "scrolled": true
   },
   "outputs": [
    {
     "name": "stdout",
     "output_type": "stream",
     "text": [
      "22351585\n",
      "Wall time: 1h 53min 34s\n"
     ]
    },
    {
     "data": {
      "text/plain": [
       "['добрый',\n",
       " 'день',\n",
       " 'являться',\n",
       " 'клиент',\n",
       " 'банк',\n",
       " 'поручитель',\n",
       " 'кредитный',\n",
       " 'договор',\n",
       " 'также',\n",
       " 'являться']"
      ]
     },
     "execution_count": 28,
     "metadata": {},
     "output_type": "execute_result"
    }
   ],
   "source": [
    "%%time\n",
    "corpus_lemm = [lemmatize(token) for token in corpus_no_stop_words]\n",
    "print(len(corpus_lemm))\n",
    "corpus_lemm[:10]"
   ]
  },
  {
   "cell_type": "markdown",
   "metadata": {},
   "source": [
    "### 10 самых частых лемм"
   ]
  },
  {
   "cell_type": "code",
   "execution_count": 29,
   "metadata": {},
   "outputs": [
    {
     "data": {
      "text/plain": [
       "[('банк', 668563),\n",
       " ('карта', 334999),\n",
       " ('это', 200057),\n",
       " ('деньга', 179819),\n",
       " ('день', 173116),\n",
       " ('мой', 163042),\n",
       " ('кредит', 156177),\n",
       " ('который', 149017),\n",
       " ('отделение', 144050),\n",
       " ('клиент', 136892)]"
      ]
     },
     "execution_count": 29,
     "metadata": {},
     "output_type": "execute_result"
    }
   ],
   "source": [
    "freq_dict = Counter(corpus_lemm)\n",
    "freq_dict.most_common(10)"
   ]
  },
  {
   "cell_type": "code",
   "execution_count": null,
   "metadata": {},
   "outputs": [],
   "source": [
    "# !pip install pymystem3\n",
    "# from pymystem3 import Mystem\n",
    "# mystem_analyzer = Mystem()\n",
    "# print(mystem_analyzer.lemmatize(example))"
   ]
  },
  {
   "cell_type": "code",
   "execution_count": 30,
   "metadata": {},
   "outputs": [],
   "source": [
    "def filter_noun(word):\n",
    "    return 'NOUN' in morph.parse(word)[0].tag"
   ]
  },
  {
   "cell_type": "code",
   "execution_count": 31,
   "metadata": {},
   "outputs": [
    {
     "data": {
      "text/plain": [
       "True"
      ]
     },
     "execution_count": 31,
     "metadata": {},
     "output_type": "execute_result"
    }
   ],
   "source": [
    "filter_noun('миша')"
   ]
  },
  {
   "cell_type": "code",
   "execution_count": 32,
   "metadata": {
    "scrolled": false
   },
   "outputs": [
    {
     "name": "stdout",
     "output_type": "stream",
     "text": [
      "10823799\n",
      "Wall time: 1h 43min 4s\n"
     ]
    }
   ],
   "source": [
    "%%time\n",
    "corpus_noun = [token for token in corpus_lemm if filter_noun(token)]\n",
    "print(len(corpus_noun))"
   ]
  },
  {
   "cell_type": "markdown",
   "metadata": {},
   "source": [
    "### 10 самых частых существительных"
   ]
  },
  {
   "cell_type": "code",
   "execution_count": 33,
   "metadata": {},
   "outputs": [
    {
     "data": {
      "text/plain": [
       "[('банк', 668563),\n",
       " ('карта', 334999),\n",
       " ('деньга', 179819),\n",
       " ('день', 173116),\n",
       " ('кредит', 156177),\n",
       " ('отделение', 144050),\n",
       " ('клиент', 136892),\n",
       " ('сотрудник', 134168),\n",
       " ('счёт', 126894),\n",
       " ('сумма', 111232)]"
      ]
     },
     "execution_count": 33,
     "metadata": {},
     "output_type": "execute_result"
    }
   ],
   "source": [
    "freq_dict = Counter(corpus_noun)\n",
    "freq_dict.most_common(10)"
   ]
  },
  {
   "cell_type": "code",
   "execution_count": 35,
   "metadata": {},
   "outputs": [],
   "source": [
    "mystopwords = stopwords.words('russian') + [\n",
    "    'это', 'наш' , 'тыс', 'млн', 'млрд', 'также',  'т', 'д',\n",
    "    'который','прошлый','сей', 'свой', 'наш', 'мочь', 'такой'\n",
    "]\n",
    "ru_words = re.compile(\"[А-Яа-я]+\")\n",
    "\n",
    "\n",
    "def words_only(text):\n",
    "    return \" \".join(ru_words.findall(text))\n",
    "\n",
    "\n",
    "# morph = pymorphy2.MorphAnalyzer()\n",
    "# def lemmatize(text, lemmatizer=morph):\n",
    "#     lemmas1 = [lemmatizer.parse(word)[0].normal_form for word in sent1.split()]\n",
    "#     return ' '.join(lemmas1)\n",
    "    \n",
    "\n",
    "def lemmatize(text):\n",
    "    words = text.split() # разбиваем текст на слова\n",
    "    res = list()\n",
    "    for word in words:\n",
    "        p = morph.parse(word)[0]\n",
    "        res.append(p.normal_form)\n",
    "    try:\n",
    "        return \" \".join(res).strip()  \n",
    "    except:\n",
    "        return \" \"\n",
    "\n",
    "def remove_stopwords(text, mystopwords = mystopwords):\n",
    "    try:\n",
    "        return \" \".join([token for token in text.split() if not token in mystopwords])\n",
    "    except:\n",
    "        return \"\"\n",
    "\n",
    "    \n",
    "def preprocess(text):\n",
    "    return remove_stopwords(lemmatize(words_only(text)))"
   ]
  },
  {
   "cell_type": "code",
   "execution_count": 36,
   "metadata": {},
   "outputs": [
    {
     "name": "stdout",
     "output_type": "stream",
     "text": [
      "Wall time: 4h 3min 55s\n"
     ]
    }
   ],
   "source": [
    "%%time\n",
    "df.text = df.text.apply(preprocess)"
   ]
  },
  {
   "cell_type": "markdown",
   "metadata": {},
   "source": [
    "#### 4. Постройте кривые Ципфа и Хипса"
   ]
  },
  {
   "cell_type": "markdown",
   "metadata": {},
   "source": [
    "- Закон Ципфа\n",
    "\n",
    "Эмпирическая закономерность: если все слова корпуса текста упорядочить по убыванию частоты их использования, то частота n-го слова в таком списке окажется приблизительно обратно пропорциональной его порядковому номеру n. Иными словами, частотность слов убывает очень быстро."
   ]
  },
  {
   "cell_type": "code",
   "execution_count": 37,
   "metadata": {},
   "outputs": [
    {
     "data": {
      "image/png": "[encoded data removed]",
      "text/plain": [
       "<Figure size 432x288 with 1 Axes>"
      ]
     },
     "metadata": {
      "needs_background": "light"
     },
     "output_type": "display_data"
    }
   ],
   "source": [
    "freqs = list(freq_dict.values())\n",
    "freqs = sorted(freqs, reverse = True)\n",
    "\n",
    "fig, ax = plt.subplots()\n",
    "ax.plot(freqs[:300], range(300))\n",
    "plt.show()"
   ]
  },
  {
   "cell_type": "markdown",
   "metadata": {},
   "source": [
    "### Закон Хипса\n",
    "\n",
    "С увеличением длины текста (количества токенов), количество слов увеличивается в соответствии с законом: $|V| = K*N^b$\n",
    "\n",
    "\n",
    "$N$  –  число токенов, $|V|$  – количество слов в словаре, $K, b$  –  параметры, обычно $K \\in [10,100], b \\in [0.4, 0.6]$"
   ]
  },
  {
   "cell_type": "markdown",
   "metadata": {},
   "source": [
    "Закон Хипса -- обратная сторона закона Ципфа. Он описывает, что чем больше корпус, тем меньше новых слов добавляется с добавлением новых текстов. В какой-то момент корпус насыщается."
   ]
  },
  {
   "cell_type": "code",
   "execution_count": 39,
   "metadata": {},
   "outputs": [
    {
     "data": {
      "text/plain": [
       "'!\"#$%&\\'()*+,-./:;<=>?@[\\\\]^_`{|}~'"
      ]
     },
     "execution_count": 39,
     "metadata": {},
     "output_type": "execute_result"
    }
   ],
   "source": [
    "from string import punctuation\n",
    "punctuation"
   ]
  },
  {
   "cell_type": "code",
   "execution_count": 40,
   "metadata": {},
   "outputs": [
    {
     "name": "stderr",
     "output_type": "stream",
     "text": [
      "100%|█████████████████████████████████████████████████████████████████████████████████████| 153499/153499 [17:40<00:00, 144.68it/s]\n"
     ]
    }
   ],
   "source": [
    "cnt = Counter()\n",
    "n_words = []\n",
    "n_tokens = []\n",
    "tokens = []\n",
    "for index, row in tqdm(df.iterrows(), total = len(df)):\n",
    "    tokens = word_tokenize(row['text'])\n",
    "    cnt.update([token for token in tokens if token not in punctuation])\n",
    "    n_words.append(len(cnt))\n",
    "    n_tokens.append(sum(list(cnt.values())))\n",
    "#     n_tokens.append(len(cnt.values()))"
   ]
  },
  {
   "cell_type": "code",
   "execution_count": 41,
   "metadata": {},
   "outputs": [
    {
     "data": {
      "image/png": "[encoded data removed]",
      "text/plain": [
       "<Figure size 432x288 with 1 Axes>"
      ]
     },
     "metadata": {
      "needs_background": "light"
     },
     "output_type": "display_data"
    }
   ],
   "source": [
    "fig, ax = plt.subplots()\n",
    "ax.plot(n_tokens, n_words)\n",
    "plt.show()"
   ]
  },
  {
   "cell_type": "markdown",
   "metadata": {},
   "source": [
    "#### 5. Ответьте на следующие вопросы:\n",
    "    - какое слово встречается чаще, \"сотрудник\" или \"клиент\"? - клиент\n",
    "    - сколько раз встречается слова \"мошенничество\" и \"доверие\"? - мошенничество"
   ]
  },
  {
   "cell_type": "code",
   "execution_count": 42,
   "metadata": {},
   "outputs": [
    {
     "name": "stdout",
     "output_type": "stream",
     "text": [
      "134168\n",
      "136892\n"
     ]
    }
   ],
   "source": [
    "print(freq_dict['сотрудник'])\n",
    "print(freq_dict['клиент'])"
   ]
  },
  {
   "cell_type": "code",
   "execution_count": 43,
   "metadata": {},
   "outputs": [
    {
     "name": "stdout",
     "output_type": "stream",
     "text": [
      "3244\n",
      "2108\n"
     ]
    }
   ],
   "source": [
    "print(freq_dict['мошенничество'])\n",
    "print(freq_dict['доверие'])"
   ]
  },
  {
   "cell_type": "markdown",
   "metadata": {},
   "source": [
    "#### 6. В поле \"rating_grade\" записана оценка отзыва по шкале от 1 до 5. Используйте меру $tf-idf$, для того, чтобы найти ключевые слова и биграмы для положительных отзывов (с оценкой 5) и отрицательных отзывов (с оценкой 1)"
   ]
  },
  {
   "cell_type": "code",
   "execution_count": 44,
   "metadata": {},
   "outputs": [],
   "source": [
    "from sklearn.feature_extraction.text import TfidfVectorizer"
   ]
  },
  {
   "cell_type": "code",
   "execution_count": 45,
   "metadata": {},
   "outputs": [],
   "source": [
    "df_grades = df[df['rating_grade'].notna()]"
   ]
  },
  {
   "cell_type": "code",
   "execution_count": 46,
   "metadata": {},
   "outputs": [
    {
     "data": {
      "text/plain": [
       "88658"
      ]
     },
     "execution_count": 46,
     "metadata": {},
     "output_type": "execute_result"
    }
   ],
   "source": [
    "len(df_grades)"
   ]
  },
  {
   "cell_type": "code",
   "execution_count": 47,
   "metadata": {},
   "outputs": [],
   "source": [
    "def get_tfidf_top_features(documents, ngram_range=(1,1), n_top=10):\n",
    "    vec = TfidfVectorizer(ngram_range=ngram_range, stop_words=stopwords_ru)\n",
    "    bow = vec.fit_transform(documents)\n",
    "    importance = np.argsort(np.asarray(bow.sum(axis=0)).ravel())[::-1]\n",
    "    tfidf_feature_names = np.array(vec.get_feature_names())\n",
    "    return tfidf_feature_names[importance[:n_top]]"
   ]
  },
  {
   "cell_type": "markdown",
   "metadata": {},
   "source": [
    "- оценка 5"
   ]
  },
  {
   "cell_type": "code",
   "execution_count": 48,
   "metadata": {},
   "outputs": [
    {
     "data": {
      "text/plain": [
       "array(['банк', 'карта', 'всё', 'вклад', 'кредит', 'очень', 'отделение',\n",
       "       'день', 'клиент', 'сотрудник'], dtype='<U80')"
      ]
     },
     "execution_count": 48,
     "metadata": {},
     "output_type": "execute_result"
    }
   ],
   "source": [
    "get_tfidf_top_features(documents=df[df['rating_grade'] == 5].text, ngram_range=(1,1), n_top=10)"
   ]
  },
  {
   "cell_type": "code",
   "execution_count": 49,
   "metadata": {
    "scrolled": true
   },
   "outputs": [
    {
     "data": {
      "text/plain": [
       "array(['интернет банк', 'кредитный карта', 'сотрудник банк',\n",
       "       'клиент банк', 'отделение банк', 'являться клиент',\n",
       "       'следующий день', 'всё вопрос', 'альфа банк', 'добрый день'],\n",
       "      dtype='<U118')"
      ]
     },
     "execution_count": 49,
     "metadata": {},
     "output_type": "execute_result"
    }
   ],
   "source": [
    "get_tfidf_top_features(documents=df[df['rating_grade'] == 5].text, ngram_range=(2,2), n_top=10)"
   ]
  },
  {
   "cell_type": "markdown",
   "metadata": {},
   "source": [
    "- оценка 1"
   ]
  },
  {
   "cell_type": "code",
   "execution_count": 50,
   "metadata": {},
   "outputs": [
    {
     "data": {
      "text/plain": [
       "array(['банк', 'карта', 'деньга', 'кредит', 'отделение', 'день', 'счёт',\n",
       "       'заявление', 'сотрудник', 'всё'], dtype='<U73')"
      ]
     },
     "execution_count": 50,
     "metadata": {},
     "output_type": "execute_result"
    }
   ],
   "source": [
    "get_tfidf_top_features(documents=df[df['rating_grade'] == 1].text, n_top=10)"
   ]
  },
  {
   "cell_type": "code",
   "execution_count": 51,
   "metadata": {},
   "outputs": [
    {
     "data": {
      "text/plain": [
       "array(['сотрудник банк', 'кредитный карта', 'денежный средство',\n",
       "       'отделение банк', 'написать заявление', 'горячий линия',\n",
       "       'ваш банк', 'колл центр', 'рабочий день', 'альфа банк'],\n",
       "      dtype='<U85')"
      ]
     },
     "execution_count": 51,
     "metadata": {},
     "output_type": "execute_result"
    }
   ],
   "source": [
    "get_tfidf_top_features(documents=df[df['rating_grade'] == 1].text, ngram_range=(2,2), n_top=10)"
   ]
  },
  {
   "cell_type": "markdown",
   "metadata": {},
   "source": [
    "### Часть 2. Тематическое моделирование\n",
    "1. Постройте несколько тематических моделей коллекции документов с разным числом тем. Приведите примеры понятных (интерпретируемых) тем.\n",
    "2. Найдите темы, в которых упомянуты конкретные банки (Сбербанк, ВТБ, другой банк). Можете ли вы их прокомментировать / объяснить?\n",
    "Эта часть задания может быть сделана с использованием gensim."
   ]
  },
  {
   "cell_type": "code",
   "execution_count": 52,
   "metadata": {},
   "outputs": [],
   "source": [
    "from sklearn.manifold import TSNE\n",
    "from sklearn.decomposition import TruncatedSVD\n",
    "from sklearn.pipeline import Pipeline\n",
    "from sklearn.preprocessing import Normalizer\n",
    "from sklearn.feature_extraction.text import TfidfVectorizer"
   ]
  },
  {
   "cell_type": "code",
   "execution_count": 57,
   "metadata": {},
   "outputs": [],
   "source": [
    "from gensim.corpora import Dictionary\n",
    "from gensim.models import TfidfModel\n",
    "from gensim import similarities"
   ]
  },
  {
   "cell_type": "code",
   "execution_count": 58,
   "metadata": {},
   "outputs": [],
   "source": [
    "texts = [text.split() for text in df.text]\n",
    "dictionary = Dictionary(texts)\n",
    "corpus = [dictionary.doc2bow(text) for text in texts]"
   ]
  },
  {
   "cell_type": "code",
   "execution_count": 59,
   "metadata": {},
   "outputs": [],
   "source": [
    "tfidf = TfidfModel(corpus)\n",
    "corpus_tfidf = tfidf[corpus]"
   ]
  },
  {
   "cell_type": "code",
   "execution_count": 63,
   "metadata": {},
   "outputs": [],
   "source": [
    "from gensim.models import lsimodel"
   ]
  },
  {
   "cell_type": "code",
   "execution_count": 64,
   "metadata": {},
   "outputs": [
    {
     "name": "stdout",
     "output_type": "stream",
     "text": [
      "Wall time: 6min 4s\n"
     ]
    }
   ],
   "source": [
    "%%time\n",
    "lsi = lsimodel.LsiModel(corpus=corpus_tfidf, id2word=dictionary, num_topics=10)"
   ]
  },
  {
   "cell_type": "code",
   "execution_count": 65,
   "metadata": {},
   "outputs": [
    {
     "data": {
      "text/plain": [
       "[(0,\n",
       "  '0.197*\"карта\" + 0.135*\"кредит\" + 0.117*\"деньга\" + 0.111*\"заявление\" + 0.109*\"счёт\" + 0.102*\"вклад\" + 0.102*\"банкомат\" + 0.102*\"отделение\" + 0.098*\"сбербанк\" + 0.098*\"сумма\"'),\n",
       " (1,\n",
       "  '-0.420*\"вклад\" + 0.355*\"кредит\" + -0.188*\"банкомат\" + 0.162*\"страховка\" + 0.154*\"платёж\" + -0.154*\"карта\" + 0.149*\"задолженность\" + 0.141*\"погашение\" + -0.112*\"очередь\" + 0.111*\"погасить\"'),\n",
       " (2,\n",
       "  '-0.479*\"вклад\" + 0.272*\"банкомат\" + 0.227*\"карта\" + 0.205*\"сбербанк\" + -0.158*\"кредит\" + 0.130*\"заявление\" + -0.129*\"договор\" + 0.128*\"операция\" + 0.120*\"средство\" + 0.119*\"деньга\"'),\n",
       " (3,\n",
       "  '-0.274*\"вклад\" + -0.214*\"сумма\" + 0.202*\"заявка\" + 0.187*\"номер\" + -0.182*\"руб\" + -0.157*\"договор\" + -0.157*\"платёж\" + -0.154*\"погашение\" + -0.144*\"рубль\" + -0.143*\"средство\"'),\n",
       " (4,\n",
       "  '-0.449*\"карта\" + 0.296*\"банкомат\" + -0.197*\"лимит\" + -0.188*\"кредитный\" + 0.166*\"номер\" + 0.127*\"терминал\" + 0.124*\"звонок\" + 0.123*\"деньга\" + 0.120*\"купюра\" + -0.117*\"комиссия\"')]"
      ]
     },
     "execution_count": 65,
     "metadata": {},
     "output_type": "execute_result"
    }
   ],
   "source": [
    "lsi.show_topics(5)"
   ]
  },
  {
   "cell_type": "markdown",
   "metadata": {},
   "source": [
    "- первая тема говорит о кредите и вкладе, деньгах и картах\n",
    "- вторая тема похоже говорит больше о кредите, а не вкладе, страховках и задолженностях\n",
    "- третья тема говорит снятие денег в банкомате сбербанка\n",
    "- 4-ая тема видимо говорит о заявке, может быть о кредите или что-то подобное\n",
    "- 5-ая тема говорит о банкомате, терминалах и купюрах"
   ]
  },
  {
   "cell_type": "code",
   "execution_count": null,
   "metadata": {},
   "outputs": [],
   "source": []
  },
  {
   "cell_type": "markdown",
   "metadata": {},
   "source": [
    "### Часть 3. Классификация текстов\n",
    "Сформулируем для простоты задачу бинарной классификации: будем классифицировать на два класса, то есть, различать резко отрицательные отзывы (с оценкой 1) и положительные отзывы (с оценкой 5).\n",
    "\n",
    "1. Составьте обучающее и тестовое множество: выберите из всего набора данных N1 отзывов с оценкой 1 и N2 отзывов с оценкой 5 (значение N1 и N2 – на ваше усмотрение). Используйте sklearn.model_selection.train_test_split для разделения множества отобранных документов на обучающее и тестовое.\n",
    "2. Используйте любой известный вам алгоритм классификации текстов для решения задачи и получите baseline. Сравните разные варианты векторизации текста: использование только униграм, пар или троек слов или с использованием символьных $n$-грам.\n",
    "3. Сравните, как изменяется качество решения задачи при использовании скрытых тем в качестве признаков:\n",
    "- 1-ый вариант: $tf-idf$ преобразование (sklearn.feature_extraction.text.TfidfTransformer) и сингулярное разложение (оно же – латентый семантический анализ) (sklearn.decomposition.TruncatedSVD),\n",
    "- 2-ой вариант: тематические модели LDA (sklearn.decomposition.LatentDirichletAllocation).\n",
    "Используйте accuracy и F-measure для оценки качества классификации."
   ]
  },
  {
   "cell_type": "code",
   "execution_count": 66,
   "metadata": {},
   "outputs": [
    {
     "data": {
      "text/html": [
       "<div>\n",
       "<style scoped>\n",
       "    .dataframe tbody tr th:only-of-type {\n",
       "        vertical-align: middle;\n",
       "    }\n",
       "\n",
       "    .dataframe tbody tr th {\n",
       "        vertical-align: top;\n",
       "    }\n",
       "\n",
       "    .dataframe thead th {\n",
       "        text-align: right;\n",
       "    }\n",
       "</style>\n",
       "<table border=\"1\" class=\"dataframe\">\n",
       "  <thead>\n",
       "    <tr style=\"text-align: right;\">\n",
       "      <th></th>\n",
       "      <th>city</th>\n",
       "      <th>rating_not_checked</th>\n",
       "      <th>title</th>\n",
       "      <th>num_comments</th>\n",
       "      <th>bank_license</th>\n",
       "      <th>author</th>\n",
       "      <th>bank_name</th>\n",
       "      <th>datetime</th>\n",
       "      <th>text</th>\n",
       "      <th>rating_grade</th>\n",
       "      <th>symbol_length</th>\n",
       "      <th>word_length</th>\n",
       "    </tr>\n",
       "  </thead>\n",
       "  <tbody>\n",
       "    <tr>\n",
       "      <th>19</th>\n",
       "      <td>г. Москва</td>\n",
       "      <td>False</td>\n",
       "      <td>Некомпетентность сотрудников банка</td>\n",
       "      <td>2</td>\n",
       "      <td>лицензия № 1481</td>\n",
       "      <td>agelun</td>\n",
       "      <td>Сбербанк России</td>\n",
       "      <td>2015-06-05 15:00:54</td>\n",
       "      <td>открыть вклад счёт плюс зарплатный карта рубль...</td>\n",
       "      <td>1.0</td>\n",
       "      <td>2214</td>\n",
       "      <td>339</td>\n",
       "    </tr>\n",
       "    <tr>\n",
       "      <th>33</th>\n",
       "      <td>г. Ростов-на-Дону</td>\n",
       "      <td>False</td>\n",
       "      <td>Навязывание страховки</td>\n",
       "      <td>1</td>\n",
       "      <td>лицензия № 1481</td>\n",
       "      <td>Joker888</td>\n",
       "      <td>Сбербанк России</td>\n",
       "      <td>2015-06-05 21:35:40</td>\n",
       "      <td>добрый время вчера поступить смс уведомление б...</td>\n",
       "      <td>1.0</td>\n",
       "      <td>2159</td>\n",
       "      <td>313</td>\n",
       "    </tr>\n",
       "    <tr>\n",
       "      <th>76</th>\n",
       "      <td>г. Санкт-Петербург</td>\n",
       "      <td>False</td>\n",
       "      <td>Нарушение договора банковского вклада</td>\n",
       "      <td>0</td>\n",
       "      <td>лицензия № 3006</td>\n",
       "      <td>qwarta45</td>\n",
       "      <td>АктивКапитал Банк</td>\n",
       "      <td>2015-06-06 23:42:39</td>\n",
       "      <td>г около час прийти указанный офис намерение по...</td>\n",
       "      <td>1.0</td>\n",
       "      <td>1262</td>\n",
       "      <td>185</td>\n",
       "    </tr>\n",
       "    <tr>\n",
       "      <th>85</th>\n",
       "      <td>г. Москва</td>\n",
       "      <td>False</td>\n",
       "      <td>Невозможно оплатить отчисления на капремонт \"Т...</td>\n",
       "      <td>4</td>\n",
       "      <td>лицензия № 1481</td>\n",
       "      <td>721</td>\n",
       "      <td>Сбербанк России</td>\n",
       "      <td>2015-06-04 13:27:04</td>\n",
       "      <td>оплата коммунальный платёж пользоваться пласти...</td>\n",
       "      <td>1.0</td>\n",
       "      <td>412</td>\n",
       "      <td>56</td>\n",
       "    </tr>\n",
       "    <tr>\n",
       "      <th>94</th>\n",
       "      <td>г. Чапаевск</td>\n",
       "      <td>False</td>\n",
       "      <td>Некомпетентность сотрудника Сбербанка при пров...</td>\n",
       "      <td>16</td>\n",
       "      <td>лицензия № 1481</td>\n",
       "      <td>usmanovaket</td>\n",
       "      <td>Сбербанк России</td>\n",
       "      <td>2015-06-03 16:00:12</td>\n",
       "      <td>апрель год прийти отделение сбербанк г чапаевс...</td>\n",
       "      <td>1.0</td>\n",
       "      <td>1663</td>\n",
       "      <td>265</td>\n",
       "    </tr>\n",
       "  </tbody>\n",
       "</table>\n",
       "</div>"
      ],
      "text/plain": [
       "                  city  rating_not_checked  \\\n",
       "19           г. Москва               False   \n",
       "33   г. Ростов-на-Дону               False   \n",
       "76  г. Санкт-Петербург               False   \n",
       "85           г. Москва               False   \n",
       "94         г. Чапаевск               False   \n",
       "\n",
       "                                                title  num_comments  \\\n",
       "19                 Некомпетентность сотрудников банка             2   \n",
       "33                              Навязывание страховки             1   \n",
       "76              Нарушение договора банковского вклада             0   \n",
       "85  Невозможно оплатить отчисления на капремонт \"Т...             4   \n",
       "94  Некомпетентность сотрудника Сбербанка при пров...            16   \n",
       "\n",
       "       bank_license       author          bank_name             datetime  \\\n",
       "19  лицензия № 1481       agelun    Сбербанк России  2015-06-05 15:00:54   \n",
       "33  лицензия № 1481     Joker888    Сбербанк России  2015-06-05 21:35:40   \n",
       "76  лицензия № 3006     qwarta45  АктивКапитал Банк  2015-06-06 23:42:39   \n",
       "85  лицензия № 1481          721    Сбербанк России  2015-06-04 13:27:04   \n",
       "94  лицензия № 1481  usmanovaket    Сбербанк России  2015-06-03 16:00:12   \n",
       "\n",
       "                                                 text  rating_grade  \\\n",
       "19  открыть вклад счёт плюс зарплатный карта рубль...           1.0   \n",
       "33  добрый время вчера поступить смс уведомление б...           1.0   \n",
       "76  г около час прийти указанный офис намерение по...           1.0   \n",
       "85  оплата коммунальный платёж пользоваться пласти...           1.0   \n",
       "94  апрель год прийти отделение сбербанк г чапаевс...           1.0   \n",
       "\n",
       "    symbol_length  word_length  \n",
       "19           2214          339  \n",
       "33           2159          313  \n",
       "76           1262          185  \n",
       "85            412           56  \n",
       "94           1663          265  "
      ]
     },
     "execution_count": 66,
     "metadata": {},
     "output_type": "execute_result"
    }
   ],
   "source": [
    "df_grades = df[(df['rating_grade'] == 1) | (df['rating_grade'] == 5)]\n",
    "df_grades.head()"
   ]
  },
  {
   "cell_type": "code",
   "execution_count": 67,
   "metadata": {
    "scrolled": true
   },
   "outputs": [
    {
     "data": {
      "text/plain": [
       "1.0    47387\n",
       "5.0    14713\n",
       "Name: rating_grade, dtype: int64"
      ]
     },
     "execution_count": 67,
     "metadata": {},
     "output_type": "execute_result"
    }
   ],
   "source": [
    "df_grades['rating_grade'].value_counts()"
   ]
  },
  {
   "cell_type": "code",
   "execution_count": 74,
   "metadata": {},
   "outputs": [
    {
     "data": {
      "text/html": [
       "<div>\n",
       "<style scoped>\n",
       "    .dataframe tbody tr th:only-of-type {\n",
       "        vertical-align: middle;\n",
       "    }\n",
       "\n",
       "    .dataframe tbody tr th {\n",
       "        vertical-align: top;\n",
       "    }\n",
       "\n",
       "    .dataframe thead th {\n",
       "        text-align: right;\n",
       "    }\n",
       "</style>\n",
       "<table border=\"1\" class=\"dataframe\">\n",
       "  <thead>\n",
       "    <tr style=\"text-align: right;\">\n",
       "      <th></th>\n",
       "      <th>city</th>\n",
       "      <th>rating_not_checked</th>\n",
       "      <th>title</th>\n",
       "      <th>num_comments</th>\n",
       "      <th>bank_license</th>\n",
       "      <th>author</th>\n",
       "      <th>bank_name</th>\n",
       "      <th>datetime</th>\n",
       "      <th>text</th>\n",
       "      <th>rating_grade</th>\n",
       "      <th>symbol_length</th>\n",
       "      <th>word_length</th>\n",
       "    </tr>\n",
       "  </thead>\n",
       "  <tbody>\n",
       "    <tr>\n",
       "      <th>0</th>\n",
       "      <td>г. Санкт-Петербург</td>\n",
       "      <td>False</td>\n",
       "      <td>\"Не работает по техническим причинам\"...</td>\n",
       "      <td>3</td>\n",
       "      <td>лицензия № 2810 (отозвана)</td>\n",
       "      <td>iechechik</td>\n",
       "      <td>Русский Земельный Банк</td>\n",
       "      <td>2014-03-17 10:41:00</td>\n",
       "      <td>суббота должный закончиться вклад спб офис поэ...</td>\n",
       "      <td>1.0</td>\n",
       "      <td>576</td>\n",
       "      <td>89</td>\n",
       "    </tr>\n",
       "    <tr>\n",
       "      <th>1</th>\n",
       "      <td>г. Биробиджан</td>\n",
       "      <td>False</td>\n",
       "      <td>Не могу закрыть счет по кредитной карте</td>\n",
       "      <td>3</td>\n",
       "      <td>лицензия № 2766</td>\n",
       "      <td>zim.irin2011</td>\n",
       "      <td>ОТП Банк</td>\n",
       "      <td>2012-09-09 11:28:00</td>\n",
       "      <td>дважды писать заявление закрытие счёт ваш банк...</td>\n",
       "      <td>1.0</td>\n",
       "      <td>672</td>\n",
       "      <td>108</td>\n",
       "    </tr>\n",
       "    <tr>\n",
       "      <th>2</th>\n",
       "      <td>г. Москва</td>\n",
       "      <td>False</td>\n",
       "      <td>Бесчеловечно, бессердечно и непрофессионально!</td>\n",
       "      <td>2</td>\n",
       "      <td>лицензия № 2748</td>\n",
       "      <td>Babylya008</td>\n",
       "      <td>Банк Москвы</td>\n",
       "      <td>2015-05-14 14:14:00</td>\n",
       "      <td>возможность поставить оценка добрый день весь ...</td>\n",
       "      <td>1.0</td>\n",
       "      <td>2888</td>\n",
       "      <td>428</td>\n",
       "    </tr>\n",
       "    <tr>\n",
       "      <th>3</th>\n",
       "      <td>г. Новосибирск</td>\n",
       "      <td>False</td>\n",
       "      <td>Внесите деньги сегодня - получите через полтор...</td>\n",
       "      <td>3</td>\n",
       "      <td>лицензия № 1481</td>\n",
       "      <td>Janke86</td>\n",
       "      <td>Сбербанк России</td>\n",
       "      <td>2014-05-27 12:14:00</td>\n",
       "      <td>май пытаться пополнить карта сбербанк банкомат...</td>\n",
       "      <td>1.0</td>\n",
       "      <td>727</td>\n",
       "      <td>113</td>\n",
       "    </tr>\n",
       "    <tr>\n",
       "      <th>4</th>\n",
       "      <td>г. Санкт-Петербург</td>\n",
       "      <td>False</td>\n",
       "      <td>Неисполнение обязательств банком Ренессанс Кап...</td>\n",
       "      <td>4</td>\n",
       "      <td>лицензия № 3354</td>\n",
       "      <td>Fetiskina</td>\n",
       "      <td>Ренессанс Кредит</td>\n",
       "      <td>2012-05-11 00:45:00</td>\n",
       "      <td>проблема взять кредит точнее выплачивать кажды...</td>\n",
       "      <td>1.0</td>\n",
       "      <td>2550</td>\n",
       "      <td>396</td>\n",
       "    </tr>\n",
       "  </tbody>\n",
       "</table>\n",
       "</div>"
      ],
      "text/plain": [
       "                 city  rating_not_checked  \\\n",
       "0  г. Санкт-Петербург               False   \n",
       "1       г. Биробиджан               False   \n",
       "2           г. Москва               False   \n",
       "3      г. Новосибирск               False   \n",
       "4  г. Санкт-Петербург               False   \n",
       "\n",
       "                                               title  num_comments  \\\n",
       "0           \"Не работает по техническим причинам\"...             3   \n",
       "1            Не могу закрыть счет по кредитной карте             3   \n",
       "2     Бесчеловечно, бессердечно и непрофессионально!             2   \n",
       "3  Внесите деньги сегодня - получите через полтор...             3   \n",
       "4  Неисполнение обязательств банком Ренессанс Кап...             4   \n",
       "\n",
       "                 bank_license        author               bank_name  \\\n",
       "0  лицензия № 2810 (отозвана)     iechechik  Русский Земельный Банк   \n",
       "1             лицензия № 2766  zim.irin2011                ОТП Банк   \n",
       "2             лицензия № 2748    Babylya008             Банк Москвы   \n",
       "3             лицензия № 1481       Janke86         Сбербанк России   \n",
       "4             лицензия № 3354     Fetiskina        Ренессанс Кредит   \n",
       "\n",
       "              datetime                                               text  \\\n",
       "0  2014-03-17 10:41:00  суббота должный закончиться вклад спб офис поэ...   \n",
       "1  2012-09-09 11:28:00  дважды писать заявление закрытие счёт ваш банк...   \n",
       "2  2015-05-14 14:14:00  возможность поставить оценка добрый день весь ...   \n",
       "3  2014-05-27 12:14:00  май пытаться пополнить карта сбербанк банкомат...   \n",
       "4  2012-05-11 00:45:00  проблема взять кредит точнее выплачивать кажды...   \n",
       "\n",
       "   rating_grade  symbol_length  word_length  \n",
       "0           1.0            576           89  \n",
       "1           1.0            672          108  \n",
       "2           1.0           2888          428  \n",
       "3           1.0            727          113  \n",
       "4           1.0           2550          396  "
      ]
     },
     "execution_count": 74,
     "metadata": {},
     "output_type": "execute_result"
    }
   ],
   "source": [
    "df_grades = pd.concat([df[(df['rating_grade'] == 1)].sample(10000), df[(df['rating_grade'] == 5)].sample(10000)]).reset_index(drop=True)\n",
    "df_grades.head()"
   ]
  },
  {
   "cell_type": "code",
   "execution_count": 75,
   "metadata": {
    "scrolled": true
   },
   "outputs": [
    {
     "data": {
      "text/plain": [
       "5.0    10000\n",
       "1.0    10000\n",
       "Name: rating_grade, dtype: int64"
      ]
     },
     "execution_count": 75,
     "metadata": {},
     "output_type": "execute_result"
    }
   ],
   "source": [
    "df_grades['rating_grade'].value_counts()"
   ]
  },
  {
   "cell_type": "code",
   "execution_count": 76,
   "metadata": {},
   "outputs": [],
   "source": [
    "from sklearn.model_selection import train_test_split\n",
    "from sklearn.linear_model import LogisticRegression\n",
    "from sklearn.metrics import accuracy_score, f1_score, classification_report\n",
    "from sklearn.decomposition import LatentDirichletAllocation\n",
    "from sklearn.pipeline import Pipeline\n",
    "from sklearn.ensemble import RandomForestClassifier\n",
    "from sklearn.feature_extraction.text import CountVectorizer, TfidfTransformer"
   ]
  },
  {
   "cell_type": "code",
   "execution_count": 77,
   "metadata": {},
   "outputs": [],
   "source": [
    "x_train, x_test, y_train, y_test = train_test_split(df_grades.text, df_grades.rating_grade, random_state=0)"
   ]
  },
  {
   "cell_type": "code",
   "execution_count": 78,
   "metadata": {},
   "outputs": [
    {
     "name": "stdout",
     "output_type": "stream",
     "text": [
      "(20000, 12)\n",
      "(15000,)\n",
      "(5000,)\n"
     ]
    }
   ],
   "source": [
    "print(df_grades.shape)\n",
    "print(x_train.shape)\n",
    "print(x_test.shape)"
   ]
  },
  {
   "cell_type": "code",
   "execution_count": 79,
   "metadata": {},
   "outputs": [],
   "source": [
    "def text_classification(X, y, clf):\n",
    "    x_train, x_test, y_train, y_test = train_test_split(X, y, random_state=0)\n",
    "    clf.fit(x_train, y_train)\n",
    "    y_pred = clf.predict(x_test)\n",
    "    accuracy, f_measure = accuracy_score(y_test, y_pred), f1_score(y_test, y_pred) # F-measure\n",
    "    print(f'accuracy: {accuracy:.2}, F-measure: {f_measure:.2}')"
   ]
  },
  {
   "cell_type": "code",
   "execution_count": 81,
   "metadata": {},
   "outputs": [
    {
     "name": "stdout",
     "output_type": "stream",
     "text": [
      "accuracy: 0.65, F-measure: 0.65\n"
     ]
    }
   ],
   "source": [
    "# 1-ый вариант: tf-idf + LSI\n",
    "clf = Pipeline([ \n",
    "    ('vect', CountVectorizer()), \n",
    "    ('tfidf', TfidfTransformer()), \n",
    "    ('tm', TruncatedSVD()), \n",
    "    ('clf', RandomForestClassifier())\n",
    "])\n",
    "\n",
    "text_classification(df_grades.text, df_grades.rating_grade, clf)"
   ]
  },
  {
   "cell_type": "code",
   "execution_count": 82,
   "metadata": {},
   "outputs": [
    {
     "name": "stdout",
     "output_type": "stream",
     "text": [
      "accuracy: 0.76, F-measure: 0.76\n"
     ]
    }
   ],
   "source": [
    "# учет только биграмм\n",
    "clf = Pipeline([ \n",
    "    ('vect', CountVectorizer(ngram_range=(2, 2),)), \n",
    "    ('tfidf', TfidfTransformer()), \n",
    "    ('tm', TruncatedSVD()), \n",
    "    ('clf', RandomForestClassifier())\n",
    "])\n",
    "\n",
    "text_classification(df_grades.text, df_grades.rating_grade, clf)"
   ]
  },
  {
   "cell_type": "code",
   "execution_count": 83,
   "metadata": {},
   "outputs": [
    {
     "name": "stdout",
     "output_type": "stream",
     "text": [
      "accuracy: 0.52, F-measure: 0.54\n"
     ]
    }
   ],
   "source": [
    "# учет только триграмм\n",
    "clf = Pipeline([ \n",
    "    ('vect', CountVectorizer(ngram_range=(3, 3),)), \n",
    "    ('tfidf', TfidfTransformer()), \n",
    "    ('tm', TruncatedSVD()), \n",
    "    ('clf', RandomForestClassifier())\n",
    "])\n",
    "\n",
    "text_classification(df_grades.text, df_grades.rating_grade, clf)"
   ]
  },
  {
   "cell_type": "code",
   "execution_count": 84,
   "metadata": {},
   "outputs": [
    {
     "name": "stdout",
     "output_type": "stream",
     "text": [
      "accuracy: 0.88, F-measure: 0.88\n"
     ]
    }
   ],
   "source": [
    "# 2-ой вариант: LDA\n",
    "clf = Pipeline([\n",
    "    ('vect', CountVectorizer(analyzer = 'char', ngram_range={4,6})),\n",
    "    ('tm', LatentDirichletAllocation()),\n",
    "    ('clf', RandomForestClassifier()),\n",
    "])\n",
    "\n",
    "text_classification(df_grades.text, df_grades.rating_grade, clf)"
   ]
  },
  {
   "cell_type": "markdown",
   "metadata": {},
   "source": [
    "## Лучшее качество показала тематическая модель LDA"
   ]
  },
  {
   "cell_type": "code",
   "execution_count": null,
   "metadata": {},
   "outputs": [],
   "source": []
  }
 ],
 "metadata": {
  "colab": {
   "collapsed_sections": [],
   "name": "HW1_banki_TM-and-classification.ipynb",
   "provenance": []
  },
  "kernelspec": {
   "display_name": "Python 3",
   "language": "python",
   "name": "python3"
  },
  "language_info": {
   "codemirror_mode": {
    "name": "ipython",
    "version": 3
   },
   "file_extension": ".py",
   "mimetype": "text/x-python",
   "name": "python",
   "nbconvert_exporter": "python",
   "pygments_lexer": "ipython3",
   "version": "3.8.3"
  }
 },
 "nbformat": 4,
 "nbformat_minor": 1
}
